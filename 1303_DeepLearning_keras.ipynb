{
  "cells": [
    {
      "cell_type": "markdown",
      "metadata": {
        "id": "view-in-github",
        "colab_type": "text"
      },
      "source": [
        "<a href=\"https://colab.research.google.com/github/lmcanavals/ml/blob/main/1303_DeepLearning_keras.ipynb\" target=\"_parent\"><img src=\"https://colab.research.google.com/assets/colab-badge.svg\" alt=\"Open In Colab\"/></a>"
      ]
    },
    {
      "cell_type": "markdown",
      "metadata": {
        "id": "IoWRtSJbVhJL"
      },
      "source": [
        "# Simple MNIST convnet\n",
        "\n",
        "**Author:** [fchollet](https://twitter.com/fchollet)<br>\n",
        "**Date created:** 2015/06/19<br>\n",
        "**Last modified:** 2020/04/21<br>\n",
        "**Description:** A simple convnet that achieves ~99% test accuracy on MNIST."
      ]
    },
    {
      "cell_type": "markdown",
      "metadata": {
        "id": "A-mSkw0RVhJO"
      },
      "source": [
        "## Setup"
      ]
    },
    {
      "cell_type": "code",
      "execution_count": 1,
      "metadata": {
        "id": "DduuyRgWVhJP"
      },
      "outputs": [],
      "source": [
        "import numpy as np\n",
        "from tensorflow import keras\n",
        "from tensorflow.keras import layers"
      ]
    },
    {
      "cell_type": "markdown",
      "metadata": {
        "id": "w11dn1YEVhJQ"
      },
      "source": [
        "## Prepare the data"
      ]
    },
    {
      "cell_type": "code",
      "execution_count": 2,
      "metadata": {
        "id": "THAhDsxFVhJR",
        "colab": {
          "base_uri": "https://localhost:8080/"
        },
        "outputId": "ccb13514-27ab-4767-eed0-d6e09e2b560d"
      },
      "outputs": [
        {
          "output_type": "stream",
          "name": "stdout",
          "text": [
            "Downloading data from https://storage.googleapis.com/tensorflow/tf-keras-datasets/train-labels-idx1-ubyte.gz\n",
            "29515/29515 [==============================] - 0s 0us/step\n",
            "Downloading data from https://storage.googleapis.com/tensorflow/tf-keras-datasets/train-images-idx3-ubyte.gz\n",
            "26421880/26421880 [==============================] - 0s 0us/step\n",
            "Downloading data from https://storage.googleapis.com/tensorflow/tf-keras-datasets/t10k-labels-idx1-ubyte.gz\n",
            "5148/5148 [==============================] - 0s 0us/step\n",
            "Downloading data from https://storage.googleapis.com/tensorflow/tf-keras-datasets/t10k-images-idx3-ubyte.gz\n",
            "4422102/4422102 [==============================] - 0s 0us/step\n",
            "x_train shape: (60000, 28, 28, 1)\n",
            "60000 train samples\n",
            "10000 test samples\n"
          ]
        }
      ],
      "source": [
        "# Model / data parameters\n",
        "num_classes = 10\n",
        "input_shape = (28, 28, 1)\n",
        "\n",
        "# Load the data and split it between train and test sets\n",
        "(x_train, y_train), (x_test, y_test) = keras.datasets.fashion_mnist.load_data()\n",
        "\n",
        "# Scale images to the [0, 1] range\n",
        "x_train = x_train.astype(\"float32\") / 255\n",
        "x_test = x_test.astype(\"float32\") / 255\n",
        "# Make sure images have shape (28, 28, 1)\n",
        "x_train = np.expand_dims(x_train, -1)\n",
        "x_test = np.expand_dims(x_test, -1)\n",
        "print(\"x_train shape:\", x_train.shape)\n",
        "print(x_train.shape[0], \"train samples\")\n",
        "print(x_test.shape[0], \"test samples\")\n",
        "\n",
        "\n",
        "# convert class vectors to binary class matrices\n",
        "y_train = keras.utils.to_categorical(y_train, num_classes)\n",
        "y_test = keras.utils.to_categorical(y_test, num_classes)"
      ]
    },
    {
      "cell_type": "markdown",
      "metadata": {
        "id": "cBe9yH9VVhJS"
      },
      "source": [
        "## Build the model"
      ]
    },
    {
      "cell_type": "code",
      "execution_count": 3,
      "metadata": {
        "id": "wYnHSzUNVhJS",
        "colab": {
          "base_uri": "https://localhost:8080/"
        },
        "outputId": "d999a8d1-9131-4434-c860-f140657865ee"
      },
      "outputs": [
        {
          "output_type": "stream",
          "name": "stdout",
          "text": [
            "Model: \"sequential\"\n",
            "_________________________________________________________________\n",
            " Layer (type)                Output Shape              Param #   \n",
            "=================================================================\n",
            " conv2d (Conv2D)             (None, 26, 26, 32)        320       \n",
            "                                                                 \n",
            " max_pooling2d (MaxPooling2D  (None, 13, 13, 32)       0         \n",
            " )                                                               \n",
            "                                                                 \n",
            " conv2d_1 (Conv2D)           (None, 11, 11, 64)        18496     \n",
            "                                                                 \n",
            " max_pooling2d_1 (MaxPooling  (None, 5, 5, 64)         0         \n",
            " 2D)                                                             \n",
            "                                                                 \n",
            " flatten (Flatten)           (None, 1600)              0         \n",
            "                                                                 \n",
            " dropout (Dropout)           (None, 1600)              0         \n",
            "                                                                 \n",
            " dense (Dense)               (None, 10)                16010     \n",
            "                                                                 \n",
            "=================================================================\n",
            "Total params: 34,826\n",
            "Trainable params: 34,826\n",
            "Non-trainable params: 0\n",
            "_________________________________________________________________\n"
          ]
        }
      ],
      "source": [
        "model = keras.Sequential(\n",
        "    [\n",
        "        keras.Input(shape=input_shape),\n",
        "        layers.Conv2D(32, kernel_size=(3, 3), activation=\"relu\"),\n",
        "        layers.MaxPooling2D(pool_size=(2, 2)),\n",
        "        layers.Conv2D(64, kernel_size=(3, 3), activation=\"relu\"),\n",
        "        layers.MaxPooling2D(pool_size=(2, 2)),\n",
        "        layers.Flatten(),\n",
        "        layers.Dropout(0.5),\n",
        "        layers.Dense(num_classes, activation=\"softmax\"),\n",
        "    ]\n",
        ")\n",
        "\n",
        "model.summary()"
      ]
    },
    {
      "cell_type": "markdown",
      "metadata": {
        "id": "1XXhGVKOVhJT"
      },
      "source": [
        "## Train the model"
      ]
    },
    {
      "cell_type": "code",
      "execution_count": 4,
      "metadata": {
        "id": "m5xWw1cmVhJT",
        "colab": {
          "base_uri": "https://localhost:8080/"
        },
        "outputId": "00a7cf65-b14a-4bd6-ef2b-7e13a08ca3a4"
      },
      "outputs": [
        {
          "output_type": "stream",
          "name": "stdout",
          "text": [
            "Epoch 1/15\n",
            "422/422 [==============================] - 48s 111ms/step - loss: 0.6967 - accuracy: 0.7454 - val_loss: 0.4474 - val_accuracy: 0.8385\n",
            "Epoch 2/15\n",
            "422/422 [==============================] - 46s 109ms/step - loss: 0.4549 - accuracy: 0.8351 - val_loss: 0.3844 - val_accuracy: 0.8645\n",
            "Epoch 3/15\n",
            "422/422 [==============================] - 46s 110ms/step - loss: 0.4036 - accuracy: 0.8552 - val_loss: 0.3518 - val_accuracy: 0.8733\n",
            "Epoch 4/15\n",
            "422/422 [==============================] - 45s 107ms/step - loss: 0.3713 - accuracy: 0.8673 - val_loss: 0.3363 - val_accuracy: 0.8808\n",
            "Epoch 5/15\n",
            "422/422 [==============================] - 45s 107ms/step - loss: 0.3518 - accuracy: 0.8740 - val_loss: 0.3137 - val_accuracy: 0.8870\n",
            "Epoch 6/15\n",
            "422/422 [==============================] - 47s 111ms/step - loss: 0.3342 - accuracy: 0.8793 - val_loss: 0.3100 - val_accuracy: 0.8862\n",
            "Epoch 7/15\n",
            "422/422 [==============================] - 45s 107ms/step - loss: 0.3241 - accuracy: 0.8831 - val_loss: 0.2871 - val_accuracy: 0.8957\n",
            "Epoch 8/15\n",
            "422/422 [==============================] - 45s 107ms/step - loss: 0.3141 - accuracy: 0.8881 - val_loss: 0.2954 - val_accuracy: 0.8902\n",
            "Epoch 9/15\n",
            "422/422 [==============================] - 45s 107ms/step - loss: 0.3035 - accuracy: 0.8911 - val_loss: 0.2830 - val_accuracy: 0.9003\n",
            "Epoch 10/15\n",
            "422/422 [==============================] - 45s 107ms/step - loss: 0.2942 - accuracy: 0.8928 - val_loss: 0.2737 - val_accuracy: 0.8993\n",
            "Epoch 11/15\n",
            "422/422 [==============================] - 45s 107ms/step - loss: 0.2891 - accuracy: 0.8961 - val_loss: 0.2683 - val_accuracy: 0.9022\n",
            "Epoch 12/15\n",
            "422/422 [==============================] - 47s 111ms/step - loss: 0.2831 - accuracy: 0.8974 - val_loss: 0.2618 - val_accuracy: 0.9068\n",
            "Epoch 13/15\n",
            "422/422 [==============================] - 45s 106ms/step - loss: 0.2762 - accuracy: 0.9001 - val_loss: 0.2605 - val_accuracy: 0.9072\n",
            "Epoch 14/15\n",
            "422/422 [==============================] - 45s 106ms/step - loss: 0.2728 - accuracy: 0.9004 - val_loss: 0.2525 - val_accuracy: 0.9083\n",
            "Epoch 15/15\n",
            "422/422 [==============================] - 45s 107ms/step - loss: 0.2688 - accuracy: 0.9020 - val_loss: 0.2521 - val_accuracy: 0.9070\n"
          ]
        },
        {
          "output_type": "execute_result",
          "data": {
            "text/plain": [
              "<keras.callbacks.History at 0x7f0676a86ad0>"
            ]
          },
          "metadata": {},
          "execution_count": 4
        }
      ],
      "source": [
        "batch_size = 128\n",
        "epochs = 15\n",
        "\n",
        "model.compile(loss=\"categorical_crossentropy\", optimizer=\"adam\", metrics=[\"accuracy\"])\n",
        "\n",
        "model.fit(x_train, y_train, batch_size=batch_size, epochs=epochs, validation_split=0.1)"
      ]
    },
    {
      "cell_type": "markdown",
      "metadata": {
        "id": "HOvyhpk5VhJU"
      },
      "source": [
        "## Evaluate the trained model"
      ]
    },
    {
      "cell_type": "code",
      "execution_count": 5,
      "metadata": {
        "id": "8z3T3_JTVhJU",
        "colab": {
          "base_uri": "https://localhost:8080/"
        },
        "outputId": "bda66f52-c348-412f-b4c3-8a9f99d8ce95"
      },
      "outputs": [
        {
          "output_type": "stream",
          "name": "stdout",
          "text": [
            "Test loss: 0.27502989768981934\n",
            "Test accuracy: 0.9017999768257141\n"
          ]
        }
      ],
      "source": [
        "score = model.evaluate(x_test, y_test, verbose=0)\n",
        "print(\"Test loss:\", score[0])\n",
        "print(\"Test accuracy:\", score[1])"
      ]
    }
  ],
  "metadata": {
    "colab": {
      "collapsed_sections": [],
      "provenance": [],
      "include_colab_link": true
    },
    "kernelspec": {
      "display_name": "Python 3",
      "language": "python",
      "name": "python3"
    },
    "language_info": {
      "codemirror_mode": {
        "name": "ipython",
        "version": 3
      },
      "file_extension": ".py",
      "mimetype": "text/x-python",
      "name": "python",
      "nbconvert_exporter": "python",
      "pygments_lexer": "ipython3",
      "version": "3.7.0"
    }
  },
  "nbformat": 4,
  "nbformat_minor": 0
}