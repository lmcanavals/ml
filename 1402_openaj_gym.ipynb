{
 "cells": [
  {
   "cell_type": "markdown",
   "id": "022f10dc-0906-4371-bd63-09815173195e",
   "metadata": {},
   "source": [
    "# Install OpenAI-Gym"
   ]
  },
  {
   "cell_type": "markdown",
   "id": "bd38962b-3267-41b5-b99d-381342275455",
   "metadata": {},
   "source": [
    "## Conda virtual environment\n",
    "\n",
    "Create a conda virtual environment with python 3.9, 3.10 is not supported at the time\n",
    "\n",
    "Open an Anaconda Prompt, the CMD.exe version, powershell might present some problems\n",
    "\n",
    "Having Visual Studio.net c++ developmnent extensions might be necessary.\n",
    "\n",
    "```\n",
    "conda -n gym python=3 pip\n",
    "conda activate gym\n",
    "pip install gym\n",
    "conda install pystan\n",
    "pip install git+https://github.com/Kojoley/atari-py.git\n",
    "conda install swig\n",
    "pip install Box2D\n",
    "pip install gym[all]\n",
    "pip install pyglet==1.2.4\n",
    "pip install gym[box2d]\n",
    "```\n",
    "\n",
    "For the human render portion, an XServer is needed, so install https://sourceforge.net/projects/xming/\n",
    "\n",
    "Setting this environment variable might be necessary.\n",
    "```\n",
    "set DISPLAY=:0\n",
    "```\n",
    "\n",
    "You might need to run your applications from inside a terminal with that the `gym` active and the above environment variable set. From there is even possible to run Jupyter lab or notebook and run examples from there as you can see bellow.\n",
    "\n",
    "It ispossible to run gym inside Google Colab but additional steps are needed and the performance and experience might be suboptimal"
   ]
  },
  {
   "cell_type": "code",
   "execution_count": 1,
   "id": "d63a196d-d792-48d3-b22a-ee1bb5c37ae4",
   "metadata": {},
   "outputs": [],
   "source": [
    "import gym"
   ]
  },
  {
   "cell_type": "code",
   "execution_count": 2,
   "id": "dc4624ab-693a-4a00-8180-c72a9b0ef9c7",
   "metadata": {},
   "outputs": [],
   "source": [
    "def policy(obs):\n",
    "    return env.action_space.sample()"
   ]
  },
  {
   "cell_type": "code",
   "execution_count": 3,
   "id": "08932efb-2493-4c63-9feb-fdd6d167157d",
   "metadata": {},
   "outputs": [],
   "source": [
    "env = gym.make('LunarLander-v2', render_mode=\"human\")\n",
    "observation, info = env.reset(seed=42)\n",
    "\n",
    "for _ in range(1000):\n",
    "    action = policy(observation)\n",
    "    observation, reward, terminated, truncated, info = env.step(action)\n",
    "    \n",
    "    if terminated or truncated:\n",
    "        observation, info = env.reset()\n",
    "    \n",
    "env.close()"
   ]
  },
  {
   "cell_type": "code",
   "execution_count": 5,
   "id": "242a9634-b2bd-43ee-a707-5ed42a0a6a16",
   "metadata": {},
   "outputs": [
    {
     "name": "stdout",
     "output_type": "stream",
     "text": [
      "Python 3.9.15\n"
     ]
    }
   ],
   "source": [
    "!python --version"
   ]
  },
  {
   "cell_type": "code",
   "execution_count": null,
   "id": "d5fcad6e-a6e3-4afc-a563-a61b62aaab8b",
   "metadata": {},
   "outputs": [],
   "source": []
  }
 ],
 "metadata": {
  "kernelspec": {
   "display_name": "Python 3 (ipykernel)",
   "language": "python",
   "name": "python3"
  },
  "language_info": {
   "codemirror_mode": {
    "name": "ipython",
    "version": 3
   },
   "file_extension": ".py",
   "mimetype": "text/x-python",
   "name": "python",
   "nbconvert_exporter": "python",
   "pygments_lexer": "ipython3",
   "version": "3.9.15"
  }
 },
 "nbformat": 4,
 "nbformat_minor": 5
}
