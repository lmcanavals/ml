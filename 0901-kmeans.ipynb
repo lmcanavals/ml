{
 "cells": [
  {
   "cell_type": "markdown",
   "id": "97dc57f1",
   "metadata": {},
   "source": [
    "# Unsupervised Learning"
   ]
  },
  {
   "cell_type": "markdown",
   "id": "95b2544c",
   "metadata": {},
   "source": [
    "## K - Means"
   ]
  },
  {
   "cell_type": "code",
   "execution_count": 1,
   "id": "45c6db01",
   "metadata": {},
   "outputs": [],
   "source": [
    "import pandas as pd\n",
    "import matplotlib.pyplot as plt\n",
    "import math\n",
    "import random\n",
    "import numpy as np"
   ]
  },
  {
   "cell_type": "code",
   "execution_count": 2,
   "id": "c8d0331c",
   "metadata": {},
   "outputs": [
    {
     "data": {
      "text/html": [
       "<div>\n",
       "<style scoped>\n",
       "    .dataframe tbody tr th:only-of-type {\n",
       "        vertical-align: middle;\n",
       "    }\n",
       "\n",
       "    .dataframe tbody tr th {\n",
       "        vertical-align: top;\n",
       "    }\n",
       "\n",
       "    .dataframe thead th {\n",
       "        text-align: right;\n",
       "    }\n",
       "</style>\n",
       "<table border=\"1\" class=\"dataframe\">\n",
       "  <thead>\n",
       "    <tr style=\"text-align: right;\">\n",
       "      <th></th>\n",
       "      <th>0</th>\n",
       "      <th>1</th>\n",
       "      <th>2</th>\n",
       "      <th>3</th>\n",
       "      <th>4</th>\n",
       "    </tr>\n",
       "  </thead>\n",
       "  <tbody>\n",
       "    <tr>\n",
       "      <th>0</th>\n",
       "      <td>5.1</td>\n",
       "      <td>3.5</td>\n",
       "      <td>1.4</td>\n",
       "      <td>0.2</td>\n",
       "      <td>Iris-setosa</td>\n",
       "    </tr>\n",
       "    <tr>\n",
       "      <th>1</th>\n",
       "      <td>4.9</td>\n",
       "      <td>3.0</td>\n",
       "      <td>1.4</td>\n",
       "      <td>0.2</td>\n",
       "      <td>Iris-setosa</td>\n",
       "    </tr>\n",
       "    <tr>\n",
       "      <th>2</th>\n",
       "      <td>4.7</td>\n",
       "      <td>3.2</td>\n",
       "      <td>1.3</td>\n",
       "      <td>0.2</td>\n",
       "      <td>Iris-setosa</td>\n",
       "    </tr>\n",
       "    <tr>\n",
       "      <th>3</th>\n",
       "      <td>4.6</td>\n",
       "      <td>3.1</td>\n",
       "      <td>1.5</td>\n",
       "      <td>0.2</td>\n",
       "      <td>Iris-setosa</td>\n",
       "    </tr>\n",
       "    <tr>\n",
       "      <th>4</th>\n",
       "      <td>5.0</td>\n",
       "      <td>3.6</td>\n",
       "      <td>1.4</td>\n",
       "      <td>0.2</td>\n",
       "      <td>Iris-setosa</td>\n",
       "    </tr>\n",
       "  </tbody>\n",
       "</table>\n",
       "</div>"
      ],
      "text/plain": [
       "     0    1    2    3            4\n",
       "0  5.1  3.5  1.4  0.2  Iris-setosa\n",
       "1  4.9  3.0  1.4  0.2  Iris-setosa\n",
       "2  4.7  3.2  1.3  0.2  Iris-setosa\n",
       "3  4.6  3.1  1.5  0.2  Iris-setosa\n",
       "4  5.0  3.6  1.4  0.2  Iris-setosa"
      ]
     },
     "execution_count": 2,
     "metadata": {},
     "output_type": "execute_result"
    }
   ],
   "source": [
    "url = \"https://raw.githubusercontent.com/lmcanavals/ml/main/data/iris.data\"\n",
    "\n",
    "iris = pd.read_csv(url, header=None)\n",
    "iris.head()"
   ]
  },
  {
   "cell_type": "code",
   "execution_count": 3,
   "id": "66235d1d",
   "metadata": {},
   "outputs": [
    {
     "name": "stdout",
     "output_type": "stream",
     "text": [
      "(150, 2)\n"
     ]
    }
   ],
   "source": [
    "x = iris[[2, 3]].to_numpy()\n",
    "print(x.shape)"
   ]
  },
  {
   "cell_type": "code",
   "execution_count": 4,
   "id": "f31eea0f",
   "metadata": {},
   "outputs": [
    {
     "data": {
      "text/plain": [
       "<matplotlib.collections.PathCollection at 0x22e531625b0>"
      ]
     },
     "execution_count": 4,
     "metadata": {},
     "output_type": "execute_result"
    },
    {
     "data": {
      "image/png": "[encoded data removed]",
      "text/plain": [
       "<Figure size 432x288 with 1 Axes>"
      ]
     },
     "metadata": {
      "needs_background": "light"
     },
     "output_type": "display_data"
    }
   ],
   "source": [
    "plt.scatter(x[   :50,  0], x[   :50,  1])\n",
    "plt.scatter(x[ 50:100, 0], x[ 50:100, 1])\n",
    "plt.scatter(x[100:,    0], x[100:   , 1])"
   ]
  },
  {
   "cell_type": "markdown",
   "id": "cd5ce980",
   "metadata": {},
   "source": [
    "### Distances"
   ]
  },
  {
   "cell_type": "code",
   "execution_count": 5,
   "id": "8f59b253",
   "metadata": {},
   "outputs": [],
   "source": [
    "def euclidean(p0, p1):\n",
    "    d = 0\n",
    "    for x0, x1 in zip(p0, p1):\n",
    "        d += (x0 - x1)**2\n",
    "\n",
    "    return d**0.5"
   ]
  },
  {
   "cell_type": "code",
   "execution_count": 14,
   "id": "046e3565",
   "metadata": {},
   "outputs": [],
   "source": [
    "assert euclidean([1, 1], [2, 2]) == 2**0.5"
   ]
  },
  {
   "cell_type": "code",
   "execution_count": 6,
   "id": "a6689b7e",
   "metadata": {},
   "outputs": [],
   "source": [
    "def manhattan(p0, p1):\n",
    "    d = 0\n",
    "    for x0, x1 in zip(p0, p1):\n",
    "        d += abs(x0 - x1)\n",
    "\n",
    "    return d"
   ]
  },
  {
   "cell_type": "code",
   "execution_count": 7,
   "id": "0f8007a9",
   "metadata": {},
   "outputs": [
    {
     "data": {
      "text/plain": [
       "3"
      ]
     },
     "execution_count": 7,
     "metadata": {},
     "output_type": "execute_result"
    }
   ],
   "source": [
    "manhattan([1, 1, 1], [2, 2, 2])"
   ]
  },
  {
   "cell_type": "code",
   "execution_count": 24,
   "id": "70d3936a",
   "metadata": {},
   "outputs": [],
   "source": [
    "class MyKMeans:\n",
    "    def __init__(self, k, seed=1981, dist=euclidean):\n",
    "        self.k = k\n",
    "        self.dist = dist\n",
    "        self.labels_ = None\n",
    "        random.seed(seed)\n",
    "\n",
    "    def fit(self, x):\n",
    "        rows, dims = x.shape\n",
    "        limsinf = []\n",
    "        limssup = []\n",
    "        for i in range(dims):\n",
    "            limsinf.append(x[:, i].min())\n",
    "            limssup.append(x[:, i].max())\n",
    "\n",
    "        centroids = np.zeros((self.k, dims))\n",
    "        oldcentroids = np.zeros((self.k, dims))\n",
    "        for i in range(self.k):\n",
    "            for j in range(dims):\n",
    "                centroids[i, j] = random.uniform(limsinf[j], limssup[j])\n",
    "\n",
    "        #plt.scatter(x[   :50,  0], x[   :50,  1])\n",
    "        #plt.scatter(x[ 50:100, 0], x[ 50:100, 1])\n",
    "        #plt.scatter(x[100:,    0], x[100:   , 1])\n",
    "        #plt.scatter(centroids[:, 0], centroids[:, 1], marker=\"x\")\n",
    "        while True:\n",
    "            self.labels_ = np.zeros((rows), dtype=int)\n",
    "            for i in range(rows):\n",
    "                low = 0\n",
    "                lowdist = math.inf\n",
    "                for j in range(self.k):\n",
    "                    curdist = self.dist(x[i], centroids[j])\n",
    "                    if curdist < lowdist:\n",
    "                        lowdist = curdist\n",
    "                        low = j\n",
    "                self.labels_[i] = low\n",
    "\n",
    "            #print(centroids)\n",
    "            oldcentroids = centroids.copy()\n",
    "            for i in range(self.k):\n",
    "                centroids[i] = np.mean(x[self.labels_ == i], axis=0)\n",
    "\n",
    "            end = True\n",
    "            for i in range(self.k):\n",
    "                if self.dist(centroids[i], oldcentroids[i]) > 1e-10:\n",
    "                    end = False\n",
    "                    break\n",
    "\n",
    "            if end:\n",
    "                break\n",
    "        #print(centroids)\n",
    "\n",
    "        #plt.scatter(centroids[:, 0], centroids[:, 1], marker=\"x\")"
   ]
  },
  {
   "cell_type": "code",
   "execution_count": 51,
   "id": "2541238f",
   "metadata": {},
   "outputs": [
    {
     "data": {
      "text/plain": [
       "array([2, 2, 2, 2, 2, 2, 2, 2, 2, 2, 2, 2, 2, 2, 2, 2, 2, 2, 2, 2, 2, 2,\n",
       "       2, 2, 2, 2, 2, 2, 2, 2, 2, 2, 2, 2, 2, 2, 2, 2, 2, 2, 2, 2, 2, 2,\n",
       "       2, 2, 2, 2, 2, 2, 0, 0, 0, 0, 0, 0, 0, 0, 0, 0, 0, 0, 0, 0, 0, 0,\n",
       "       0, 0, 0, 0, 0, 0, 0, 0, 0, 0, 0, 1, 0, 0, 0, 0, 0, 1, 0, 0, 0, 0,\n",
       "       0, 0, 0, 0, 0, 0, 0, 0, 0, 0, 0, 0, 1, 1, 1, 1, 1, 1, 0, 1, 1, 1,\n",
       "       1, 1, 1, 1, 1, 1, 1, 1, 1, 0, 1, 1, 1, 1, 1, 1, 0, 1, 1, 1, 1, 1,\n",
       "       1, 1, 1, 1, 1, 1, 0, 1, 1, 1, 1, 1, 1, 1, 1, 1, 1, 1])"
      ]
     },
     "execution_count": 51,
     "metadata": {},
     "output_type": "execute_result"
    }
   ],
   "source": [
    "model = MyKMeans(3, dist=euclidean)\n",
    "model.fit(x)\n",
    "model.labels_"
   ]
  },
  {
   "cell_type": "code",
   "execution_count": 52,
   "id": "a59bdb3a",
   "metadata": {},
   "outputs": [
    {
     "data": {
      "text/plain": [
       "<matplotlib.collections.PathCollection at 0x22e598dc790>"
      ]
     },
     "execution_count": 52,
     "metadata": {},
     "output_type": "execute_result"
    },
    {
     "data": {
      "image/png": "[encoded data removed]",
      "text/plain": [
       "<Figure size 1080x1080 with 1 Axes>"
      ]
     },
     "metadata": {
      "needs_background": "light"
     },
     "output_type": "display_data"
    }
   ],
   "source": [
    "plt.subplots(figsize=(15, 15))\n",
    "plt.scatter(x[   :50,  0], x[   :50,  1], marker=\"x\", s=11**2)\n",
    "plt.scatter(x[ 50:100, 0], x[ 50:100, 1], marker=\"x\", s=11**2)\n",
    "plt.scatter(x[100:,    0], x[100:   , 1], marker=\"x\", s=11**2)\n",
    "plt.scatter(x[model.labels_==0][:,0], x[model.labels_==0][:,1], marker=\"+\", s=11**2)\n",
    "plt.scatter(x[model.labels_==1][:,0], x[model.labels_==1][:,1], marker=\"+\", s=11**2)\n",
    "plt.scatter(x[model.labels_==2][:,0], x[model.labels_==2][:,1], marker=\"+\", s=11**2)"
   ]
  },
  {
   "cell_type": "code",
   "execution_count": 53,
   "id": "19334e2d-1d27-4fd5-bff1-87184d9a5b90",
   "metadata": {},
   "outputs": [
    {
     "name": "stdout",
     "output_type": "stream",
     "text": [
      "52\n",
      "48\n",
      "50\n"
     ]
    }
   ],
   "source": [
    "for i in range(3):\n",
    "    print(len(model.labels_[model.labels_ == i]))"
   ]
  },
  {
   "cell_type": "markdown",
   "id": "0e21978e-499f-420c-8c4e-c1b508eed45d",
   "metadata": {},
   "source": [
    "## Using SKLearn"
   ]
  },
  {
   "cell_type": "code",
   "execution_count": 49,
   "id": "b1997201-b4ab-4631-a536-bb8b24a251ad",
   "metadata": {},
   "outputs": [
    {
     "data": {
      "text/plain": [
       "array([0, 0, 0, 0, 0, 0, 0, 0, 0, 0, 0, 0, 0, 0, 0, 0, 0, 0, 0, 0, 0, 0,\n",
       "       0, 0, 0, 0, 0, 0, 0, 0, 0, 0, 0, 0, 0, 0, 0, 0, 0, 0, 0, 0, 0, 0,\n",
       "       0, 0, 0, 0, 0, 0, 2, 2, 2, 2, 2, 2, 2, 2, 2, 2, 2, 2, 2, 2, 2, 2,\n",
       "       2, 2, 2, 2, 2, 2, 2, 2, 2, 2, 2, 1, 2, 2, 2, 2, 2, 1, 2, 2, 2, 2,\n",
       "       2, 2, 2, 2, 2, 2, 2, 2, 2, 2, 2, 2, 1, 1, 1, 1, 1, 1, 2, 1, 1, 1,\n",
       "       1, 1, 1, 1, 1, 1, 1, 1, 1, 2, 1, 1, 1, 1, 1, 1, 2, 1, 1, 1, 1, 1,\n",
       "       1, 1, 1, 1, 1, 1, 2, 1, 1, 1, 1, 1, 1, 1, 1, 1, 1, 1])"
      ]
     },
     "execution_count": 49,
     "metadata": {},
     "output_type": "execute_result"
    }
   ],
   "source": [
    "from sklearn.cluster import KMeans\n",
    "\n",
    "kmeans = KMeans(n_clusters=3).fit(x)\n",
    "kmeans.labels_"
   ]
  },
  {
   "cell_type": "code",
   "execution_count": 50,
   "id": "82031786-1464-41d9-bf6d-90b840901f9b",
   "metadata": {},
   "outputs": [
    {
     "name": "stdout",
     "output_type": "stream",
     "text": [
      "50\n",
      "48\n",
      "52\n"
     ]
    }
   ],
   "source": [
    "for i in range(3):\n",
    "    print(len(kmeans.labels_[kmeans.labels_ == i]))"
   ]
  },
  {
   "cell_type": "code",
   "execution_count": null,
   "id": "59b99b0c-fa49-449a-8c4c-bed65149bf11",
   "metadata": {},
   "outputs": [],
   "source": []
  }
 ],
 "metadata": {
  "kernelspec": {
   "display_name": "Python 3 (ipykernel)",
   "language": "python",
   "name": "python3"
  },
  "language_info": {
   "codemirror_mode": {
    "name": "ipython",
    "version": 3
   },
   "file_extension": ".py",
   "mimetype": "text/x-python",
   "name": "python",
   "nbconvert_exporter": "python",
   "pygments_lexer": "ipython3",
   "version": "3.9.7"
  }
 },
 "nbformat": 4,
 "nbformat_minor": 5
}
