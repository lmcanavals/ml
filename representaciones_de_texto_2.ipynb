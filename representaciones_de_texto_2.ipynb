{
  "nbformat": 4,
  "nbformat_minor": 0,
  "metadata": {
    "colab": {
      "provenance": [],
      "collapsed_sections": [],
      "authorship_tag": "ABX9TyP3Cnm0NOg1MeVbR6C3/9je",
      "include_colab_link": true
    },
    "kernelspec": {
      "name": "python3",
      "display_name": "Python 3"
    },
    "language_info": {
      "name": "python"
    }
  },
  "cells": [
    {
      "cell_type": "markdown",
      "metadata": {
        "id": "view-in-github",
        "colab_type": "text"
      },
      "source": [
        "<a href=\"https://colab.research.google.com/github/lmcanavals/ml/blob/main/representaciones_de_texto_2.ipynb\" target=\"_parent\"><img src=\"https://colab.research.google.com/assets/colab-badge.svg\" alt=\"Open In Colab\"/></a>"
      ]
    },
    {
      "cell_type": "markdown",
      "source": [
        "# Representaciones basadas en frencuencia"
      ],
      "metadata": {
        "id": "2I3hjRiaTUD6"
      }
    },
    {
      "cell_type": "code",
      "source": [
        "import pandas as pd\n",
        "import numpy as np\n",
        "import math\n",
        "from nltk.tokenize import RegexpTokenizer\n",
        "import re"
      ],
      "metadata": {
        "id": "YNRHlJXsTTy0"
      },
      "execution_count": 28,
      "outputs": []
    },
    {
      "cell_type": "code",
      "source": [
        "url=\"https://raw.githubusercontent.com/lmcanavals/ml/main/data/spam.csv\"\n",
        "spamdf = pd.read_csv(url,encoding ='latin1')\n",
        "spamdf.head()"
      ],
      "metadata": {
        "colab": {
          "base_uri": "https://localhost:8080/",
          "height": 206
        },
        "id": "eMYsTwJSTY1s",
        "outputId": "63648b9e-a66c-48a9-9644-2aeffb09ff79"
      },
      "execution_count": 2,
      "outputs": [
        {
          "output_type": "execute_result",
          "data": {
            "text/plain": [
              "     v1                                                 v2 Unnamed: 2  \\\n",
              "0   ham  Go until jurong point, crazy.. Available only ...        NaN   \n",
              "1   ham                      Ok lar... Joking wif u oni...        NaN   \n",
              "2  spam  Free entry in 2 a wkly comp to win FA Cup fina...        NaN   \n",
              "3   ham  U dun say so early hor... U c already then say...        NaN   \n",
              "4   ham  Nah I don't think he goes to usf, he lives aro...        NaN   \n",
              "\n",
              "  Unnamed: 3 Unnamed: 4  \n",
              "0        NaN        NaN  \n",
              "1        NaN        NaN  \n",
              "2        NaN        NaN  \n",
              "3        NaN        NaN  \n",
              "4        NaN        NaN  "
            ],
            "text/html": [
              "\n",
              "  <div id=\"df-09d36e31-21ff-4431-a87c-709b938dda10\">\n",
              "    <div class=\"colab-df-container\">\n",
              "      <div>\n",
              "<style scoped>\n",
              "    .dataframe tbody tr th:only-of-type {\n",
              "        vertical-align: middle;\n",
              "    }\n",
              "\n",
              "    .dataframe tbody tr th {\n",
              "        vertical-align: top;\n",
              "    }\n",
              "\n",
              "    .dataframe thead th {\n",
              "        text-align: right;\n",
              "    }\n",
              "</style>\n",
              "<table border=\"1\" class=\"dataframe\">\n",
              "  <thead>\n",
              "    <tr style=\"text-align: right;\">\n",
              "      <th></th>\n",
              "      <th>v1</th>\n",
              "      <th>v2</th>\n",
              "      <th>Unnamed: 2</th>\n",
              "      <th>Unnamed: 3</th>\n",
              "      <th>Unnamed: 4</th>\n",
              "    </tr>\n",
              "  </thead>\n",
              "  <tbody>\n",
              "    <tr>\n",
              "      <th>0</th>\n",
              "      <td>ham</td>\n",
              "      <td>Go until jurong point, crazy.. Available only ...</td>\n",
              "      <td>NaN</td>\n",
              "      <td>NaN</td>\n",
              "      <td>NaN</td>\n",
              "    </tr>\n",
              "    <tr>\n",
              "      <th>1</th>\n",
              "      <td>ham</td>\n",
              "      <td>Ok lar... Joking wif u oni...</td>\n",
              "      <td>NaN</td>\n",
              "      <td>NaN</td>\n",
              "      <td>NaN</td>\n",
              "    </tr>\n",
              "    <tr>\n",
              "      <th>2</th>\n",
              "      <td>spam</td>\n",
              "      <td>Free entry in 2 a wkly comp to win FA Cup fina...</td>\n",
              "      <td>NaN</td>\n",
              "      <td>NaN</td>\n",
              "      <td>NaN</td>\n",
              "    </tr>\n",
              "    <tr>\n",
              "      <th>3</th>\n",
              "      <td>ham</td>\n",
              "      <td>U dun say so early hor... U c already then say...</td>\n",
              "      <td>NaN</td>\n",
              "      <td>NaN</td>\n",
              "      <td>NaN</td>\n",
              "    </tr>\n",
              "    <tr>\n",
              "      <th>4</th>\n",
              "      <td>ham</td>\n",
              "      <td>Nah I don't think he goes to usf, he lives aro...</td>\n",
              "      <td>NaN</td>\n",
              "      <td>NaN</td>\n",
              "      <td>NaN</td>\n",
              "    </tr>\n",
              "  </tbody>\n",
              "</table>\n",
              "</div>\n",
              "      <button class=\"colab-df-convert\" onclick=\"convertToInteractive('df-09d36e31-21ff-4431-a87c-709b938dda10')\"\n",
              "              title=\"Convert this dataframe to an interactive table.\"\n",
              "              style=\"display:none;\">\n",
              "        \n",
              "  <svg xmlns=\"http://www.w3.org/2000/svg\" height=\"24px\"viewBox=\"0 0 24 24\"\n",
              "       width=\"24px\">\n",
              "    <path d=\"M0 0h24v24H0V0z\" fill=\"none\"/>\n",
              "    <path d=\"M18.56 5.44l.94 2.06.94-2.06 2.06-.94-2.06-.94-.94-2.06-.94 2.06-2.06.94zm-11 1L8.5 8.5l.94-2.06 2.06-.94-2.06-.94L8.5 2.5l-.94 2.06-2.06.94zm10 10l.94 2.06.94-2.06 2.06-.94-2.06-.94-.94-2.06-.94 2.06-2.06.94z\"/><path d=\"M17.41 7.96l-1.37-1.37c-.4-.4-.92-.59-1.43-.59-.52 0-1.04.2-1.43.59L10.3 9.45l-7.72 7.72c-.78.78-.78 2.05 0 2.83L4 21.41c.39.39.9.59 1.41.59.51 0 1.02-.2 1.41-.59l7.78-7.78 2.81-2.81c.8-.78.8-2.07 0-2.86zM5.41 20L4 18.59l7.72-7.72 1.47 1.35L5.41 20z\"/>\n",
              "  </svg>\n",
              "      </button>\n",
              "      \n",
              "  <style>\n",
              "    .colab-df-container {\n",
              "      display:flex;\n",
              "      flex-wrap:wrap;\n",
              "      gap: 12px;\n",
              "    }\n",
              "\n",
              "    .colab-df-convert {\n",
              "      background-color: #E8F0FE;\n",
              "      border: none;\n",
              "      border-radius: 50%;\n",
              "      cursor: pointer;\n",
              "      display: none;\n",
              "      fill: #1967D2;\n",
              "      height: 32px;\n",
              "      padding: 0 0 0 0;\n",
              "      width: 32px;\n",
              "    }\n",
              "\n",
              "    .colab-df-convert:hover {\n",
              "      background-color: #E2EBFA;\n",
              "      box-shadow: 0px 1px 2px rgba(60, 64, 67, 0.3), 0px 1px 3px 1px rgba(60, 64, 67, 0.15);\n",
              "      fill: #174EA6;\n",
              "    }\n",
              "\n",
              "    [theme=dark] .colab-df-convert {\n",
              "      background-color: #3B4455;\n",
              "      fill: #D2E3FC;\n",
              "    }\n",
              "\n",
              "    [theme=dark] .colab-df-convert:hover {\n",
              "      background-color: #434B5C;\n",
              "      box-shadow: 0px 1px 3px 1px rgba(0, 0, 0, 0.15);\n",
              "      filter: drop-shadow(0px 1px 2px rgba(0, 0, 0, 0.3));\n",
              "      fill: #FFFFFF;\n",
              "    }\n",
              "  </style>\n",
              "\n",
              "      <script>\n",
              "        const buttonEl =\n",
              "          document.querySelector('#df-09d36e31-21ff-4431-a87c-709b938dda10 button.colab-df-convert');\n",
              "        buttonEl.style.display =\n",
              "          google.colab.kernel.accessAllowed ? 'block' : 'none';\n",
              "\n",
              "        async function convertToInteractive(key) {\n",
              "          const element = document.querySelector('#df-09d36e31-21ff-4431-a87c-709b938dda10');\n",
              "          const dataTable =\n",
              "            await google.colab.kernel.invokeFunction('convertToInteractive',\n",
              "                                                     [key], {});\n",
              "          if (!dataTable) return;\n",
              "\n",
              "          const docLinkHtml = 'Like what you see? Visit the ' +\n",
              "            '<a target=\"_blank\" href=https://colab.research.google.com/notebooks/data_table.ipynb>data table notebook</a>'\n",
              "            + ' to learn more about interactive tables.';\n",
              "          element.innerHTML = '';\n",
              "          dataTable['output_type'] = 'display_data';\n",
              "          await google.colab.output.renderOutput(dataTable, element);\n",
              "          const docLink = document.createElement('div');\n",
              "          docLink.innerHTML = docLinkHtml;\n",
              "          element.appendChild(docLink);\n",
              "        }\n",
              "      </script>\n",
              "    </div>\n",
              "  </div>\n",
              "  "
            ]
          },
          "metadata": {},
          "execution_count": 2
        }
      ]
    },
    {
      "cell_type": "code",
      "source": [
        "corpus = \" \".join(spamdf[\"v2\"].array)\n",
        "print(corpus[:100])"
      ],
      "metadata": {
        "colab": {
          "base_uri": "https://localhost:8080/"
        },
        "id": "WdeHaiIMTpGj",
        "outputId": "3e6742b5-6ac4-4a81-e641-75a0e438cec0"
      },
      "execution_count": 3,
      "outputs": [
        {
          "output_type": "stream",
          "name": "stdout",
          "text": [
            "Go until jurong point, crazy.. Available only in bugis n great world la e buffet... Cine there got a\n"
          ]
        }
      ]
    },
    {
      "cell_type": "code",
      "source": [
        "tokenizer = RegexpTokenizer(r'\\w+')\n",
        "tokens = tokenizer.tokenize(corpus)\n",
        "print(tokens[:20])\n",
        "print(len(tokens))"
      ],
      "metadata": {
        "colab": {
          "base_uri": "https://localhost:8080/"
        },
        "id": "YsF7edTQTsMa",
        "outputId": "a04d241a-e36d-4ce1-9358-4e00410b6321"
      },
      "execution_count": 4,
      "outputs": [
        {
          "output_type": "stream",
          "name": "stdout",
          "text": [
            "['Go', 'until', 'jurong', 'point', 'crazy', 'Available', 'only', 'in', 'bugis', 'n', 'great', 'world', 'la', 'e', 'buffet', 'Cine', 'there', 'got', 'amore', 'wat']\n",
            "90106\n"
          ]
        }
      ]
    },
    {
      "cell_type": "code",
      "source": [
        "import nltk\n",
        "from nltk.corpus import stopwords\n",
        "nltk.download('stopwords')"
      ],
      "metadata": {
        "colab": {
          "base_uri": "https://localhost:8080/"
        },
        "id": "qPlvhypMUSa5",
        "outputId": "cba6a558-7f5e-46fa-bbff-e31d1839be4f"
      },
      "execution_count": 5,
      "outputs": [
        {
          "output_type": "stream",
          "name": "stderr",
          "text": [
            "[nltk_data] Downloading package stopwords to /root/nltk_data...\n",
            "[nltk_data]   Unzipping corpora/stopwords.zip.\n"
          ]
        },
        {
          "output_type": "execute_result",
          "data": {
            "text/plain": [
              "True"
            ]
          },
          "metadata": {},
          "execution_count": 5
        }
      ]
    },
    {
      "cell_type": "code",
      "source": [
        "print(stopwords.words('english'))"
      ],
      "metadata": {
        "colab": {
          "base_uri": "https://localhost:8080/"
        },
        "id": "Z450GyESVFu5",
        "outputId": "f2dc8145-d921-473d-caf2-5100587fa90d"
      },
      "execution_count": 6,
      "outputs": [
        {
          "output_type": "stream",
          "name": "stdout",
          "text": [
            "['i', 'me', 'my', 'myself', 'we', 'our', 'ours', 'ourselves', 'you', \"you're\", \"you've\", \"you'll\", \"you'd\", 'your', 'yours', 'yourself', 'yourselves', 'he', 'him', 'his', 'himself', 'she', \"she's\", 'her', 'hers', 'herself', 'it', \"it's\", 'its', 'itself', 'they', 'them', 'their', 'theirs', 'themselves', 'what', 'which', 'who', 'whom', 'this', 'that', \"that'll\", 'these', 'those', 'am', 'is', 'are', 'was', 'were', 'be', 'been', 'being', 'have', 'has', 'had', 'having', 'do', 'does', 'did', 'doing', 'a', 'an', 'the', 'and', 'but', 'if', 'or', 'because', 'as', 'until', 'while', 'of', 'at', 'by', 'for', 'with', 'about', 'against', 'between', 'into', 'through', 'during', 'before', 'after', 'above', 'below', 'to', 'from', 'up', 'down', 'in', 'out', 'on', 'off', 'over', 'under', 'again', 'further', 'then', 'once', 'here', 'there', 'when', 'where', 'why', 'how', 'all', 'any', 'both', 'each', 'few', 'more', 'most', 'other', 'some', 'such', 'no', 'nor', 'not', 'only', 'own', 'same', 'so', 'than', 'too', 'very', 's', 't', 'can', 'will', 'just', 'don', \"don't\", 'should', \"should've\", 'now', 'd', 'll', 'm', 'o', 're', 've', 'y', 'ain', 'aren', \"aren't\", 'couldn', \"couldn't\", 'didn', \"didn't\", 'doesn', \"doesn't\", 'hadn', \"hadn't\", 'hasn', \"hasn't\", 'haven', \"haven't\", 'isn', \"isn't\", 'ma', 'mightn', \"mightn't\", 'mustn', \"mustn't\", 'needn', \"needn't\", 'shan', \"shan't\", 'shouldn', \"shouldn't\", 'wasn', \"wasn't\", 'weren', \"weren't\", 'won', \"won't\", 'wouldn', \"wouldn't\"]\n"
          ]
        }
      ]
    },
    {
      "cell_type": "code",
      "source": [
        "print(stopwords.words('spanish'))"
      ],
      "metadata": {
        "colab": {
          "base_uri": "https://localhost:8080/"
        },
        "id": "RAew4ghMVTdq",
        "outputId": "2c6c1939-209d-42bd-9a1d-573096d54e97"
      },
      "execution_count": 7,
      "outputs": [
        {
          "output_type": "stream",
          "name": "stdout",
          "text": [
            "['de', 'la', 'que', 'el', 'en', 'y', 'a', 'los', 'del', 'se', 'las', 'por', 'un', 'para', 'con', 'no', 'una', 'su', 'al', 'lo', 'como', 'más', 'pero', 'sus', 'le', 'ya', 'o', 'este', 'sí', 'porque', 'esta', 'entre', 'cuando', 'muy', 'sin', 'sobre', 'también', 'me', 'hasta', 'hay', 'donde', 'quien', 'desde', 'todo', 'nos', 'durante', 'todos', 'uno', 'les', 'ni', 'contra', 'otros', 'ese', 'eso', 'ante', 'ellos', 'e', 'esto', 'mí', 'antes', 'algunos', 'qué', 'unos', 'yo', 'otro', 'otras', 'otra', 'él', 'tanto', 'esa', 'estos', 'mucho', 'quienes', 'nada', 'muchos', 'cual', 'poco', 'ella', 'estar', 'estas', 'algunas', 'algo', 'nosotros', 'mi', 'mis', 'tú', 'te', 'ti', 'tu', 'tus', 'ellas', 'nosotras', 'vosotros', 'vosotras', 'os', 'mío', 'mía', 'míos', 'mías', 'tuyo', 'tuya', 'tuyos', 'tuyas', 'suyo', 'suya', 'suyos', 'suyas', 'nuestro', 'nuestra', 'nuestros', 'nuestras', 'vuestro', 'vuestra', 'vuestros', 'vuestras', 'esos', 'esas', 'estoy', 'estás', 'está', 'estamos', 'estáis', 'están', 'esté', 'estés', 'estemos', 'estéis', 'estén', 'estaré', 'estarás', 'estará', 'estaremos', 'estaréis', 'estarán', 'estaría', 'estarías', 'estaríamos', 'estaríais', 'estarían', 'estaba', 'estabas', 'estábamos', 'estabais', 'estaban', 'estuve', 'estuviste', 'estuvo', 'estuvimos', 'estuvisteis', 'estuvieron', 'estuviera', 'estuvieras', 'estuviéramos', 'estuvierais', 'estuvieran', 'estuviese', 'estuvieses', 'estuviésemos', 'estuvieseis', 'estuviesen', 'estando', 'estado', 'estada', 'estados', 'estadas', 'estad', 'he', 'has', 'ha', 'hemos', 'habéis', 'han', 'haya', 'hayas', 'hayamos', 'hayáis', 'hayan', 'habré', 'habrás', 'habrá', 'habremos', 'habréis', 'habrán', 'habría', 'habrías', 'habríamos', 'habríais', 'habrían', 'había', 'habías', 'habíamos', 'habíais', 'habían', 'hube', 'hubiste', 'hubo', 'hubimos', 'hubisteis', 'hubieron', 'hubiera', 'hubieras', 'hubiéramos', 'hubierais', 'hubieran', 'hubiese', 'hubieses', 'hubiésemos', 'hubieseis', 'hubiesen', 'habiendo', 'habido', 'habida', 'habidos', 'habidas', 'soy', 'eres', 'es', 'somos', 'sois', 'son', 'sea', 'seas', 'seamos', 'seáis', 'sean', 'seré', 'serás', 'será', 'seremos', 'seréis', 'serán', 'sería', 'serías', 'seríamos', 'seríais', 'serían', 'era', 'eras', 'éramos', 'erais', 'eran', 'fui', 'fuiste', 'fue', 'fuimos', 'fuisteis', 'fueron', 'fuera', 'fueras', 'fuéramos', 'fuerais', 'fueran', 'fuese', 'fueses', 'fuésemos', 'fueseis', 'fuesen', 'sintiendo', 'sentido', 'sentida', 'sentidos', 'sentidas', 'siente', 'sentid', 'tengo', 'tienes', 'tiene', 'tenemos', 'tenéis', 'tienen', 'tenga', 'tengas', 'tengamos', 'tengáis', 'tengan', 'tendré', 'tendrás', 'tendrá', 'tendremos', 'tendréis', 'tendrán', 'tendría', 'tendrías', 'tendríamos', 'tendríais', 'tendrían', 'tenía', 'tenías', 'teníamos', 'teníais', 'tenían', 'tuve', 'tuviste', 'tuvo', 'tuvimos', 'tuvisteis', 'tuvieron', 'tuviera', 'tuvieras', 'tuviéramos', 'tuvierais', 'tuvieran', 'tuviese', 'tuvieses', 'tuviésemos', 'tuvieseis', 'tuviesen', 'teniendo', 'tenido', 'tenida', 'tenidos', 'tenidas', 'tened']\n"
          ]
        }
      ]
    },
    {
      "cell_type": "code",
      "source": [
        "from nltk.stem.lancaster import LancasterStemmer\n",
        "\n",
        "stemmer = LancasterStemmer()"
      ],
      "metadata": {
        "id": "rIn4tgESWnWe"
      },
      "execution_count": 8,
      "outputs": []
    },
    {
      "cell_type": "code",
      "source": [
        "sw = stopwords.words('english')\n",
        "tokens = [stemmer.stem(w) for w in tokens if not w.lower() in sw]\n",
        "print(tokens[:20])\n",
        "print(len(tokens))"
      ],
      "metadata": {
        "colab": {
          "base_uri": "https://localhost:8080/"
        },
        "id": "Aj8aOy43VZuB",
        "outputId": "aa1ddf4a-ec84-4aab-cd12-9dd7e24bebfe"
      },
      "execution_count": 9,
      "outputs": [
        {
          "output_type": "stream",
          "name": "stdout",
          "text": [
            "['go', 'jurong', 'point', 'crazy', 'avail', 'bug', 'n', 'gre', 'world', 'la', 'e', 'buffet', 'cin', 'got', 'am', 'wat', 'ok', 'lar', 'jok', 'wif']\n",
            "53415\n"
          ]
        }
      ]
    },
    {
      "cell_type": "code",
      "source": [
        "count = dict()\n",
        "for token in tokens:\n",
        "    if not token in count:\n",
        "        count[token] = 0\n",
        "\n",
        "    count[token] += 1"
      ],
      "metadata": {
        "id": "QuNCQRixVzro"
      },
      "execution_count": 10,
      "outputs": []
    },
    {
      "cell_type": "code",
      "source": [
        "len(count)"
      ],
      "metadata": {
        "colab": {
          "base_uri": "https://localhost:8080/"
        },
        "id": "0ZTI8N96XLj_",
        "outputId": "017ad8ed-7640-45e6-9eb9-8cbc969b41a5"
      },
      "execution_count": 11,
      "outputs": [
        {
          "output_type": "execute_result",
          "data": {
            "text/plain": [
              "6614"
            ]
          },
          "metadata": {},
          "execution_count": 11
        }
      ]
    },
    {
      "cell_type": "code",
      "source": [
        "count['crazy']"
      ],
      "metadata": {
        "colab": {
          "base_uri": "https://localhost:8080/"
        },
        "id": "y1e89RQsXNK4",
        "outputId": "a735958e-1b77-4f19-e51e-c7805d14fed2"
      },
      "execution_count": 12,
      "outputs": [
        {
          "output_type": "execute_result",
          "data": {
            "text/plain": [
              "15"
            ]
          },
          "metadata": {},
          "execution_count": 12
        }
      ]
    },
    {
      "cell_type": "markdown",
      "source": [
        "## Term Frenquency (TF)\n",
        "\n",
        "$$\n",
        "tf(t,d)=\\frac{ f_{t,d} }{ \\sum_{t'\\in d}{f_{t',d}} }\n",
        "$$\n",
        "\n",
        "## Inverse Document Frequency (IDF)\n",
        "\n",
        "$$\n",
        "Idf(t,D)=log\\frac{ N }{ |\\{d\\in D: t \\in d\\}| }\n",
        "$$\n",
        "\n",
        "\n",
        "$N$: Número total de documentos, $N = |D|$\n",
        "\n",
        "$D$: Todos los documentos\n",
        "\n",
        "$|\\{d\\in D: t \\in d\\}|$: Número de documentos $d$ donde aparece el térmitno $t$\n",
        "\n",
        "## TF-IDF\n",
        "\n",
        "$$\n",
        "tfidf(t, d, D) = tf(t, d) \\cdot idf(t, D)\n",
        "$$"
      ],
      "metadata": {
        "id": "xBzSU7nRYETF"
      }
    },
    {
      "cell_type": "code",
      "source": [
        "m = len(spamdf)\n",
        "n = len(count)\n",
        "X = np.zeros((m, n))\n",
        "Y = spamdf['v1'].array\n",
        "print(X.shape)\n",
        "print(Y.shape)"
      ],
      "metadata": {
        "id": "cycvLtZmXSeP",
        "colab": {
          "base_uri": "https://localhost:8080/"
        },
        "outputId": "b5b9d19f-dbb4-4dfb-ccf5-4454c0c9cd40"
      },
      "execution_count": 14,
      "outputs": [
        {
          "output_type": "stream",
          "name": "stdout",
          "text": [
            "(5572, 6614)\n",
            "(5572,)\n"
          ]
        }
      ]
    },
    {
      "cell_type": "code",
      "source": [
        "word2idx = {word: i for i, word in enumerate(count.keys())}"
      ],
      "metadata": {
        "colab": {
          "base_uri": "https://localhost:8080/"
        },
        "id": "kqH7fp1-FkjJ",
        "outputId": "28d83f90-cc5c-44f4-85d4-b545e58474d0"
      },
      "execution_count": 19,
      "outputs": [
        {
          "output_type": "stream",
          "name": "stdout",
          "text": [
            "{'go': 0, 'jurong': 1, 'point': 2, 'crazy': 3, 'avail': 4, 'bug': 5, 'n': 6, 'gre': 7, 'world': 8, 'la': 9, 'e': 10, 'buffet': 11, 'cin': 12, 'got': 13, 'am': 14, 'wat': 15, 'ok': 16, 'lar': 17, 'jok': 18, 'wif': 19, 'u': 20, 'on': 21, 'fre': 22, 'entry': 23, '2': 24, 'wkly': 25, 'comp': 26, 'win': 27, 'fa': 28, 'cup': 29, 'fin': 30, 'tkts': 31, '21st': 32, 'may': 33, '2005': 34, 'text': 35, '87121': 36, 'receiv': 37, 'quest': 38, 'std': 39, 'txt': 40, 'rat': 41, 'c': 42, 'apply': 43, '08452810075over18': 44, 'dun': 45, 'say': 46, 'ear': 47, 'hor': 48, 'already': 49, 'nah': 50, 'think': 51, 'goe': 52, 'usf': 53, 'liv': 54, 'around': 55, 'though': 56, 'freemsg': 57, 'hey': 58, 'darl': 59, '3': 60, 'week': 61, 'word': 62, 'back': 63, 'lik': 64, 'fun': 65, 'stil': 66, 'tb': 67, 'xxx': 68, 'chgs': 69, 'send': 70, 'å': 71, '1': 72, '50': 73, 'rcv': 74, 'ev': 75, 'broth': 76, 'speak': 77, 'tre': 78, 'aid': 79, 'pat': 80, 'per': 81, 'request': 82, 'mel': 83, 'oru': 84, 'minnaminungint': 85, 'nurungu': 86, 'vettam': 87, 'set': 88, 'callertun': 89, 'cal': 90, 'press': 91, '9': 92, 'cop': 93, 'friend': 94, 'valu': 95, 'network': 96, 'custom': 97, 'select': 98, 'receive': 99, '900': 100, 'priz': 101, 'reward': 102, 'claim': 103, '09061701461': 104, 'cod': 105, 'kl341': 106, 'valid': 107, '12': 108, 'hour': 109, 'mobl': 110, '11': 111, 'month': 112, 'r': 113, 'entitl': 114, 'upd': 115, 'latest': 116, 'colo': 117, 'camer': 118, 'co': 119, '08002986030': 120, 'gonn': 121, 'hom': 122, 'soon': 123, 'want': 124, 'talk': 125, 'stuff': 126, 'anym': 127, 'tonight': 128, 'k': 129, 'cri': 130, 'enough': 131, 'today': 132, 'six': 133, 'chant': 134, 'cash': 135, '100': 136, '20': 137, '000': 138, 'pound': 139, 'csh11': 140, '87575': 141, 'cost': 142, '150p': 143, 'day': 144, '6days': 145, '16': 146, 'tsandc': 147, 'reply': 148, 'hl': 149, '4': 150, 'info': 151, 'urg': 152, 'memb': 153, 'jackpot': 154, '81010': 155, 'www': 156, 'dbuk': 157, 'net': 158, 'lccltd': 159, 'pobox': 160, '4403ldnw1a7rw18': 161, 'search': 162, 'right': 163, 'thank': 164, 'breath': 165, 'prom': 166, 'wont': 167, 'tak': 168, 'help': 169, 'grant': 170, 'fulfil': 171, 'wond': 172, 'bless': 173, 'tim': 174, 'dat': 175, 'sunday': 176, 'xxxmobilemovieclub': 177, 'us': 178, 'credit': 179, 'click': 180, 'wap': 181, 'link': 182, 'next': 183, 'mess': 184, 'http': 185, 'com': 186, 'qjkgighjjgcbl': 187, 'oh': 188, 'watch': 189, 'eh': 190, 'rememb': 191, 'spel': 192, 'nam': 193, 'ye': 194, 'v': 195, 'naughty': 196, 'mak': 197, 'wet': 198, 'thatåõ': 199, 'way': 200, 'feel': 201, 'b': 202, 'england': 203, 'macedon': 204, 'dont': 205, 'miss': 206, 'goal': 207, 'team': 208, 'new': 209, 'ur': 210, 'nat': 211, '87077': 212, 'eg': 213, 'try': 214, 'wal': 215, 'scotland': 216, '4txt': 217, 'ì¼1': 218, 'poboxox36504w45wq': 219, 'sery': 220, 'û': 221, 'going': 222, 'ha': 223, 'ì_': 224, 'pay': 225, 'first': 226, 'da': 227, 'stock': 228, 'comin': 229, 'aft': 230, 'lunch': 231, 'str': 232, 'lor': 233, 'ard': 234, 'smth': 235, 'ffffffffff': 236, 'alright': 237, 'meet': 238, 'forc': 239, 'eat': 240, 'slic': 241, 'real': 242, 'hungry': 243, 'tho': 244, 'suck': 245, 'mark': 246, 'get': 247, 'worry': 248, 'know': 249, 'sick': 250, 'turn': 251, 'pizz': 252, 'lol': 253, 'alway': 254, 'convint': 255, 'catch': 256, 'bus': 257, 'fry': 258, 'tea': 259, 'mom': 260, 'left': 261, 'din': 262, 'lov': 263, 'amp': 264, 'pack': 265, 'car': 266, 'let': 267, 'room': 268, 'ahhh': 269, 'work': 270, 'vagu': 271, 'wait': 272, 'clear': 273, 'sur': 274, 'sarcast': 275, 'x': 276, 'yeah': 277, 'apologet': 278, 'fal': 279, 'actin': 280, 'spoilt': 281, 'child': 282, 'caught': 283, 'til': 284, 'bad': 285, 'che': 286, 'tel': 287, 'anyth': 288, 'fear': 289, 'faint': 290, 'housework': 291, 'quick': 292, 'cupp': 293, 'subscrib': 294, 'rington': 295, 'uk': 296, 'charg': 297, '5': 298, 'mon': 299, 'pleas': 300, 'confirm': 301, 'yup': 302, 'look': 303, 'msg': 304, 'xuhu': 305, 'learn': 306, '2nd': 307, 'lesson': 308, '8am': 309, 'oop': 310, 'don': 311, 'see': 312, 'decid': 313, 'hello': 314, 'saturday': 315, 'tomo': 316, 'invit': 317, 'pls': 318, 'ahead': 319, 'weekend': 320, 'abiol': 321, 'forget': 322, 'nee': 323, 'crav': 324, 'sweet': 325, 'arab': 326, 'stee': 327, 'mmmmmm': 328, 'yummy': 329, '07732584351': 330, 'rodg': 331, 'burn': 332, 'tri': 333, 'sms': 334, 'nok': 335, 'camcord': 336, '08000930705': 337, 'delivery': 338, 'tomorrow': 339, 'hop': 340, 'man': 341, 'wel': 342, 'endow': 343, 'lt': 344, 'gt': 345, 'inch': 346, 'hep': 347, 'immun': 348, 'niger': 349, 'fair': 350, 'tyl': 351, 'could': 352, 'mayb': 353, 'ask': 354, 'bit': 355, 'stubborn': 356, 'hospit': 357, 'kept': 358, 'weak': 359, 'saw': 360, 'class': 361, 'gram': 362, 'run': 363, 'half': 364, 'eigh': 365, 'smart': 366, 'almost': 367, 'whol': 368, 'second': 369, 'fyi': 370, 'rid': 371, 'morn': 372, 'crash': 373, 'plac': 374, 'wow': 375, 'nev': 376, 'embarass': 377, 'accomod': 378, 'thought': 379, 'sint': 380, 'best': 381, 'seem': 382, 'happy': 383, 'cav': 384, 'sorry': 385, 'giv': 386, 'off': 387, 'ac': 388, 'sptv': 389, 'jersey': 390, 'devil': 391, 'detroit': 392, 'red': 393, 'wing': 394, 'play': 395, 'ic': 396, 'hockey': 397, 'correct': 398, 'incorrect': 399, 'end': 400, 'mallik': 401, 'sheraw': 402, 'yesterday': 403, 'find': 404, 'url': 405, 'congr': 406, 'year': 407, 'spec': 408, 'cinem': 409, 'pass': 410, '09061209465': 411, 'suprm': 412, 'matrix3': 413, 'starwars3': 414, 'etc': 415, 'bx420': 416, 'ip4': 417, '5we': 418, '150pm': 419, 'lat': 420, 'reach': 421, 'gaut': 422, 'sehw': 423, 'od': 424, 'pick': 425, 'burg': 426, 'mov': 427, 'pain': 428, 'kil': 429, 'good': 430, 'girl': 431, 'situ': 432, 'seek': 433, 'part': 434, 'check': 435, 'iq': 436, 'took': 437, 'forev': 438, 'doubl': 439, 'hair': 440, 'dress': 441, 'said': 442, 'wun': 443, 'cut': 444, 'short': 445, 'nic': 446, 'adv': 447, 'follow': 448, 'rec': 449, 'review': 450, 'mob': 451, 'award': 452, '1500': 453, 'bon': 454, '09066364589': 455, 'song': 456, 'ded': 457, 'frnds': 458, 'rply': 459, 'comply': 460, 'trip': 461, 'eurodisint': 462, 'trav': 463, 'aco': 464, 'entry41': 465, '1000': 466, 'dis': 467, '18': 468, '6': 469, 'morefrmmob': 470, 'shracomorsglsuplt': 471, '10': 472, 'ls1': 473, '3aj': 474, 'hear': 475, 'divorc': 476, 'barby': 477, 'ken': 478, 'plan': 479, 'wah': 480, 'lucky': 481, 'sav': 482, 'money': 483, 'hee': 484, 'hi': 485, 'bab': 486, 'im': 487, 'wann': 488, 'someth': 489, 'xx': 490, 'perform': 491, 'mach': 492, 'that': 493, 'cool': 494, 'gentlem': 495, 'dign': 496, 'respect': 497, 'peopl': 498, 'much': 499, 'shy': 500, 'pa': 501, 'op': 502, 'job': 503, 'ta': 504, 'earn': 505, 'ah': 506, 'stop': 507, 'urgnt': 508, 'yo': 509, 'ticket': 510, 'jacket': 511, 'mult': 512, 'start': 513, 'cam': 514, 'bed': 515, 'coin': 516, 'fact': 517, 'gott': 518, 'nitro': 519, 'el': 520, 'kano': 521, 'il': 522, 'download': 523, 'wen': 524, 'stand': 525, 'clos': 526, 'anoth': 527, 'night': 528, 'spent': 529, 'afternoon': 530, 'casual': 531, 'mean': 532, 'stuff42moro': 533, 'includ': 534, 'sheet': 535, 'smil': 536, 'troubl': 537, 'pour': 538, 'rain': 539, 'sum1': 540, 'hurt': 541, 'becoz': 542, 'someon': 543, 'serv': 544, 'repres': 545, '0800': 546, '169': 547, '6031': 548, '10am': 549, '9pm': 550, 'guarantee': 551, '5000': 552, 'hav': 553, 'buy': 554, 'lido': 555, '530': 556, 'show': 557, 'collect': 558, 'simply': 559, 'password': 560, 'mix': 561, '85069': 562, 'ver': 563, 'ush': 564, 'britney': 565, 'fml': 566, 'telugu': 567, 'movy': 568, 'abt': 569, 'load': 570, 'loan': 571, 'wk': 572, 'hol': 573, 'forgot': 574, 'hairdress': 575, 'appoint': 576, 'four': 577, 'beforehand': 578, 'caus': 579, 'prob': 580, 'ham': 581, 'noth': 582, 'els': 583, 'okay': 584, 'pric': 585, 'long': 586, 'leg': 587, 'av': 588, 'gon': 589, '4the': 590, 'driv': 591, 'test': 592, 'yet': 593, 'guess': 594, 'gav': 595, 'boston': 596, 'men': 597, 'chang': 598, 'loc': 599, 'nyc': 600, 'cuz': 601, 'signin': 602, 'pag': 603, 'umm': 604, 'lif': 605, 'vav': 606, 'lot': 607, 'dear': 608, 'wish': 609, 'birthday': 610, 'tru': 611, 'mem': 612, 'aight': 613, 'hit': 614, 'would': 615, 'ip': 616, 'address': 617, 'consid': 618, 'comput': 619, 'minecraft': 620, 'grumpy': 621, 'old': 622, 'bet': 623, 'lying': 624, 'busy': 625, 'plur': 626, 'noun': 627, 'research': 628, 'cos': 629, 'thing': 630, 'scar': 631, 'mah': 632, 'loud': 633, 'gent': 634, 'contact': 635, 'last': 636, 'draw': 637, '09064012160': 638, 'k52': 639, '12hrs': 640, '150ppm': 641, 'wa': 642, 'openin': 643, 'sent': 644, 'form': 645, 'anyway': 646, 'juz': 647, 'tt': 648, 'eatin': 649, 'puttin': 650, 'weight': 651, 'hah': 652, 'anythin': 653, 'hap': 654, 'ent': 655, 'cabin': 656, 'boss': 657, 'felt': 658, 'askd': 659, 'apart': 660, 'went': 661, 'holiday': 662, 'flight': 663, 'int': 664, '0871277810910p': 665, 'min': 666, 'goodo': 667, 'must': 668, 'friday': 669, 'potato': 670, 'ratio': 671, 'tortill': 672, 'hmm': 673, 'unc': 674, 'inform': 675, 'school': 676, 'direct': 677, 'food': 678, 'priv': 679, '2004': 680, 'account': 681, 'stat': 682, '07742676969': 683, '786': 684, 'unredeem': 685, '08719180248': 686, 'ident': 687, '45239': 688, 'expir': 689, '2000': 690, '03': 691, 'landlin': 692, '09064019788': 693, 'box42wr29c': 694, 'appl': 695, 'pair': 696, 'malarky': 697, 'vod': 698, 'numb': 699, '7548': 700, '350': 701, 'match': 702, '08712300220': 703, 'quot': 704, '4041': 705, 'standard': 706, 'ap': 707, 'sao': 708, 'mu': 709, 'ìï': 710, 'predict': 711, 'yetund': 712, 'both': 713, 'involv': 714, 'impos': 715, 'apolog': 716, 'del': 717, 'bak': 718, 'sum': 719, 'lucyxx': 720, 'tmorrow': 721, 'answ': 722, 'sunshin': 723, 'quiz': 724, 'q': 725, 'top': 726, 'sony': 727, 'dvd': 728, 'country': 729, 'algarv': 730, 'ansr': 731, '82277': 732, 'sp': 733, 'tyron': 734, 'laid': 735, 'dog': 736, 'join': 737, 'largest': 738, 'bt': 739, 'txting': 740, 'gravel': 741, '69888': 742, 'nt': 743, 'ec2a': 744, '31p': 745, 'haf': 746, 'msn': 747, 'yiju': 748, 'hotmail': 749, 'bef': 750, 'act': 751, 'msgs': 752, 'chat': 753, 'svc': 754, 'hardc': 755, '69988': 756, 'ag': 757, 'yr': 758, 'lazy': 759, 'typ': 760, 'lect': 761, 'pouch': 762, 'sir': 763, 'mail': 764, 'swt': 765, 'nver': 766, 'tir': 767, 'littl': 768, 'person': 769, 'coz': 770, 'somtim': 771, 'occupy': 772, 'biggest': 773, 'heart': 774, 'gud': 775, 'ni8': 776, 'ya': 777, 'dot': 778, 'what': 779, 'staff': 780, 'randy': 781, 'sexy': 782, 'fem': 783, 'luv': 784, 'netcollex': 785, 'ltd': 786, '08700621170150p': 787, 'ummm': 788, 'begin': 789, 'qat': 790, 'pray': 791, 'hard': 792, 'delet': 793, 'sindu': 794, 'birl': 795, 'soft': 796, 'flow': 797, 'thk': 798, 'plaz': 799, 'everywh': 800, 'dirt': 801, 'flo': 802, 'window': 803, 'shirt': 804, 'sometim': 805, 'mou': 806, 'dream': 807, 'without': 808, 'chor': 809, 'joy': 810, 'tv': 811, 'ex': 812, 'hail': 813, 'mist': 814, 'becom': 815, 'aaooooright': 816, 'leav': 817, 'hous': 818, 'interview': 819, 'boy': 820, 'annont': 821, '07046744435': 822, 'arrang': 823, '0871277810810': 824, 'keep': 825, 'saf': 826, 'envy': 827, 'everyon': 828, 'par': 829, 'hand': 830, 'excit': 831, 'spend': 832, 'bootyd': 833, '32': 834, 'f': 835, '434': 836, 'frnd': 837, '62468': 838, 'bangbab': 839, 'ord': 840, 'cont': 841, 'goto': 842, 'bangb': 843, 'internet': 844, 'menu': 845, 'cult': 846, 'mod': 847, '09061701939': 848, 's89': 849, 'avoid': 850, 'missunderstd': 851, 'wit': 852, 'belov': 853, 'escap': 854, 'fant': 855, 'bridg': 856, 'lag': 857, 'complet': 858, 'clark': 859, 'also': 860, 'ut': 861, 'wast': 862, 'ax': 863, 'bank': 864, 'hmmm': 865, 'muz': 866, 'discuss': 867, 'liao': 868, 'bloody': 869, 'hel': 870, 'cant': 871, 'believ': 872, 'surnam': 873, 'mr': 874, 'clu': 875, 'span': 876, 'bath': 877, 'carlo': 878, 'mal': 879, 'stay': 880, 'smok': 881, 'wor': 882, 'doesnt': 883, 'log': 884, 'spok': 885, 'maneesh': 886, 'satisfy': 887, 'expery': 888, 'tol': 889, 'lift': 890, 'espec': 891, 'approach': 892, 'study': 893, 'gr8': 894, 'trust': 895, 'guy': 896, 'bye': 897, 'handsom': 898, 'toward': 899, 'mummy': 900, 'boytoy': 901, 'awesom': 902, 'minut': 903, 'freephon': 904, '0808': 905, '145': 906, '4742': 907, '9am': 908, '11pm': 909, 'xma': 910, 'radio': 911, 'jus': 912, 'sis': 913, 'un': 914, '30th': 915, 'august': 916, 'areyouun': 917, 'leagu': 918, 'touch': 919, 'deal': 920, 'cours': 921, 'howev': 922, 'suggest': 923, 'abl': 924, 'or': 925, 'every': 926, 'stool': 927, 'settl': 928, 'wishin': 929, 'mrng': 930, 'story': 931, 'hamst': 932, 'dead': 933, 'tmr': 934, '1pm': 935, 'orchard': 936, 'mrt': 937, 'kat': 938, 'babyjontet': 939, 'found': 940, 'buck': 941, 'darlin': 942, 'iv': 943, 'colleg': 944, 'refil': 945, 'success': 946, 'inr': 947, 'decim': 948, 'keralacirc': 949, 'prepaid': 950, 'bal': 951, 'rs': 952, 'transact': 953, 'id': 954, 'kr': 955, 'goodmorn': 956, 'sleep': 957, 'ga': 958, 'alt': 959, 'ericsson': 960, 'oso': 961, 'cannot': 962, 'ored': 963, 'straight': 964, 'connect': 965, 'refund': 966, 'bil': 967, 'shoot': 968, 'big': 969, 'ready': 970, 'bruv': 971, 'break': 972, 'semest': 973, 'noe': 974, 'leh': 975, 'sound': 976, 'head': 977, 'slept': 978, 'past': 979, 'easy': 980, 'sen': 981, 'exam': 982, 'march': 983, 'atm': 984, 'reg': 985, 'os': 986, 'ubandu': 987, 'instal': 988, 'disk': 989, 'import': 990, 'fil': 991, 'system': 992, 'repair': 993, 'shop': 994, 'rom': 995, 'nit': 996, 'scenery': 997, '500': 998, '89545': 999, 'tc': 1000, 'biz': 1001, '2optout': 1002, '087187262701': 1003, '50gbp': 1004, 'mtmsg18': 1005, 'apprecy': 1006, 'partn': 1007, 'flyng': 1008, 'horo': 1009, 'star': 1010, 'sign': 1011, 'g': 1012, 'ary': 1013, 'company': 1014, 'elam': 1015, 'po': 1016, 'mudyadhu': 1017, 'strict': 1018, 'teach': 1019, 'bcoz': 1020, 'conduc': 1021, 'gandhipuram': 1022, 'walk': 1023, 'cross': 1024, 'road': 1025, 'sid': 1026, 'street': 1027, 'rub': 1028, 'battery': 1029, 'died': 1030, 'flirt': 1031, '10p': 1032, 'sam': 1033, '25': 1034, 'recd': 1035, 'thirtyeight': 1036, 'pent': 1037, 'print': 1038, 'upstair': 1039, 'wil': 1040, 'the': 1041, 'argu': 1042, 'los': 1043, 'kick': 1044, '447801259231': 1045, 'secret': 1046, 'admir': 1047, 'rev': 1048, '09058094597': 1049, 'tomarrow': 1050, 'laptop': 1051, 'cas': 1052, 'pleasssssss': 1053, 'sportsx': 1054, 'shin': 1055, 'meant': 1056, 'although': 1057, 'told': 1058, 'baig': 1059, 'fac': 1060, 'fr': 1061, 'thanx': 1062, 'everyth': 1063, 'commerc': 1064, 'websit': 1065, 'slip': 1066, 'kal': 1067, 'bat': 1068, 'in': 1069, 'didnt': 1070, 'goodnight': 1071, 'fix': 1072, 'wak': 1073, 'congrat': 1074, 'cd': 1075, 'vouch': 1076, '125gift': 1077, 'mus': 1078, '87066': 1079, 'tncs': 1080, 'ldew': 1081, 'com1win150ppmx3age16': 1082, 'ranji': 1083, 'drpd': 1084, 'deeras': 1085, 'deepak': 1086, '5min': 1087, 'hold': 1088, 'bcum': 1089, 'angry': 1090, 'wid': 1091, 'dnt': 1092, 'deep': 1093, 'affect': 1094, 'kettod': 1095, 'mand': 1096, 'up': 1097, '3days': 1098, 'ship': 1099, '2wks': 1100, 'usp': 1101, 'brib': 1102, 'nipost': 1103, 'lem': 1104, 'necess': 1105, 'expect': 1106, 'headin': 1107, 'mmm': 1108, 'jolt': 1109, 'suzy': 1110, 'video': 1111, 'handset': 1112, '750': 1113, 'anytim': 1114, 'unlimit': 1115, 'park': 1116, 'disturb': 1117, 'luton': 1118, '0125698789': 1119, 'ring': 1120, 'h': 1121, 'horny': 1122, 'nak': 1123, 'hot': 1124, '69698': 1125, 'unsubscrib': 1126, 'dint': 1127, 'wan': 1128, 'sometm': 1129, 'club4mobiles': 1130, 'choos': 1131, 'club': 1132, '87070': 1133, 'club4': 1134, 'box1146': 1135, 'mk45': 1136, '2wt': 1137, 'evo': 1138, 'flash': 1139, 'jeal': 1140, 'singl': 1141, 'chart': 1142, 'qual': 1143, 'sort': 1144, 'narcot': 1145, 'sunny': 1146, 'ray': 1147, 'blu': 1148, 'bay': 1149, 'hmv': 1150, 'genuin': 1151, '86688': 1152, '100percent': 1153, 'might': 1154, 'object': 1155, 'bf': 1156, 'rob': 1157, 'mack': 1158, 'gf': 1159, 'celebr': 1160, 'ful': 1161, 'swing': 1162, 'tool': 1163, 'far': 1164, 'oky': 1165, 'ahold': 1166, 'anybody': 1167, 'throw': 1168, 'baby': 1169, 'cruisin': 1170, 'fon': 1171, 'jenny': 1172, 'ge': 1173, 'shal': 1174, 'tonit': 1175, 'varunnathu': 1176, 'edukkukay': 1177, 'raksh': 1178, 'ollu': 1179, 'sens': 1180, 'gautham': 1181, 'stupid': 1182, 'buzy': 1183, 'accid': 1184, 'resend': 1185, 'phon': 1186, 'upgrad': 1187, 'sim': 1188, 'card': 1189, 'loyal': 1190, '0845': 1191, '021': 1192, '3680': 1193, '28thfeb': 1194, 'unless': 1195, 'gurl': 1196, 'appropry': 1197, 'teas': 1198, 'cry': 1199, 'die': 1200, 'plz': 1201, 'ros': 1202, 'grav': 1203, 'bslvyl': 1204, 'coff': 1205, 'somebody': 1206, 'high': 1207, 'diesel': 1208, 'shit': 1209, 'shock': 1210, 'scary': 1211, 'imagin': 1212, 'def': 1213, 'somewh': 1214, 'tax': 1215, 'fridg': 1216, 'meal': 1217, 'womdarful': 1218, 'blind': 1219, '4u': 1220, 'rodds1': 1221, '21': 1222, 'aberdeen': 1223, 'unit': 1224, 'kingdom': 1225, 'img': 1226, 'w': 1227, 'icmb3cktz8r7': 1228, 'hid': 1229, 'remb': 1230, 'book': 1231, 'jos': 1232, 'hang': 1233, 'thread': 1234, 'themob': 1235, 'newest': 1236, 'gam': 1237, 'ton': 1238, 'gossip': 1239, 'sport': 1240, 'fit': 1241, 'funky': 1242, '82468': 1243, 'gar': 1244, 'key': 1245, 'bookshelf': 1246, 'acceiv': 1247, 'sist': 1248, 'dear1': 1249, 'best1': 1250, 'clos1': 1251, 'lvblefrnd': 1252, 'jstfrnd': 1253, 'cutefrnd': 1254, 'lifpartnr': 1255, 'belovd': 1256, 'swtheart': 1257, 'bstfrnd': 1258, 'enemy': 1259, '200': 1260, '85222': 1261, 'cs': 1262, 'winnersclub': 1263, 'box': 1264, '84': 1265, 'm26': 1266, '3uz': 1267, 'gbp1': 1268, 'definit': 1269, '2day': 1270, 'norm': 1271, 'rest': 1272, 'myl': 1273, 'wot': 1274, 'lost': 1275, 'mad': 1276, 'pong': 1277, 'kb': 1278, 'pow': 1279, 'yog': 1280, 'dunno': 1281, 'tah': 1282, 'anot': 1283, 'lo': 1284, 'dud': 1285, 'afraid': 1286, 'decemb': 1287, '11mths': 1288, '08002986906': 1289, 'cak': 1290, 'merry': 1291, 'christmas': 1292, 'kiss': 1293, 'cud': 1294, 'ppl': 1295, 'l8': 1296, 'waitin': 1297, 'pet': 1298, 'guild': 1299, 'bristol': 1300, 'problem': 1301, 'track': 1302, 'record': 1303, 'read': 1304, 'wom': 1305, 'light': 1306, 'apo': 1307, 'return': 1308, 'immedy': 1309, 'germany': 1310, 'lin': 1311, 'via': 1312, 'access': 1313, '0844': 1314, '861': 1315, '85': 1316, 'prepay': 1317, 'evap': 1318, 'viol': 1319, 'ste': 1320, 'employ': 1321, 'paperwork': 1322, 'report': 1323, 'superv': 1324, 'valentin': 1325, 'lifetim': 1326, '83600': 1327, 'rcvd': 1328, 'custc': 1329, '08718720201': 1330, 'daaaa': 1331, 'surf': 1332, 'post': 1333, '1000s': 1334, 'wiv': 1335, 'carolin': 1336, 'favourit': 1337, 'stranger': 1338, 'interest': 1339, 'two': 1340, 'round': 1341, 'gudnit': 1342, 'pract': 1343, 'huim': 1344, 'num': 1345, 'smal': 1346, 'prestig': 1347, 'shag': 1348, 'sextextuk': 1349, 'xxuk': 1350, '69876': 1351, 'txts': 1352, 'jeremiah': 1353, 'iphon': 1354, 'apeshit': 1355, 'misbehav': 1356, 'slap': 1357, 'urself': 1358, 'fault': 1359, 'bas': 1360, 'fig': 1361, 'alcohol': 1362, 'jay': 1363, 'wee': 1364, 'ish': 1365, 'ago': 1366, 'wtf': 1367, 'onam': 1368, 'sirj': 1369, 'met': 1370, 'ins': 1371, 'insh': 1372, 'allah': 1373, 'rakhesh': 1374, 'tat': 1375, 'aig': 1376, 'tissco': 1377, 'tays': 1378, 'cur': 1379, 'maxim': 1380, 'cc': 1381, '08708800282': 1382, 'hg': 1383, 'suite342': 1384, '2lands': 1385, 'row': 1386, 'w1j6hl': 1387, 'unemploy': 1388, 'st': 1389, 'andrew': 1390, 'cold': 1391, 'chikku': 1392, 'db': 1393, 'audrey': 1394, 'forward': 1395, 'dawn': 1396, 'refresh': 1397, 'al': 1398, 'air': 1399, 'z': 1400, 'update_now': 1401, 'motorol': 1402, 'sonyericsson': 1403, 'bluetoo': 1404, 'orang': 1405, 'mobileupd8': 1406, '08000839402': 1407, 'call2optout': 1408, 'f4q': 1409, 'discount': 1410, 'rp176781': 1411, 'regalportfolio': 1412, '08717205546': 1413, 'uniform': 1414, 'gee': 1415, 'wok': 1416, 'cuddl': 1417, 'spoil': 1418, 'agr': 1419, 'ref': 1420, 't91': 1421, 'gbp': 1422, '09057039994': 1423, 'seen': 1424, 'recogn': 1425, 'lindsay': 1426, 'sigh': 1427, 'bar': 1428, 'ptbo': 1429, 'heron': 1430, 'payasam': 1431, 'rinu': 1432, 'bring': 1433, 'taught': 1434, 'beca': 1435, 'hes': 1436, 'project': 1437, 'prabu': 1438, 'mistak': 1439, 'body': 1440, 'quit': 1441, 'slow': 1442, 'guid': 1443, 'ov': 1444, 'relax': 1445, 'reason': 1446, 'followin': 1447, 'coupl': 1448, 'wallet': 1449, '945': 1450, '6months': 1451, 'n9dx': 1452, 'owl': 1453, 'lick': 1454, 'mm': 1455, '4mths': 1456, 'rent': 1457, 'mobilesdirect': 1458, '08000938767': 1459, 'or2stoptxt': 1460, 'huh': 1461, 'sat': 1462, 'intro': 1463, 'pil': 1464, 'kickbox': 1465, 'lap': 1466, 'shut': 1467, 'bout': 1468, '7': 1469, '30ish': 1470, 'calc': 1471, 'period': 1472, 'rock': 1473, 'put': 1474, 'pict': 1475, 'ass': 1476, 'facebook': 1477, 'salam': 1478, 'wahleykk': 1479, 'shar': 1480, 'grac': 1481, 'god': 1482, 'inshah': 1483, 'visit': 1484, 'ind': 1485, 'field': 1486, 'admin': 1487, '87131': 1488, 'poly': 1489, '2814032': 1490, '1st': 1491, '3xå': 1492, '150pw': 1493, 'eå': 1494, 'nd': 1495, 'chech': 1496, 'cream': 1497, 'non': 1498, 'yep': 1499, 'loxahatch': 1500, 'ston': 1501, 'slight': 1502, 'disast': 1503, 'pm': 1504, 'fav': 1505, 'wld': 1506, 'drink': 1507, 'busetop': 1508, 'fullonsm': 1509, 'iron': 1510, 'yan': 1511, 'jiu': 1512, 'skip': 1513, 'den': 1514, 'blah': 1515, 'wendy': 1516, 'l': 1517, '09064012103': 1518, 'box334sk38ch': 1519, 'whatsup': 1520, '250': 1521, 'competit': 1522, '80086': 1523, 'txttowin': 1524, 'logo': 1525, 'name1': 1526, 'name2': 1527, 'mobno': 1528, 'adam': 1529, '07123456789': 1530, 'yahoo': 1531, 'pobox36504w45wq': 1532, 'txtno': 1533, 'ad': 1534, '09111032124': 1535, 'pobox12n146tf150p': 1536, 'siv': 1537, 'hostel': 1538, '09058094455': 1539, 'land': 1540, '3030': 1541, 'voic': 1542, 'express': 1543, 'senty': 1544, 'rowdy': 1545, 'attitud': 1546, '8': 1547, 'attract': 1548, 'funny': 1549, 'irrit': 1550, 'aath': 1551, 'urin': 1552, 'esplanad': 1553, 'mind': 1554, 'wnt': 1555, 'bmw': 1556, 'vry': 1557, 'hv': 1558, 'lac': 1559, 'sourc': 1560, 'arng': 1561, 'amt': 1562, 'fifteen': 1563, 'fuck': 1564, 'respond': 1565, '3650': 1566, '09066382422': 1567, '3mins': 1568, 'vary': 1569, '300603': 1570, 'bcm4284': 1571, 'ldn': 1572, 'wc1n3xx': 1573, 'hillsborough': 1574, 'th': 1575, 'askin': 1576, 'doll': 1577, 'sho': 1578, 'iour': 1579, 'ten': 1580, 'appleb': 1581, 'journey': 1582, 'hasnt': 1583, 'gd': 1584, 'bhaj': 1585, 'cricket': 1586, 'sachin': 1587, 'tough': 1588, 'suppos': 1589, 'oic': 1590, 'tot': 1591, 'group': 1592, 'wereth': 1593, 'monkeespeopl': 1594, 'monkeyaround': 1595, 'howdy': 1596, 'gorg': 1597, 'blimey': 1598, 'exerc': 1599, 'kind': 1600, 'hank': 1601, 'lots': 1602, 'detail': 1603, 'transf': 1604, 'acc': 1605, 'optim': 1606, 'improv': 1607, 'purpos': 1608, '75': 1609, 'homeown': 1610, 'welcom': 1611, 'prevy': 1612, 'refus': 1613, '1956669': 1614, 'si': 1615, 'oreo': 1616, 'truffl': 1617, 'amy': 1618, 'beauty': 1619, 'intellig': 1620, 'donåõt': 1621, 'result': 1622, 'consist': 1623, 'practic': 1624, 'ttyl': 1625, 'isnt': 1626, 'thru': 1627, 'diff': 1628, 'wav': 1629, 'individ': 1630, 'heal': 1631, 'upgrdc': 1632, '0207': 1633, '153': 1634, '9153': 1635, '26th': 1636, 'july': 1637, 'opt': 1638, 'railway': 1639, 'princess': 1640, 'doggy': 1641, 'styl': 1642, 'posit': 1643, 'enjoy': 1644, 'slippery': 1645, 'bik': 1646, 'many': 1647, 'langu': 1648, 'okmail': 1649, 'dav': 1650, 'not': 1651, '09061743806': 1652, 'tcs': 1653, 'sae': 1654, 'box326': 1655, 'cw25wx': 1656, 'screamed': 1657, 'remov': 1658, 'flat': 1659, '9ja': 1660, 'moan': 1661, '69888nyt': 1662, 'brok': 1663, 'cum': 1664, 'infront': 1665, 'wis': 1666, '9t': 1667, 'tend': 1668, '8th': 1669, 'mcr': 1670, 'sec': 1671, 'tast': 1672, 'fb': 1673, 'jaykwon': 1674, 'thuglyf': 1675, 'falconerf': 1676, 'term': 1677, 'condit': 1678, '07781482378': 1679, 'depend': 1680, 'fad': 1681, 'glory': 1682, 'ralph': 1683, 'dry': 1684, 'trad': 1685, 'reun': 1686, 'meh': 1687, 'nop': 1688, 'monday': 1689, 'jackson': 1690, 'cent': 1691, '7ish': 1692, 'fight': 1693, 'eith': 1694, 'fightng': 1695, 'some1': 1696, 'dificult': 1697, 'nuerolog': 1698, 'loln': 1699, 'fish': 1700, '123': 1701, '1450': 1702, '09050002311': 1703, 'b4280703': 1704, '08718727868': 1705, 'bor': 1706, 'outsid': 1707, 'westsh': 1708, 'hyd': 1709, 'vil': 1710, 'near': 1711, 'anthony': 1712, 'fee': 1713, 'opin': 1714, 'jad': 1715, 'kusruth': 1716, 'sil': 1717, 'spl': 1718, 'charact': 1719, 'mat': 1720, 'simpl': 1721, 'scrounge': 1722, 'ammo': 1723, 'ak': 1724, 'prabh': 1725, 'soryd': 1726, 'rea': 1727, 'frm': 1728, 'sory': 1729, 'forg': 1730, 'jst': 1731, '40gb': 1732, 'ipod': 1733, 'mp3': 1734, '83355': 1735, 'ibhltd': 1736, 'ldnw15h': 1737, 'mtmsgrcvd18': 1738, 'boltblu': 1739, 'mono': 1740, 'poly3': 1741, 'cha': 1742, 'slid': 1743, 'jamz': 1744, 'tox': 1745, 'bubbletext': 1746, 'renew': 1747, 'pin': 1748, 'tgxxrz': 1749, 'transport': 1750, 'less': 1751, 'bday': 1752, 'nos': 1753, 'fri': 1754, 'unconscy': 1755, 'childr': 1756, 'adult': 1757, 'behav': 1758, 'abnorm': 1759, 'ebay': 1760, 'elsewh': 1761, 'pickl': 1762, 'taco': 1763, 'rud': 1764, 'camp': 1765, '02': 1766, '09': 1767, 'attempt': 1768, '0871': 1769, '872': 1770, '9755': 1771, 'box95qu': 1772, 'mas': 1773, '150': 1774, '85023': 1775, 'savamob': 1776, '08717898035': 1777, '00': 1778, 'sub': 1779, 'unsub': 1780, 'pretty': 1781, 'lady': 1782, 'reciev': 1783, 'within': 1784, '24hrs': 1785, 'channel': 1786, 'teletext': 1787, 'pg': 1788, 'faggot': 1789, '2003': 1790, '07815296484': 1791, '800': 1792, 'redeem': 1793, '08718738001': 1794, '41782': 1795, '04': 1796, 'l8r': 1797, 'malar': 1798, 'ban': 1799, 'lead': 1800, 'across': 1801, 'sea': 1802, 'fat': 1803, 'fing': 1804, 'button': 1805, 'ummmmmaah': 1806, 'tirup': 1807, 'applausest': 1808, 'monthlysubscrib': 1809, '50p': 1810, 'max6': 1811, 'csc': 1812, 'web': 1813, 'age16': 1814, '2stop': 1815, 'fam': 1816, 'develop': 1817, 'list': 1818, 'uncondit': 1819, 'temp': 1820, 'self': 1821, 'confid': 1822, 'marry': 1823, 'oclock': 1824, 'bash': 1825, 'recovery': 1826, 'rath': 1827, 'coop': 1828, 'hotel': 1829, 'engl': 1830, 'blok': 1831, 'weddin': 1832, 'omw': 1833, 'btw': 1834, 'alib': 1835, 'sink': 1836, 'pac': 1837, 'cag': 1838, 'cock': 1839, 'surround': 1840, 'remind': 1841, 'own': 1842, 'cuck': 1843, 'hurry': 1844, 'deficy': 1845, 'three': 1846, 'acknowledg': 1847, 'astound': 1848, 'tactless': 1849, 'gen': 1850, 'faggy': 1851, 'demand': 1852, 'blood': 1853, 'oa': 1854, 'fo': 1855, 'warm': 1856, 'milk': 1857, 'mag': 1858, 'loos': 1859, 'pan': 1860, 'cheap': 1861, 'perhap': 1862, 'uv': 1863, 'mut': 1864, 'sunscreen': 1865, 'ess': 1866, 'theseday': 1867, 'onlin': 1868, 'pic': 1869, 'aiyo': 1870, 'mei': 1871, 'fast': 1872, 'workin': 1873, 'bao': 1874, 'sugardad': 1875, 'browny': 1876, '2mrw': 1877, 'nin': 1878, 'icky': 1879, 'freek': 1880, 'callin': 1881, 'jen': 1882, 'oooh': 1883, 'ey': 1884, 'gym': 1885, 'whatev': 1886, 'daddy': 1887, 'scream': 1888, 'dick': 1889, 'missy': 1890, 'yar': 1891, 'mum': 1892, 'sch': 1893, 'cle': 1894, 'lab': 1895, 'goggl': 1896, 'door': 1897, 'call09050000327': 1898, '09050005321': 1899, 'arngd': 1900, 'walkin': 1901, 'unfortunt': 1902, 'snak': 1903, 'dant': 1904, 'frnt': 1905, 'sayin': 1906, 'izzit': 1907, 'textand': 1908, '08002988890': 1909, 'kid': 1910, 'jjc': 1911, 'headach': 1912, 'jazz': 1913, 'yogasan': 1914, 'em': 1915, 'meiv': 1916, 'gotany': 1917, 'srsly': 1918, 'yi': 1919, 'spree': 1920, '80878': 1921, '08715705022': 1922, '1x150p': 1923, '08712402050': 1924, '10ppm': 1925, 'promo': 1926, '07753741225': 1927, '08715203677': 1928, '42478': 1929, '24': 1930, 'grand': 1931, 'prix': 1932, 'nitz': 1933, 'annount': 1934, '542': 1935, '0825': 1936, 'exhaust': 1937, 'train': 1938, 'pie': 1939, 'pres': 1940, 'ar': 1941, 'blastin': 1942, 'tsunam': 1943, 'occ': 1944, 'rajnik': 1945, 'swim': 1946, 'oc': 1947, 'noon': 1948, 'xclusive': 1949, 'clubsaisa': 1950, '2morow': 1951, '28': 1952, 'soir': 1953, 'zouk': 1954, 'nichol': 1955, '07946746291': 1956, '07880867867': 1957, 'bridgw': 1958, 'bant': 1959, 'imm': 1960, 'somethin': 1961, '22': 1962, 'euro2004': 1963, 'dai': 1964, '83222': 1965, 'que': 1966, 'suit': 1967, 'thanx4': 1968, 'cer': 1969, 'oft': 1970, 'fut': 1971, 'hundr': 1972, 'aunty': 1973, 'shuhu': 1974, 'leon': 1975, 'react': 1976, 'famy': 1977, 'snow': 1978, 'weath': 1979, 'togeth': 1980, 'grow': 1981, 'dismay': 1982, 'alex': 1983, 'concern': 1984, 'pub': 1985, 'bud': 1986, 'paid': 1987, 'market': 1988, 'tootsy': 1989, 'pop': 1990, 'dar': 1991, 'textbuddy': 1992, 'are': 1993, '25p': 1994, 'postcod': 1995, 'gaytextbuddy': 1996, '89693': 1997, 'vodafon': 1998, '4882': 1999, '09064019014': 2000, 'seventeen': 2001, 'sev': 2002, 'ml': 2003, 'ûò': 2004, 'pc': 2005, 'tlp': 2006, 'expressoff': 2007, 'ts': 2008, '80062': 2009, 'sweetheart': 2010, 'biol': 2011, 'login': 2012, 'dad': 2013, 'fetch': 2014, 'restock': 2015, 'thanksg': 2016, 'effect': 2017, 'bright': 2018, 'thursday': 2019, 'allo': 2020, 'brav': 2021, 'triumph': 2022, 'jol': 2023, 'cartoon': 2024, 'templ': 2025, 'church': 2026, 'uncomfort': 2027, '08715203694': 2028, '40533': 2029, '31': 2030, 'email': 2031, 'rstm': 2032, 'sw7': 2033, '3ss': 2034, 'gentl': 2035, 'sonetim': 2036, 'rough': 2037, 'tuesday': 2038, 'wesley': 2039, 'town': 2040, 'hell': 2041, 'drug': 2042, 'impaty': 2043, 'sun': 2044, 'cloud': 2045, 'riv': 2046, 'evng': 2047, 'wikiped': 2048, '88800': 2049, '89034': 2050, 'prem': 2051, '08718711108': 2052, 'lay': 2053, 'envelop': 2054, 'pap': 2055, 'rep': 2056, 'de': 2057, 'prep': 2058, 'kam': 2059, 'sutr': 2060, 'en': 2061, 'nang': 2062, 'bakr': 2063, 'kalstiy': 2064, 'lakh': 2065, 'ho': 2066, 'bel': 2067, 'laugh': 2068, 'sun0819': 2069, '08452810071': 2070, 'ditto': 2071, 'peac': 2072, 'knw': 2073, 'wetherspoon': 2074, 'piggy': 2075, 'awak': 2076, 'freaky': 2077, 'yel': 2078, 'scrappy': 2079, 'lon': 2080, 'hex': 2081, 'explain': 2082, 'sdryb8i': 2083, 'xy': 2084, 'sue': 2085, 'lapd': 2086, 'sex': 2087, 'bedroom': 2088, '89555': 2089, 'textop': 2090, 'g2': 2091, '1da': 2092, '150ppmsg': 2093, 'king': 2094, 'build': 2095, 'map': 2096, 'imprt': 2097, 'tomorw': 2098, 'cherthal': 2099, 'cochin': 2100, 'bfor': 2101, 'accord': 2102, 'tmorow': 2103, 'eng': 2104, 'an': 2105, 'torch': 2106, 'bold': 2107, '448712404000': 2108, '08712404000': 2109, 'farm': 2110, '4d': 2111, '1405': 2112, '1680': 2113, '1843': 2114, 'law': 2115, 'purchas': 2116, 'poop': 2117, 'gpu': 2118, 'entrepr': 2119, 'corp': 2120, 'gap': 2121, 'û_': 2122, 'prev': 2123, 'dehydr': 2124, 'fluid': 2125, 'weird': 2126, 'ide': 2127, 'away': 2128, 'trek': 2129, 'harr': 2130, 'drivin': 2131, 'fantast': 2132, 'gag': 2133, 'deck': 2134, 'cnupd': 2135, 'newslet': 2136, 'alert': 2137, 'height': 2138, 'aeronaut': 2139, 'profess': 2140, 'wer': 2141, 'calld': 2142, 'sit': 2143, 'aeropl': 2144, 'ws': 2145, 'stud': 2146, 'dey': 2147, 'shitstorm': 2148, 'attribut': 2149, '08714712388': 2150, '7pm': 2151, 'stress': 2152, 'dorm': 2153, 'sel': 2154, '449071512431': 2155, '1250': 2156, '09071512433': 2157, 'b4': 2158, '050703': 2159, 'csbcm4235wc1n3xx': 2160, 'callcost': 2161, 'mobilesv': 2162, 'maxå': 2163, 'sth': 2164, 'px3748': 2165, '08714712394': 2166, 'upset': 2167, 'assum': 2168, 'mindset': 2169, 'flim': 2170, 'cooky': 2171, 'jel': 2172, 'admit': 2173, 'scrumptious': 2174, 'ba': 2175, 'dao': 2176, 'half8th': 2177, 'exact': 2178, 'jid': 2179, 'alertfrom': 2180, 'jer': 2181, 'stewarts': 2182, '2kbsubject': 2183, 'low': 2184, 'prescripiton': 2185, 'drvgsto': 2186, 'spring': 2187, 'yay': 2188, 'steak': 2189, 'twic': 2190, 'neglect': 2191, 'opportun': 2192, 'nokia6650': 2193, 'txtauction': 2194, '81151': 2195, '4t': 2196, 'ctxt': 2197, 'mtmsg': 2198, 'rit': 2199, 'gal': 2200, 'attach': 2201, 'glad': 2202, 'clock': 2203, 'shout': 2204, 'wahay': 2205, 'gaz': 2206, '930': 2207, '82324': 2208, 'helplin': 2209, '08706091795': 2210, 'gist': 2211, '40': 2212, 'thousand': 2213, 'tattoo': 2214, 'premy': 2215, 'gim': 2216, 'lip': 2217, 'caveboy': 2218, 'libr': 2219, 'confus': 2220, 'holl': 2221, 'anyon': 2222, 'spar': 2223, 'fai': 2224, 'poss': 2225, 'vibr': 2226, '79': 2227, '08704439680ts': 2228, 'grandma': 2229, 'hungov': 2230, 'unclaim': 2231, '09066368327': 2232, 'closingdate04': 2233, 'claimcod': 2234, 'm39m51': 2235, '50pmmorefrommobile2bremoved': 2236, 'mobypobox734ls27yf': 2237, 'gua': 2238, 'mt': 2239, 'fab': 2240, 'yest': 2241, 'city': 2242, 'stor': 2243, '88039': 2244, 'skilgm': 2245, 'tscs087147403231winawk': 2246, '50perwksub': 2247, 'goin': 2248, 'meetin': 2249, 'tis': 2250, 'dram': 2251, 'schools': 2252, 'app': 2253, 'anywh': 2254, 'damn': 2255, 'hunt': 2256, 'drunkard': 2257, 'idc': 2258, 'weasel': 2259, 'spac': 2260, 'trash': 2261, 'beg': 2262, 'sing': 2263, 'slav': 2264, 'pun': 2265, 'beer': 2266, '0578': 2267, 'randoml': 2268, 'perfect': 2269, 'commun': 2270, '100p': 2271, 'polyphon': 2272, '087018728737': 2273, 'toppo': 2274, 'tun': 2275, 'subpo': 2276, '81618': 2277, 'pol': 2278, '08718727870': 2279, 'fond': 2280, 'bein': 2281, 'thot': 2282, 'dogbrea': 2283, 'jan': 2284, 'omg': 2285, 'weigh': 2286, 'woohoo': 2287, 'uncount': 2288, 'dict': 2289, 'piec': 2290, '9996': 2291, '14thmarch': 2292, 'petey': 2293, 'wherear': 2294, 'friends': 2295, 'thekingshead': 2296, 'canlov': 2297, 'pobox84': 2298, 'm263uz': 2299, 'appt': 2300, 'no1': 2301, '8077': 2302, 'getz': 2303, '36504': 2304, 'w45wq': 2305, 'norm150p': 2306, 'cashto': 2307, '08000407165': 2308, 'getstop': 2309, '88222': 2310, 'php': 2311, 'rg21': 2312, '4jx': 2313, 'dled': 2314, '3d': 2315, 'imp': 2316, 'smokin': 2317, 'boooo': 2318, 'bec': 2319, 'ugh': 2320, 'nerv': 2321, 'costum': 2322, 'gift': 2323, 'yow': 2324, 'hint': 2325, 'borrow': 2326, 'bag': 2327, 'outbid': 2328, 'simonwatson5120': 2329, 'shinco': 2330, 'plyr': 2331, 'bid': 2332, 'smsrewards': 2333, 'model': 2334, 'you': 2335, 'galileo': 2336, 'dobby': 2337, 'boo': 2338, 'enjoyin': 2339, 'yourjob': 2340, 'gettin': 2341, 'hunny': 2342, 'iåõllspeak': 2343, '2u': 2344, 'soonlot': 2345, 'lovem': 2346, 'xxxx': 2347, 'starshin': 2348, 'ach': 2349, 'sip': 2350, 'cappuccino': 2351, 'smsservices': 2352, 'yourinclud': 2353, 'comuk': 2354, '3qxj9': 2355, 'extr': 2356, '08702840625': 2357, '220': 2358, 'cm2': 2359, '9ae': 2360, 'alfy': 2361, 'moon': 2362, 'm8s': 2363, 'char': 2364, '8007': 2365, 'nokia': 2366, 'zed': 2367, '08701417012': 2368, 'profit': 2369, 'hahah': 2370, 'brain': 2371, 'green': 2372, 'bur': 2373, 'mojibiol': 2374, '09065174042': 2375, 'cust': 2376, '07821230901': 2377, 'rv': 2378, 'havenåõt': 2379, 'rvx': 2380, 'skyp': 2381, 'kz': 2382, 'ultimat': 2383, 'countin': 2384, 'aburo': 2385, 'fiv': 2386, '08002888812': 2387, 'inconsid': 2388, 'nag': 2389, 'recess': 2390, 'hent': 2391, 'wed': 2392, 'soo': 2393, 'understand': 2394, '2morrow': 2395, 'comprehend': 2396, 'prashanthet': 2397, 'moth': 2398, '09066350750': 2399, 'ibiz': 2400, 'await': 2401, 'sk3': 2402, '8wp': 2403, 'ppm': 2404, 'meanwhil': 2405, 'xavy': 2406, 'warn': 2407, 'samanth': 2408, 'guit': 2409, 'impress': 2410, 'doug': 2411, 'stomach': 2412, 'traum': 2413, 'swear': 2414, 'tigress': 2415, 'vert': 2416, 'poor': 2417, 'urfeel': 2418, 'bettersn': 2419, 'probth': 2420, 'overdos': 2421, 'spk': 2422, 'sn': 2423, 'loves': 2424, 'discreet': 2425, 'vip': 2426, '83110': 2427, 'hai': 2428, 'sathy': 2429, 'rto': 2430, 'spoon': 2431, 'tamp': 2432, 'geni': 2433, 'whenev': 2434, 'lott': 2435, 'corvet': 2436, 'supply': 2437, 'cds': 2438, 'virgin': 2439, 'mystery': 2440, '09061104283': 2441, 'smsco': 2442, '50pm': 2443, 'approx': 2444, 'bunk': 2445, '07808': 2446, 'xxxxxx': 2447, '08719899217': 2448, '41685': 2449, '07': 2450, 'posh': 2451, 'bird': 2452, 'chap': 2453, 'prod': 2454, 'champney': 2455, 'dob': 2456, 'asap': 2457, '0721072': 2458, 'philosoph': 2459, 'drop': 2460, 'nap': 2461, 'atleast': 2462, 'otherw': 2463, 'shakespear': 2464, 'shesil': 2465, '10k': 2466, '5k': 2467, 'travel': 2468, '09064011000': 2469, 'ntt': 2470, 'cr01327bt': 2471, 'fixedlin': 2472, 'cast': 2473, 'liverpool': 2474, 'mid': 2475, '09058094565': 2476, '09065171142': 2477, 'stopsm': 2478, '08': 2479, 'doit': 2480, 'mymoby': 2481, 'knew': 2482, 'woul': 2483, 'curfew': 2484, 'gib': 2485, 'midnight': 2486, 'getsleep': 2487, 'studdy': 2488, 'mass': 2489, 'oil': 2490, 'sup': 2491, 'yoyyooo': 2492, 'permit': 2493, 'mac': 2494, 'usb': 2495, 'unsold': 2496, 'mik': 2497, 'hussey': 2498, 'fail': 2499, 'sad': 2500, 'unbeliev': 2501, 'faglord': 2502, 'murd': 2503, 'nut': 2504, 'ctter': 2505, 'cttergg': 2506, 'cttargg': 2507, 'ctarg': 2508, 'ctag': 2509, 'ie': 2510, 'thu': 2511, 'superb': 2512, 'grat': 2513, 'due': 2514, 'outstand': 2515, 'invo': 2516, 'smel': 2517, 'tobacco': 2518, 'derek': 2519, 'tayl': 2520, 'worst': 2521, 'charl': 2522, 'lastest': 2523, 'stereophon': 2524, 'marley': 2525, 'dizz': 2526, 'rac': 2527, 'libertin': 2528, 'strokes': 2529, 'nooki': 2530, 'bookmark': 2531, 'plu': 2532, 'grin': 2533, 'greet': 2534, 'whit': 2535, 'fudg': 2536, 'janu': 2537, 'sal': 2538, 'gay': 2539, '08709222922': 2540, '5p': 2541, '8p': 2542, 'peak': 2543, '08712460324': 2544, 'zah': 2545, 'ym': 2546, 'naus': 2547, 'piss': 2548, 'pig': 2549, 'diet': 2550, 'chip': 2551, 'iam': 2552, 'addict': 2553, 'msging': 2554, 'wrong': 2555, 'photo': 2556, 'yck': 2557, 'ashley': 2558, 'avalar': 2559, 'attend': 2560, 'blog': 2561, 'magicalsong': 2562, 'blogspot': 2563, 'at': 2564, 'kvb': 2565, '88600': 2566, '1million': 2567, 'ppt150x3': 2568, 'box403': 2569, 'w1t1jy': 2570, 'altern': 2571, 'mo': 2572, 'owo': 2573, 'fro': 2574, 'wherev': 2575, 'should': 2576, 'matthew': 2577, '09063440451': 2578, 'lux': 2579, 'ppm150': 2580, 'box334': 2581, 'sk38xh': 2582, 'wear': 2583, 'jean': 2584, 'fev': 2585, 'vomitin': 2586, '09061749602': 2587, '528': 2588, 'hp20': 2589, '1yf': 2590, 'bleh': 2591, 'least': 2592, 'writh': 2593, 'payp': 2594, 'voil': 2595, 'pocket': 2596, 'theyr': 2597, 'med': 2598, 'folk': 2599, 'blown': 2600, 'scor': 2601, 'sopha': 2602, 'ogunrind': 2603, 'expend': 2604, '114': 2605, '14': 2606, 'tcr': 2607, 'w1': 2608, 'lodg': 2609, 'chk': 2610, 'ms': 2611, 'shb': 2612, 'heavy': 2613, 'bowl': 2614, 'filthy': 2615, 'brand': 2616, 'welp': 2617, 'retir': 2618, 'natwest': 2619, '09050001808': 2620, 'm95': 2621, 'valid12hrs': 2622, 'chad': 2623, 'gymnast': 2624, 'christians': 2625, 'necklac': 2626, 'tok': 2627, 'aptitud': 2628, '15': 2629, 'hors': 2630, 'chick': 2631, 'ric': 2632, 'crap': 2633, 'borin': 2634, 'boggy': 2635, 'biatch': 2636, 'nxt': 2637, 'hesit': 2638, 'notebook': 2639, 'chocol': 2640, 'pot': 2641, 'tal': 2642, 'reckon': 2643, 'eight': 2644, 'carpark': 2645, '3g': 2646, 'videophon': 2647, '09063458130': 2648, 'videoch': 2649, 'jav': 2650, 'dload': 2651, 'polyph': 2652, 'nolin': 2653, 'rentl': 2654, 'fuckin': 2655, 'yun': 2656, 'ub': 2657, '67441233': 2658, 'ir': 2659, 'er': 2660, 'bus8': 2661, '65': 2662, '61': 2663, '66': 2664, '382': 2665, 'cre': 2666, 'tech': 2667, '6ph': 2668, '5wkg': 2669, 'ì': 2670, 'sd': 2671, 'but': 2672, 'sor': 2673, '7am': 2674, 'party': 2675, '5ish': 2676, 'stripes': 2677, 'skirt': 2678, 'mirac': 2679, 'jes': 2680, 'esc': 2681, 'quiet': 2682, 'beth': 2683, 'aunt': 2684, 'heard': 2685, 'syllab': 2686, 'panason': 2687, 'bluetoothhdset': 2688, 'doublemin': 2689, 'doubletxt': 2690, 'contract': 2691, '30pm': 2692, 'poyyarik': 2693, 'kolathupalayam': 2694, 'und': 2695, 'erod': 2696, 'hero': 2697, 'apt': 2698, 'keral': 2699, 'terr': 2700, 'fan': 2701, 'meat': 2702, 'suprem': 2703, 'regret': 2704, 'cudnt': 2705, 'drov': 2706, 'ctla': 2707, 'ishtamayoo': 2708, 'bakrid': 2709, 'annivers': 2710, 'j': 2711, 'prey': 2712, 'coax': 2713, 'souveny': 2714, 'coug': 2715, 'pen': 2716, '09065394514': 2717, 'datebox1282essexcm61xn': 2718, 'pattern': 2719, 'throat': 2720, 'scratches': 2721, 'plm': 2722, 'asleep': 2723, 'foreign': 2724, 'stamp': 2725, 'sheffield': 2726, 'nanny': 2727, 'rais': 2728, 'zoe': 2729, 'shitin': 2730, 'defo': 2731, 'hardest': 2732, 'mil': 2733, 'lekdog': 2734, 'loverboy': 2735, 'blanket': 2736, 'sufficy': 2737, 'thx': 2738, 'nyt': 2739, 'edison': 2740, 'fool': 2741, 'speechless': 2742, 'viv': 2743, 'gm': 2744, 'roast': 2745, 'iåõd': 2746, '09058097218': 2747, 'ls15hb': 2748, 'educ': 2749, 'doesnåõt': 2750, 'kickoff': 2751, 'euro': 2752, 'jun': 2753, '3rd': 2754, 'analys': 2755, 'thes': 2756, 'bellig': 2757, 'hiy': 2758, 'april': 2759, 'les': 2760, 'snor': 2761, 'drunk': 2762, 'ink': 2763, '515': 2764, 'throwing': 2765, 'eastend': 2766, 'violet': 2767, 'tulip': 2768, 'lily': 2769, '84025': 2770, 'wkent': 2771, '150p16': 2772, 'techn': 2773, 'support': 2774, 'process': 2775, 'flirtparty': 2776, 'replys150': 2777, 'bitch': 2778, 'dent': 2779, '09058091854': 2780, 'box385': 2781, 'm6': 2782, '6wu': 2783, '09050003091': 2784, 'c52': 2785, 'xchat': 2786, 'lul': 2787, 'juicy': 2788, 'nurs': 2789, 'she': 2790, 'obes': 2791, 'oye': 2792, 'oi': 2793, 'parch': 2794, 'na': 2795, 'kicchu': 2796, 'kaas': 2797, 'kort': 2798, 'icch': 2799, 'korch': 2800, 'tul': 2801, 'sculpt': 2802, 'convey': 2803, 'regard': 2804, 'sury': 2805, 'vijay': 2806, 'pokkir': 2807, 'dem': 2808, 'brea': 2809, 'sorrow': 2810, 'craziest': 2811, 'proov': 2812, 'planet': 2813, 'pra': 2814, 'curry': 2815, 'maky': 2816, 'samb': 2817, 'ndship': 2818, 'needl': 2819, 'evn': 2820, 'itz': 2821, '4few': 2822, 'alwy': 2823, 'conect': 2824, 'spatul': 2825, 'sipix': 2826, 'digit': 2827, '09061221061': 2828, '28days': 2829, 'box177': 2830, 'm221bp': 2831, '2yr': 2832, 'warranty': 2833, 'p': 2834, 'på': 2835, '99': 2836, '09061790121': 2837, 'doct': 2838, 'complex': 2839, 'out': 2840, 'tomorro': 2841, 'ryd': 2842, 'receipt': 2843, 'elv': 2844, 'presley': 2845, 'fret': 2846, 'strips': 2847, 'cliff': 2848, 'ne': 2849, 'wrking': 2850, 'depress': 2851, 'sittin': 2852, 'wind': 2853, 'black': 2854, 'aiyah': 2855, 'o2': 2856, 'onto': 2857, 'urawin': 2858, 'surpr': 2859, 'hen': 2860, 'it': 2861, 'math': 2862, 'dhon': 2863, 'teju': 2864, 'ground': 2865, 'aml': 2866, 'durb': 2867, 'conveny': 2868, 'evalu': 2869, '449050000301': 2870, '09050000301': 2871, 'spee': 2872, 'speedch': 2873, '80155': 2874, 'swap': 2875, 'chat80155': 2876, 'rcd': 2877, 'cancel': 2878, 'cheyyamo': 2879, '08000776320': 2880, 'aiy': 2881, 'survey': 2882, '80160': 2883, 'txt43': 2884, 'throws': 2885, 'who': 2886, 'hmv1': 2887, 'difficul': 2888, 'howz': 2889, 'tau': 2890, 'sar': 2891, 'piah': 2892, '1stchoice': 2893, '08707808226': 2894, 'film': 2895, 'shad': 2896, 'luck': 2897, '84122': 2898, '08450542832': 2899, 'tank': 2900, '4fil': 2901, '69911': 2902, 'kaitlyn': 2903, 'dang': 2904, 'peep': 2905, 'veggy': 2906, 'neighb': 2907, 'computerless': 2908, 'balloon': 2909, 'drms': 2910, 'wrc': 2911, 'ral': 2912, 'oz': 2913, 'lucozad': 2914, 'energy': 2915, 'le': 2916, '61200': 2917, 'itcould': 2918, 'melody': 2919, 'horr': 2920, 'toot': 2921, 'nw': 2922, 'hme': 2923, 'island': 2924, 'chenna': 2925, 'velachery': 2926, 'flippin': 2927, 'cstore': 2928, 'annoy': 2929, 'hangin': 2930, 'makin': 2931, 'sham': 2932, 'quizz': 2933, 'popcorn': 2934, 'jord': 2935, 'celeb': 2936, 'pocketbab': 2937, '087016248': 2938, 'voicemail': 2939, '08719181503': 2940, 'thin': 2941, 'fed': 2942, 'himso': 2943, '2go': 2944, 'neft': 2945, 'beneficy': 2946, 'tuit': 2947, 'cho': 2948, 'subs16': 2949, '1win150ppmx3': 2950, 'sem': 2951, 'exp': 2952, '30apr': 2953, 'strong': 2954, 'arm': 2955, 'maaa': 2956, 'guessin': 2957, 'walmart': 2958, 'ilol': 2959, 'wuldnt': 2960, 'mit': 2961, 'creepy': 2962, 'lunchtim': 2963, 'org': 2964, '08719181513': 2965, 'phd': 2966, '5years': 2967, '87021': 2968, 'txtin': 2969, '4info': 2970, 'prakesh': 2971, 'rofl': 2972, 'bett': 2973, 'invest': 2974, 'ant': 2975, 'produc': 2976, '1hr': 2977, 'delay': 2978, 'accommod': 2979, 'glob': 2980, 'phb1': 2981, 'ph': 2982, '08700435505150p': 2983, 'submit': 2984, '84128': 2985, 'textcomp': 2986, '08712405020': 2987, 'snatch': 2988, 'purs': 2989, 'drivby': 2990, '0quit': 2991, 'edrunk': 2992, 'iff': 2993, 'pthis': 2994, 'senrd': 2995, 'dnot': 2996, 'dancc': 2997, 'drum': 2998, 'basq': 2999, 'ihav': 3000, '2nhite': 3001, 'xxxxxxx': 3002, 'reliev': 3003, 'westonzoyland': 3004, 'europ': 3005, 'nobody': 3006, 'chines': 3007, 'doc': 3008, 'havin': 3009, 'goin2bed': 3010, 'only1more': 3011, 'mc': 3012, 'hun': 3013, '2nite': 3014, 'every1': 3015, 'goodtim': 3016, 'ol': 3017, 'rang': 3018, 'melnit': 3019, 'ifink': 3020, 'everythin': 3021, 'l8rs': 3022, '08712402779': 3023, 'flip': 3024, 'shun': 3025, 'bian': 3026, 'glass': 3027, 'exhibit': 3028, 'nino': 3029, 'cbe': 3030, 'honey': 3031, 'jd': 3032, 'execut': 3033, 'downstem': 3034, '08718730555': 3035, 'wahal': 3036, 'inperialmus': 3037, 'listening2the': 3038, 'weirdest': 3039, 'byåóleafcut': 3040, 'johnåó': 3041, 'insect': 3042, 'molest': 3043, 'plumb': 3044, 'remix': 3045, 'evil': 3046, 'acid': 3047, 'didntg': 3048, 'bellear': 3049, '09096102316': 3050, '2moro': 3051, 'callså': 3052, 'minmoremobsemspobox45po139wa': 3053, 'tee': 3054, 'cheery': 3055, 'cel': 3056, 'thts': 3057, 'dough': 3058, 'control': 3059, '80488': 3060, 'weirdo': 3061, 'stalk': 3062, 'profil': 3063, 'jerry': 3064, 'drinkin': 3065, 'oth': 3066, 'tour': 3067, '5pm': 3068, '95': 3069, 'pax': 3070, 'deposit': 3071, 'jap': 3072, 'disappear': 3073, 'birthd': 3074, 'cert': 3075, 'publ': 3076, 'nydc': 3077, 'wheellock': 3078, 'destin': 3079, 'fifty': 3080, 'favo': 3081, 'happenin': 3082, 'cocksuck': 3083, 'ipad': 3084, 'worthless': 3085, 'garb': 3086, 'novel': 3087, 'item': 3088, 'fran': 3089, 'knack': 3090, 'janx': 3091, 'design': 3092, 'softw': 3093, 'jamst': 3094, 'videosound': 3095, 'gold': 3096, 'musicnew': 3097, '09701213186': 3098, 'lion': 3099, 'lionm': 3100, 'lionp': 3101, 'origin': 3102, '3gbp': 3103, 'jokin': 3104, 'spirit': 3105, 'bb': 3106, 'shat': 3107, 'alrit': 3108, 'idiot': 3109, 'gir': 3110, 'dark': 3111, 'whenevr': 3112, 'gray': 3113, 'remembr': 3114, 'listn': 3115, 'watevr': 3116, 'ûïharry': 3117, 'phoenix': 3118, 'harry': 3119, 'among': 3120, 'shd': 3121, 'paragraph': 3122, 'coveragd': 3123, 'vasa': 3124, 'retard': 3125, 'bathroom': 3126, 'sang': 3127, 'uptown': 3128, '80': 3129, 'febru': 3130, 'rush': 3131, 'syr': 3132, 'canad': 3133, 'goodnoon': 3134, 'gaug': 3135, 'patty': 3136, 'vl': 3137, 'chil': 3138, '6hrs': 3139, 'surg': 3140, 'emerg': 3141, 'unfold': 3142, 'fren': 3143, 'kor': 3144, 'fredericksburg': 3145, 'pas': 3146, 'buen': 3147, 'tiempo': 3148, 'chillin': 3149, 'free2day': 3150, 'georg': 3151, '89080': 3152, 'saucy': 3153, '0870241182716': 3154, 'ther': 3155, 'tmrw': 3156, 'compass': 3157, 'soul': 3158, 'gnun': 3159, 'way2sms': 3160, 'baaaaab': 3161, 'misss': 3162, 'youuuuu': 3163, 'ned': 3164, 'tht': 3165, 'witot': 3166, 'main': 3167, 'swe': 3168, 'blackberry': 3169, '4a': 3170, 'pple': 3171, 'becz': 3172, 'undrstndng': 3173, 'chain': 3174, 'suff': 3175, 'whn': 3176, 'arrest': 3177, 'suntec': 3178, 'steambo': 3179, 'moj': 3180, 'messeng': 3181, 'tp': 3182, 'fantasy': 3183, '08707509020': 3184, '20p': 3185, '1327': 3186, 'croydon': 3187, 'cr9': 3188, '5wb': 3189, '0870': 3190, 'bbq': 3191, '6ish': 3192, 'everyso': 3193, 'panick': 3194, 'writ': 3195, 'cov': 3196, 'screen': 3197, 'bear': 3198, 'nick': 3199, 'tom': 3200, 'upload': 3201, '08718730666': 3202, 'hua': 3203, 'juan': 3204, 'lf56': 3205, 'tlk': 3206, 'path': 3207, 'appear': 3208, 'front': 3209, 'shot': 3210, 'reserv': 3211, 'thirunelval': 3212, 'tirunelval': 3213, 'tackl': 3214, 'storm': 3215, 'phne': 3216, 'wt': 3217, 'margaret': 3218, 'girlfrnd': 3219, 'grahmbel': 3220, 'invnt': 3221, 'telphon': 3222, 'mor': 3223, '4get': 3224, 'tonght': 3225, 'plough': 3226, 'chinky': 3227, 'wi': 3228, 'nz': 3229, 'aust': 3230, 'bk': 3231, 'caf': 3232, 'recharg': 3233, 'shld': 3234, 'stretch': 3235, 'sinco': 3236, 'icicibank': 3237, 'urn': 3238, 'bew': 3239, 'fraud': 3240, 'disclos': 3241, 'vot': 3242, 'kaiez': 3243, 'noncomit': 3244, 'benea': 3245, 'pal': 3246, 'goodnit': 3247, 'msgrcvdhg': 3248, 'snick': 3249, 'chord': 3250, 'rem': 3251, 'silv': 3252, 'lmao': 3253, 'win150ppmx3age16': 3254, 'revid': 3255, 'boyf': 3256, 'interviw': 3257, 'exet': 3258, 'spreadsheet': 3259, 'whos': 3260, 'determin': 3261, 'entir': 3262, 'ars': 3263, 'dartboard': 3264, 'trebl': 3265, 'coat': 3266, 'everybody': 3267, 'alon': 3268, 'intrepid': 3269, 'duo': 3270, 'missin': 3271, 'guil': 3272, 'cardiff': 3273, 'addy': 3274, 'tue': 3275, 'breez': 3276, 'fresh': 3277, 'twit': 3278, 'resta': 3279, 'textpod': 3280, 'pod': 3281, 'duck': 3282, 'chinchilla': 3283, 'funct': 3284, 'headstart': 3285, 'desp': 3286, 'rum': 3287, 'fly': 3288, 'monkey': 3289, 'certain': 3290, 'optin': 3291, 'bbc': 3292, 'thanks2': 3293, 'rajin': 3294, 'optout': 3295, 'help08714742804': 3296, 'spy': 3297, 'clair': 3298, '09099725823': 3299, 'bought': 3300, 'yalru': 3301, 'lyfu': 3302, 'astn': 3303, 'innu': 3304, 'mundh': 3305, 'lyf': 3306, 'hall': 3307, 'ke': 3308, 'bilo': 3309, 'program': 3310, 'edha': 3311, 'ovr': 3312, 'vargu': 3313, 'meow': 3314, 'twelv': 3315, 'aah': 3316, '09066362231': 3317, '07xxxxxxxxx': 3318, '06': 3319, 'pron': 3320, '07801543489': 3321, 'llc': 3322, 'ny': 3323, 'msgrcvd18': 3324, 'lucy': 3325, 'hubby': 3326, 'cumin': 3327, '09099726395': 3328, 'minmobsmorelkpobox177hp51fl': 3329, '7th': 3330, '6th': 3331, '5th': 3332, '4th': 3333, 'dos': 3334, 'tablet': 3335, 'incom': 3336, 'blak': 3337, 'googl': 3338, 'browsin': 3339, 'compuls': 3340, 'pur': 3341, 'musthu': 3342, 'investig': 3343, 'vomit': 3344, 'aint': 3345, 'sha': 3346, 'vitamin': 3347, 'cruc': 3348, 'jsco': 3349, '2channel': 3350, 'skil': 3351, 'psych': 3352, 'host': 3353, 'idp': 3354, 'linux': 3355, 'convert': 3356, 'along': 3357, 'karaok': 3358, 'sayy': 3359, 'exceiv': 3360, 'lean': 3361, 'disc': 3362, 'how': 3363, 'champ': 3364, 'glasgow': 3365, 'lovin': 3366, 'brows': 3367, 'art': 3368, 'corect': 3369, 'sarcasm': 3370, '4719': 3371, '523': 3372, 'for': 3373, 'ron': 3374, 'cts': 3375, 'nik': 3376, 'sooo': 3377, 'screaming': 3378, 'unfortun': 3379, 'airport': 3380, '7250i': 3381, 'auct': 3382, '86021': 3383, 'w1jhl': 3384, 'difficult': 3385, 'earliest': 3386, 'nordstrom': 3387, 'konw': 3388, 'waht': 3389, 'rael': 3390, 'gving': 3391, 'yuo': 3392, 'exmpel': 3393, 'jsut': 3394, 'es': 3395, 'tih': 3396, 'evrey': 3397, 'splleing': 3398, 'wrnog': 3399, 'sitl': 3400, 'raed': 3401, 'wihtuot': 3402, 'ayn': 3403, 'mitsak': 3404, 'conf': 3405, 'ow': 3406, 'degr': 3407, 'prospect': 3408, 'bleak': 3409, 'shant': 3410, 'jia': 3411, 'bish': 3412, 'sux': 3413, 'raid': 3414, 'buff': 3415, 'sou': 3416, 'pref': 3417, 'keg': 3418, 'pier': 3419, 'cardin': 3420, 'rhythm': 3421, 'est': 3422, 'truro': 3423, 'ext': 3424, 'gas': 3425, 'gang': 3426, 'clo': 3427, 'sunroof': 3428, 'excel': 3429, 'blank': 3430, 'rumo': 3431, 'kalain': 3432, 'thenampet': 3433, '7250': 3434, 'nosy': 3435, 'idk': 3436, 'freak': 3437, 'impost': 3438, 'destiny': 3439, 'chef': 3440, 'boyfriend': 3441, 'sympathet': 3442, 'athlet': 3443, 'cour': 3444, 'psycholog': 3445, 'pest': 3446, 'extermin': 3447, 'psychy': 3448, 'aaniy': 3449, 'pudung': 3450, 'venaam': 3451, 'brotha': 3452, 'chas': 3453, 'chez': 3454, 'jul': 3455, 'hhahhaahahah': 3456, 'nig': 3457, 'leonardo': 3458, 'john': 3459, '2years': 3460, 'strain': 3461, 'dim': 3462, 'withdraw': 3463, 'anyhow': 3464, 'smeon': 3465, 'fir': 3466, 'spark': 3467, 'flam': 3468, 'rawr': 3469, 'xoxo': 3470, 'somewhr': 3471, 'crush': 3472, 'honeymoon': 3473, 'outfit': 3474, 'propos': 3475, '08719899230': 3476, 'blam': 3477, 'chequ': 3478, 'olymp': 3479, 'leo': 3480, 'haul': 3481, 'wildl': 3482, 'want2come': 3483, 'that2worzels': 3484, 'wizzl': 3485, 'dippeditinadew': 3486, 'itwhichturnedinto': 3487, 'tomeandsaid': 3488, 'shangha': 3489, 'instead': 3490, 'cya': 3491, 'freez': 3492, '645': 3493, 'rt': 3494, 'pro': 3495, 'ringtonek': 3496, '08701237397': 3497, 'thnx': 3498, 'sef': 3499, 'anjy': 3500, 'batch': 3501, 'fring': 3502, 'flaky': 3503, 'sooooo': 3504, 'tooo': 3505, 'nte': 3506, '09058094599': 3507, 'brit': 3508, 'london': 3509, '02072069400': 3510, 'bx': 3511, '526': 3512, 'sw73ss': 3513, '6pm': 3514, 'anim': 3515, 'buzz': 3516, 'eery': 3517, 'titl': 3518, 'dracul': 3519, 'ghost': 3520, 'addamsf': 3521, 'munst': 3522, 'exorc': 3523, 'twilight': 3524, 'brought': 3525, 'shiny': 3526, 'const': 3527, 'french': 3528, '0a': 3529, 'allow': 3530, 'respons': 3531, 'comedy': 3532, 'feelin': 3533, 'lnly': 3534, 'moby': 3535, '82242': 3536, 'msg150p': 3537, '2rcv': 3538, 'hlp': 3539, '08712317606': 3540, 'keen': 3541, 'switch': 3542, 'dammit': 3543, 'wright': 3544, 'lad': 3545, 'wreck': 3546, 'spont': 3547, 'goodev': 3548, 'lei': 3549, '80608': 3550, 'movietriv': 3551, '08712405022': 3552, 'rgent': 3553, 'lookin': 3554, 'daytim': 3555, 'busty': 3556, '09099726429': 3557, 'janinexx': 3558, 'most': 3559, 'insid': 3560, 'spageddy': 3561, 'phas': 3562, 'dimend': 3563, 'comprom': 3564, '09050001295': 3565, 'a21': 3566, 'mobs': 3567, '391784': 3568, 'dub': 3569, 'je': 3570, 'toughest': 3571, 'idea': 3572, 'sight': 3573, 'remain': 3574, 'maintain': 3575, 'sh': 3576, 'jas': 3577, 'squat': 3578, 'cramp': 3579, '0089': 3580, '09063442151': 3581, 'nan': 3582, 'sonathay': 3583, 'soladh': 3584, 'rap': 3585, 'pok': 3586, 'weightloss': 3587, 'mushy': 3588, 'embarrass': 3589, 'stash': 3590, 'ran': 3591, 'priy': 3592, '81303': 3593, 'fath': 3594, 'messy': 3595, 'kilo': 3596, 'tookplac': 3597, 'ghodband': 3598, 'rd': 3599, 'traff': 3600, 'slov': 3601, 'wkg': 3602, 'nus': 3603, 'sc': 3604, 'wad': 3605, 'dislik': 3606, 'queen': 3607, 'stereo': 3608, 'mi': 3609, 'unknown': 3610, 'alb': 3611, '121': 3612, '60p': 3613, '09094646899': 3614, 'vu': 3615, 'bcm1896wc1n3xx': 3616, 'classm': 3617, '2007': 3618, 'pre': 3619, 'trackmarqu': 3620, 'vipclub4u': 3621, 'hook': 3622, 'entertain': 3623, 'hugh': 3624, 'laury': 3625, 'stick': 3626, 'indee': 3627, 'prap': 3628, 'jon': 3629, 'bin': 3630, 'spain': 3631, 'dinero': 3632, 'åôrents': 3633, '000pes': 3634, '48': 3635, 'jam': 3636, 'maangalyam': 3637, 'alaipayuth': 3638, 'complain': 3639, 'mandy': 3640, 'sul': 3641, 'hotmix': 3642, 'fm': 3643, 'chos': 3644, 'east': 3645, 'telephon': 3646, '09041940223': 3647, '29': 3648, '05': 3649, 'transfer': 3650, 'di': 3651, 'bahama': 3652, 'callfreefon': 3653, '08081560665': 3654, 'cru': 3655, 'ofå': 3656, '07786200117': 3657, 'calm': 3658, 'downon': 3659, 'theacus': 3660, 'itxt': 3661, 'iwan': 3662, 'wotu': 3663, 'doin': 3664, 'thew': 3665, 'haventcn': 3666, 'up4': 3667, 'neth': 3668, 'conact': 3669, '09111030116': 3670, 'pobox12n146tf15': 3671, 'iåõm': 3672, 'soc': 3673, 'inspect': 3674, 'nursery': 3675, 'habit': 3676, 'panr': 3677, 'paru': 3678, 'chuckin': 3679, 'carryin': 3680, 'bac': 3681, 'schedule': 3682, 'dhanush': 3683, 'stuck': 3684, 'habb': 3685, 'hw': 3686, 'dileep': 3687, 'muchand': 3688, 'venugop': 3689, 'ment': 3690, 'everytim': 3691, '07734396839': 3692, 'ibh': 3693, 'nokia6600': 3694, '3230': 3695, 'textbook': 3696, 'algorithm': 3697, 'edit': 3698, 'bun': 3699, 'invad': 3700, 'orig': 3701, 'arcad': 3702, 'consol': 3703, '0': 3704, '09064018838': 3705, 'cro1327': 3706, 'atlant': 3707, 'arun': 3708, 'transfr': 3709, 'takin': 3710, 'didnåõt': 3711, 'intend': 3712, 'iwa': 3713, 'marin': 3714, 'itried2tell': 3715, 'urmom': 3716, 'careabout': 3717, 'foley': 3718, '82050': 3719, 'fak': 3720, 'iraq': 3721, 'afgh': 3722, 'stabl': 3723, 'honest': 3724, '1225': 3725, '50award': 3726, '3100': 3727, 'pai': 3728, 'seh': 3729, 'combin': 3730, 'walsal': 3731, 'terry': 3732, 'jess': 3733, 'sian': 3734, 'ccna': 3735, 'shrek': 3736, 'dirty': 3737, 'fellow': 3738, 'dying': 3739, 'teres': 3740, 'dec': 3741, 'ld': 3742, 'bam': 3743, 'usml': 3744, 'squishy': 3745, 'mwah': 3746, 'hottest': 3747, 'g696ga': 3748, 'promin': 3749, 'cheek': 3750, 'septemb': 3751, 'husband': 3752, 'hack': 3753, 'backdo': 3754, 'fract': 3755, 'neo69': 3756, '09050280520': 3757, 'dps': 3758, 'bcm': 3759, '8027': 3760, 'joann': 3761, 'comingdown': 3762, 'replac': 3763, 'mural': 3764, 'sts': 3765, 'engalnd': 3766, 'mia': 3767, 'elliot': 3768, 'upto': 3769, '12mths': 3770, '2price': 3771, '100txt': 3772, 'mth': 3773, 'too': 3774, '08001950382': 3775, 'd3wv': 3776, 'wipro': 3777, '850': 3778, 'toa': 3779, 'payoh': 3780, '650': 3781, '08718726970': 3782, 'fedex': 3783, 'hat': 3784, 'consens': 3785, 'tag': 3786, 'wednesday': 3787, 'laundry': 3788, 'underwear': 3789, 'bra': 3790, 'strewn': 3791, 'pillow': 3792, 'wahee': 3793, 'fathim': 3794, 'mmmm': 3795, 'push': 3796, 'kne': 3797, 'expos': 3798, 'pul': 3799, 'wick': 3800, 'srt': 3801, 'thnk': 3802, 'ps3': 3803, 'jontin': 3804, 'beyond': 3805, 'biro': 3806, 'mast': 3807, '09058094594': 3808, 'shel': 3809, 'unhappy': 3810, 'excus': 3811, 'jog': 3812, '0776xxxxxxx': 3813, '18yrs': 3814, '09061743811': 3815, '326': 3816, 'season': 3817, 'lark': 3818, '09090900040': 3819, 'extrem': 3820, 'sic': 3821, '7mp': 3822, '0870753331018': 3823, 'wild': 3824, 'stop2stop': 3825, 'uh': 3826, 'lim': 3827, 'vday': 3828, 'parachut': 3829, '80182': 3830, '08452810073': 3831, 'tabl': 3832, 'lambd': 3833, 'snowm': 3834, 'angel': 3835, 'snowbal': 3836, 'ello': 3837, 'ike': 3838, 'of': 3839, 'cn': 3840, 'duff': 3841, 'grr': 3842, 'prescrib': 3843, 'pharm': 3844, 'cook': 3845, 'elect': 3846, '08715500022': 3847, 'rpl': 3848, 'cnl': 3849, 'fffff': 3850, 'kadeem': 3851, 'fujitsu': 3852, 'lifebook': 3853, 'scold': 3854, 'zhong': 3855, 'se': 3856, 'qing': 3857, 'hypertend': 3858, 'wud': 3859, 'annoyin': 3860, '08702490080': 3861, '09066358152': 3862, 'prompt': 3863, 'vpod': 3864, 'carry': 3865, 'avat': 3866, 'nigro': 3867, 'scratching': 3868, 'anyplac': 3869, 'pri': 3870, 'ecstasy': 3871, '09090204448': 3872, 'aå': 3873, 'minapn': 3874, 'ls278bb': 3875, 'fli': 3876, 'hittng': 3877, 'reflex': 3878, 'sol': 3879, '09050090044': 3880, 'toclaim': 3881, 'pobox334': 3882, 'stockport': 3883, 'costå': 3884, 'max10mins': 3885, 'lousy': 3886, 'cat': 3887, 'hip': 3888, 'adew': 3889, 'egbon': 3890, 'mary': 3891, 'deduc': 3892, 'wrks': 3893, 'asshol': 3894, 'grab': 3895, '09065394973': 3896, 'payback': 3897, 'honeyb': 3898, 'sweetest': 3899, 'havnt': 3900, 'crack': 3901, 'gn': 3902, 'tesco': 3903, 'feathery': 3904, 'bow': 3905, 'infr': 3906, 'nvm': 3907, 'gep': 3908, 'delh': 3909, 'thinkin': 3910, '2006': 3911, 'fif': 3912, 'held': 3913, '87239': 3914, 'boat': 3915, 'shhhhh': 3916, 'rel': 3917, 'amk': 3918, '09061743810': 3919, 'leng': 3920, 'distract': 3921, 'anth': 3922, 'corrct': 3923, 'dan': 3924, 'basket': 3925, 'proof': 3926, 'rupa': 3927, '61610': 3928, '08712400602450p': 3929, 'provid': 3930, 'tones2you': 3931, 'curtsey': 3932, 'yeh': 3933, 'afr': 3934, 'soil': 3935, 'maj': 3936, 'rol': 3937, 'outreach': 3938, 'bir': 3939, '8lb': 3940, '7oz': 3941, 'bril': 3942, 'rul': 3943, 'bend': 3944, 'thi': 3945, 'inlud': 3946, 'preview': 3947, 'freefon': 3948, '08006344447': 3949, 'ambri': 3950, 'madura': 3951, 'dha': 3952, 'marrg': 3953, 'kitty': 3954, 'shav': 3955, 'onward': 3956, 'tact': 3957, 'tscs': 3958, 'skillgam': 3959, '1winaweek': 3960, '150ppermesssubscription': 3961, 'obvy': 3962, 'pert': 3963, 'cram': 3964, 'satsgettin': 3965, '47per': 3966, 'lie': 3967, 'pei': 3968, 'boost': 3969, 'subtoitl': 3970, 'jot': 3971, 'infern': 3972, 'affair': 3973, 'bold2': 3974, 'calicut': 3975, '09094100151': 3976, 'aom': 3977, 'gbp5': 3978, 'box61': 3979, 'm60': 3980, '1er': 3981, 'thkin': 3982, 'parco': 3983, 'nb': 3984, 'resub': 3985, 'shadow': 3986, 'breadstick': 3987, 'ahmad': 3988, 'saee': 3989, 'hallaq': 3990, '09066362220': 3991, 'box97n7qp': 3992, 'purpl': 3993, 'pink': 3994, 'lyk': 3995, 'yelow': 3996, 'bck': 3997, 'brown': 3998, 'col': 3999, 'eldest': 4000, 'drugd': 4001, 'gend': 4002, 'with': 4003, '23f': 4004, '23g': 4005, 'sleepwel': 4006, 'wondarful': 4007, 'web2mobile': 4008, 'txt250': 4009, 'box139': 4010, 'la32wu': 4011, 'txtx': 4012, 'onb': 4013, 'donyt': 4014, 'latelyxxx': 4015, '85233': 4016, 'mca': 4017, 'rich': 4018, 'flag': 4019, 'yer': 4020, '84199': 4021, 'box39822': 4022, 'w111wx': 4023, 'yor': 4024, 'stressed': 4025, 'jason': 4026, 'soooo': 4027, 'tming': 4028, 'cutest': 4029, 'dic': 4030, '08700469649': 4031, 'box420': 4032, 'howd': 4033, 'samachar': 4034, 'audry': 4035, 'autocorrect': 4036, 'armand': 4037, 'feet': 4038, 'clev': 4039, '087123002209am': 4040, '113': 4041, 'bray': 4042, 'wicklow': 4043, 'eir': 4044, 'washob': 4045, 'nob': 4046, 'nickey': 4047, 'plat': 4048, 'ryan': 4049, 'vikky': 4050, 'idew': 4051, 'argh': 4052, 'spotty': 4053, 'provint': 4054, 'sterl': 4055, 'xam': 4056, 'hal': 4057, 'inth': 4058, 'ponnung': 4059, 'ipadit': 4060, 'reject': 4061, 'shitload': 4062, 'diamond': 4063, 'tessy': 4064, 'nimy': 4065, 'shija': 4066, 'chin': 4067, 'noisy': 4068, 'need': 4069, 'mcat': 4070, 'reset': 4071, 'troubleshoot': 4072, 'b4u': 4073, '27': 4074, 'marsm': 4075, 'b4utele': 4076, '08717168528': 4077, 'strongly': 4078, 'sacr': 4079, 'stifl': 4080, 'morphin': 4081, 'requir': 4082, 'stayin': 4083, 'heåõ': 4084, '2getha': 4085, 'buffy': 4086, 'pix': 4087, 'qlynnbv': 4088, 'help08700621170150p': 4089, '30': 4090, 'cld': 4091, 'nosh': 4092, 'waaa': 4093, 'lololo': 4094, 'docu': 4095, 'stapat': 4096, 'cuty': 4097, 'hil': 4098, 'colleagu': 4099, 'sed': 4100, 'mood': 4101, 'kidz': 4102, 'sof': 4103, 'honesty': 4104, 'shakar': 4105, 'begg': 4106, 'smash': 4107, 'crickit': 4108, 'imin': 4109, 'dontmat': 4110, 'urgoin': 4111, 'outl8r': 4112, 'yavnt': 4113, 'ibuprof': 4114, 'ps': 4115, 'grown': 4116, 'chinatown': 4117, 'porridg': 4118, 'claypot': 4119, 'yam': 4120, 'fishhead': 4121, 'beehoon': 4122, 'jaklin': 4123, 'nearby': 4124, '49': 4125, 'ntwk': 4126, 'bundl': 4127, 'avbl': 4128, 'mf': 4129, 'ooh': 4130, '4got': 4131, 'moseley': 4132, 'thankyou': 4133, 'pend': 4134, 'alu': 4135, 'ffect': 4136, 'tern': 4137, 'obl': 4138, 'ruth': 4139, 'ntim': 4140, 'textin': 4141, 'cousin': 4142, 'frndship': 4143, 'raj': 4144, 'neck': 4145, 'amigo': 4146, 'progress': 4147, 'continu': 4148, 'holy': 4149, 'arty': 4150, 'tryin': 4151, '2hrs': 4152, 'walik': 4153, 'carton': 4154, 'shelv': 4155, '08714712379': 4156, 'dist': 4157, 'mir': 4158, 'k718': 4159, '09065069120': 4160, 'jod': 4161, 'ker': 4162, 'smidgin': 4163, 'empty': 4164, 'slot': 4165, 'accordin': 4166, 'knock': 4167, 'como': 4168, 'listened2the': 4169, 'plaid': 4170, 'air1': 4171, 'boughtåóbraindanceåó': 4172, 'ofstuff': 4173, 'aphexåõ': 4174, 'abel': 4175, 'nelson': 4176, 'unmit': 4177, 'display': 4178, 'newspap': 4179, 'soup': 4180, 'yummm': 4181, 'puzzel': 4182, '4goten': 4183, 'scam': 4184, 'regul': 4185, '2morro': 4186, '09099726481': 4187, 'r836': 4188, '09065069154': 4189, 'threats': 4190, 'shifad': 4191, 'complaint': 4192, 'loung': 4193, 'lk': 4194, 'splashmobile': 4195, 'subscrit': 4196, '300p': 4197, 'dust': 4198, 'u4': 4199, '01223585334': 4200, '2c': 4201, '8552': 4202, '2end': 4203, '88877': 4204, '88066': 4205, '3pound': 4206, 'watchin': 4207, 'meaningless': 4208, 'brdget': 4209, 'inev': 4210, 'hyp': 4211, '700': 4212, 'studio': 4213, 'bedrm': 4214, 'vel': 4215, 'wkend': 4216, 'hug': 4217, 'upd8': 4218, '2stoptx': 4219, 'anny': 4220, '08718738034': 4221, '21870000': 4222, 'mailbox': 4223, '09056242159': 4224, 'retriev': 4225, 'va': 4226, 'hrish': 4227, 'nothin': 4228, 'poem': 4229, 'tear': 4230, 'duchess': 4231, 'cornwal': 4232, '008704050406': 4233, 'arrow': 4234, '08718726971': 4235, 'tddnewsletter': 4236, 'emc1': 4237, 'thedailydraw': 4238, 'doz': 4239, 'prizeswi': 4240, 'waqt': 4241, 'pehl': 4242, 'naseeb': 4243, 'zyad': 4244, 'kis': 4245, 'ko': 4246, 'kuch': 4247, 'milt': 4248, 'zindg': 4249, 'wo': 4250, 'jo': 4251, 'hum': 4252, 'socht': 4253, 'jeetey': 4254, 'wors': 4255, 'varay': 4256, 'elay': 4257, '09066368753': 4258, '97n7qp': 4259, 'anand': 4260, 'beach': 4261, 'aww': 4262, 'jez': 4263, 'iscom': 4264, 'todo': 4265, 'workand': 4266, 'whilltak': 4267, 'zogtori': 4268, 'iåõv': 4269, 'wheth': 4270, 'or2optout': 4271, 'hv9d': 4272, 'pos': 4273, 'century': 4274, 'cm': 4275, 'frwd': 4276, 'unnecess': 4277, 'restrict': 4278, 'buddy': 4279, '80082': 4280, '08712402902': 4281, 'possess': 4282, 'clar': 4283, 'spook': 4284, 'halloween': 4285, '08701417012150p': 4286, 'issu': 4287, 'footbal': 4288, 'sky': 4289, 'gamest': 4290, '250k': 4291, '88088': 4292, 'coimb': 4293, 'monoc': 4294, 'polyc': 4295, 'stream': 4296, '0871212025016': 4297, 'categ': 4298, 'meas': 4299, 'ethn': 4300, 'cens': 4301, 'transcrib': 4302, 'propsd': 4303, 'gv': 4304, 'lv': 4305, 'lttrs': 4306, 'threw': 4307, 'thm': 4308, 'aproach': 4309, 'dt': 4310, 'truck': 4311, 'wn': 4312, 'inst': 4313, 'thy': 4314, '2gthr': 4315, 'evrydy': 4316, 'paragon': 4317, 'bluff': 4318, 'imposs': 4319, 'goodm': 4320, 'sary': 4321, 'asus': 4322, 'franyxxxxx': 4323, 'pussy': 4324, 'becausethey': 4325, '09058098002': 4326, 'pobox1': 4327, 'w14rg': 4328, 'respont': 4329, 'happend': 4330, 'wiskey': 4331, 'brandy': 4332, 'gin': 4333, 'vodk': 4334, 'scotch': 4335, 'shampain': 4336, 'kud': 4337, 'yarasu': 4338, 'dhin': 4339, 'vaazhthukk': 4340, 'gain': 4341, 'kg': 4342, 'sug': 4343, 'limit': 4344, 'dumb': 4345, 'thangam': 4346, 'okey': 4347, 'dok': 4348, 'neshan': 4349, 'byatch': 4350, 'whassup': 4351, 'kay': 4352, 'rog': 4353, 'cl': 4354, 'nasty': 4355, 'filthyguy': 4356, 'slo': 4357, '4msgs': 4358, 'chiong': 4359, 'christ': 4360, 'dialog': 4361, 'reltn': 4362, 'solv': 4363, 'gard': 4364, 'veget': 4365, 'maid': 4366, 'neighbo': 4367, 'comb': 4368, 'fps': 4369, 'sci': 4370, 'madam': 4371, 'dlf': 4372, 'premaric': 4373, 'rgds': 4374, 'gotto': 4375, '220cm2': 4376, '8pm': 4377, 'bloo': 4378, 'offlin': 4379, 'anjol': 4380, 'asjes': 4381, 'wrot': 4382, 'swiss': 4383, 'cror': 4384, 'taxless': 4385, 'budget': 4386, 'lan': 4387, 'suply': 4388, 'cit': 4389, 'imf': 4390, 'block': 4391, 'polit': 4392, 'corrupt': 4393, 'itn': 4394, 'karo': 4395, 'ki': 4396, 'padh': 4397, 'tor': 4398, 'particul': 4399, 'commit': 4400, 'random': 4401, '83370': 4402, 'triv': 4403, 'rightio': 4404, 'brum': 4405, 'donno': 4406, 'paranoid': 4407, 'brin': 4408, 'prop': 4409, 'bsnl': 4410, 'offc': 4411, 'sugany': 4412, 'dessert': 4413, 'abeg': 4414, 'spons': 4415, 'poet': 4416, 'rr': 4417, 'famam': 4418, '630': 4419, 'sry': 4420, 'furnit': 4421, 'lock': 4422, 'easiest': 4423, 'barcelon': 4424, 'ru': 4425, 'sppok': 4426, '09066612661': 4427, 'compl': 4428, 'wa14': 4429, '2px': 4430, 'pansy': 4431, 'jungl': 4432, 'kanj': 4433, 'srs': 4434, 'drizzl': 4435, 'shov': 4436, 'struggling': 4437, 'strange': 4438, 'ego': 4439, 'reppurcuss': 4440, 'releas': 4441, 'cosign': 4442, 'hva': 4443, '09061701444': 4444, 'acl03530150pm': 4445, 'hcl': 4446, 'indyarock': 4447, 'resum': 4448, 'rely': 4449, 'fwiw': 4450, 'afford': 4451, 'whr': 4452, 'sq825': 4453, 'yunny': 4454, 'citylink': 4455, '6230': 4456, '83383': 4457, 'pobox114': 4458, '14tcr': 4459, 'bogn': 4460, 'splendid': 4461, 'ktv': 4462, 'misplac': 4463, 'mmmmm': 4464, 'medicin': 4465, 'begun': 4466, 'perm': 4467, 'resid': 4468, 'plenty': 4469, 'risk': 4470, 'benefit': 4471, 'amount': 4472, 'accum': 4473, 'belong': 4474, 'shor': 4475, 'incid': 4476, 'fuel': 4477, 'grief': 4478, 'environ': 4479, 'ter': 4480, 'text82228': 4481, 'txt82228': 4482, 'burnt': 4483, 'snap': 4484, 'quizclub': 4485, '80122300p': 4486, 'rwm': 4487, '08704050406': 4488, 'gmw': 4489, 'someplac': 4490, 'pressy': 4491, 'dr': 4492, 'supery': 4493, 'ultim': 4494, 'mot': 4495, 'tui': 4496, 'achiev': 4497, 'korl': 4498, 'dock': 4499, 'newscast': 4500, 'dabbl': 4501, 'flut': 4502, 'behind': 4503, 'wheel': 4504, 'amaz': 4505, 'picsfree1': 4506, 'vid': 4507, 'keyword': 4508, 'ruin': 4509, 'erm': 4510, 'the4th': 4511, 'octob': 4512, '83435': 4513, 'elab': 4514, 'aspect': 4515, 'tarot': 4516, '85555': 4517, 'depart': 4518, 'hr': 4519, 'conform': 4520, 'horniest': 4521, 'instruct': 4522, '3lp': 4523, 'cyst': 4524, 'bc': 4525, 'shrink': 4526, 'timin': 4527, 'dea': 4528, 'ibm': 4529, 'hp': 4530, 'toshib': 4531, 'gosh': 4532, 'spos': 4533, 'rimac': 4534, 'aresta': 4535, 'squid': 4536, 'dosometh': 4537, 'wrk': 4538, 'dabook': 4539, 'hrs': 4540, 'eachoth': 4541, 'tkls': 4542, 'stoptxtstopå': 4543, 'innoc': 4544, 'smooth': 4545, 'challeng': 4546, '2marrow': 4547, 'hon': 4548, 'breakfast': 4549, 'hamp': 4550, 'cc100p': 4551, '0870737910216yrs': 4552, 'unn': 4553, 'lack': 4554, 'dramastorm': 4555, 'forfeit': 4556, 'dig': 4557, 'wks': 4558, '077xxx': 4559, '09066362206': 4560, 'prasad': 4561, 'tiw': 4562, 'rcb': 4563, 'battl': 4564, 'bang': 4565, 'koch': 4566, 'checkup': 4567, 'smear': 4568, 'gob': 4569, 'pandy': 4570, '4w': 4571, 'technolog': 4572, 'olowoyey': 4573, 'usc': 4574, 'edu': 4575, 'argentin': 4576, 'taxt': 4577, 'tie': 4578, 'lool': 4579, 'shak': 4580, 'booty': 4581, 'lil': 4582, 'scarcasim': 4583, 'naal': 4584, 'eruku': 4585, 'w4': 4586, '5wq': 4587, 'bro': 4588, 'amongst': 4589, '69696': 4590, 'nall': 4591, 'obedy': 4592, 'ft': 4593, 'needy': 4594, 'pout': 4595, 'stomp': 4596, 'northampton': 4597, 'abs': 4598, 'playng': 4599, 'mcfly': 4600, 'ab': 4601, 'jorg': 4602, 'smi': 4603, 'ann': 4604, 'yupz': 4605, 'ericson': 4606, 'der': 4607, 'luk': 4608, 'modl': 4609, 'cheesy': 4610, 'frosty': 4611, 'witin': 4612, '0870141701216': 4613, '120p': 4614, '10th': 4615, 'sept': 4616, '09050000555': 4617, 'ba128nnfwfly150ppm': 4618, 'nud': 4619, 'them': 4620, '_': 4621, 'pump': 4622, 'petrol': 4623, 'feb': 4624, 'ign': 4625, 'evr': 4626, 'neith': 4627, 'unus': 4628, 'snog': 4629, 'west': 4630, 'palm': 4631, 'fastest': 4632, '83021': 4633, 'tariff': 4634, '2stoptxt': 4635, 'perpet': 4636, 'dd': 4637, 'steam': 4638, 'flung': 4639, 'govt': 4640, 'instituit': 4641, 'justbeen': 4642, 'over': 4643, 'mush': 4644, 'tund': 4645, 'luxury': 4646, 'can': 4647, '20m12aq': 4648, 'ûï': 4649, 'eh74rr': 4650, 'sleepy': 4651, 'ben': 4652, 'avo': 4653, 'middl': 4654, 'chach': 4655, 'pl': 4656, 'tiz': 4657, 'kanagu': 4658, 'brat': 4659, 'diwal': 4660, 'tick': 4661, 'derp': 4662, 'abus': 4663, 'lipo': 4664, 'netflix': 4665, 'thgt': 4666, 'clash': 4667, 'osc': 4668, 'rebtel': 4669, 'firefox': 4670, '69969': 4671, 'bcmsfwc1n3xx': 4672, 'footy': 4673, 'stad': 4674, 'larg': 4675, 'coc': 4676, 'teen': 4677, 'mittelschmertz': 4678, 'paracetamol': 4679, 'pee': 4680, 'cthen': 4681, 'enuff': 4682, 'conclud': 4683, 'ûªve': 4684, '08715203028': 4685, '9th': 4686, 'rugby': 4687, 'affidavit': 4688, 'twig': 4689, 'divid': 4690, 'courtroom': 4691, 'creep': 4692, 'breathe1': 4693, 'crazyin': 4694, 'sleepingwi': 4695, 'finest': 4696, 'ymc': 4697, 'pobox365o4w45wq': 4698, 'wtc': 4699, 'weiy': 4700, 'property': 4701, 'interflor': 4702, 'åòit': 4703, '505060': 4704, 'romcapspam': 4705, 'outgo': 4706, 'magg': 4707, 'mee': 4708, '08712103738': 4709, 'cough': 4710, '09058099801': 4711, 'b4190604': 4712, '7876150ppm': 4713, 'bbd': 4714, 'pooj': 4715, 'pimpl': 4716, 'sweat': 4717, 'amb': 4718, 'miiiiiiissssssssss': 4719, 'tunj': 4720, 'iz': 4721, 'yellow': 4722, 'misscal': 4723, 'frndz': 4724, '6missed': 4725, 'frog': 4726, 'mad1': 4727, 'mad2': 4728, '88888': 4729, 'doubt': 4730, 'handl': 4731, 'aveng': 4732, 'japanes': 4733, 'proverb': 4734, 'strike': 4735, 'toss': 4736, 'gudni8': 4737, 'dancin': 4738, 'explicit': 4739, 'nor': 4740, 'gayl': 4741, 'freedom': 4742, 'vs': 4743, 'ced': 4744, 'twenty': 4745, 'durham': 4746, 'seat': 4747, 'porn': 4748, '69855': 4749, 'stopbcm': 4750, 'sf': 4751, 'paint': 4752, 'groovy': 4753, 'har': 4754, 'acnt': 4755, 'nowaday': 4756, 'showroom': 4757, 'shap': 4758, 'callon': 4759, 'swatch': 4760, 'ganesh': 4761, 'pdate_now': 4762, 'yhl': 4763, 'config': 4764, 'ûªm': 4765, 'ûªt': 4766, 'pear': 4767, 'helloooo': 4768, 'oooooh': 4769, '09058094454': 4770, '54': 4771, 'resubmit': 4772, 'expiry': 4773, 'weåõv': 4774, '2geva': 4775, 'mint': 4776, 'studyn': 4777, 'wuld': 4778, 'everyboy': 4779, 'xxxxxxxx': 4780, '1thing': 4781, 'answr': 4782, 'liqu': 4783, 'flak': 4784, 'loko': 4785, '730': 4786, 'tm': 4787, 'ing': 4788, 'fireplac': 4789, 'icon': 4790, '08712400200': 4791, 'woozl': 4792, '08718723815': 4793, 'gary': 4794, 'machin': 4795, 'sak': 4796, 'mys': 4797, 'bruc': 4798, 'down': 4799, 'fletch': 4800, '08714714011': 4801, 'cozy': 4802, 'buzzzz': 4803, 'chest': 4804, 'trend': 4805, 'con': 4806, 'brief': 4807, 'describ': 4808, 'nuclear': 4809, 'fus': 4810, 'hist': 4811, 'jet': 4812, 'nowh': 4813, 'ikno': 4814, 'doesdiscount': 4815, 'shitinnit': 4816, 'jabo': 4817, 'maniac': 4818, 'sapn': 4819, 'maneg': 4820, 'hogidh': 4821, 'chinnu': 4822, 'swalp': 4823, 'agidh': 4824, 'footbl': 4825, 'crckt': 4826, 'swel': 4827, 'bollox': 4828, 'ingredy': 4829, 'pocy': 4830, '4qf2': 4831, 'giggl': 4832, 'person2die': 4833, 'nvq': 4834, 'tig': 4835, 'wood': 4836, 'reboot': 4837, 'grind': 4838, 'pt2': 4839, 'understood': 4840, 'bottom': 4841, 'disconnect': 4842, 'onluy': 4843, 'offcamp': 4844, 'riley': 4845, 'ew': 4846, 'lingo': 4847, '400mins': 4848, 'j5q': 4849, 'hm': 4850, '69200': 4851, 'chrgd': 4852, '2exit': 4853, 'salon': 4854, 'sankrant': 4855, 'republ': 4856, 'shivratr': 4857, 'ugad': 4858, 'independ': 4859, 'fest': 4860, 'dasar': 4861, 'remember': 4862, 'daywi': 4863, 'somewheresomeon': 4864, 'tosend': 4865, 'selfless': 4866, 'port': 4867, 't4get2text': 4868, 'lennon': 4869, 'crab': 4870, 'footprint': 4871, 'fox': 4872, 'frndsship': 4873, 'dwn': 4874, 'slaaaaav': 4875, 'summon': 4876, '33': 4877, 'appendix': 4878, 'slob': 4879, 'webp': 4880, 'yeesh': 4881, 'hunk': 4882, 'gotbab': 4883, 'gopalet': 4884, 'particip': 4885, 'abroad': 4886, 'xxsp': 4887, 'visionsm': 4888, 'stopcost': 4889, '08712400603': 4890, 'goody': 4891, 'ay': 4892, 'andro': 4893, 'isaiah': 4894, 'foot': 4895, 'expert': 4896, 'thinl': 4897, 'tight': 4898, 'wnevr': 4899, 'vth': 4900, 'yen': 4901, 'madodu': 4902, 'nav': 4903, 'pretsorgint': 4904, 'nammann': 4905, 'pretsovru': 4906, 'alw': 4907, 'eveb': 4908, 'lord': 4909, 'soundtrack': 4910, 'stdtxtrate': 4911, 'sg': 4912, 'phyhcmk': 4913, 'pc1323': 4914, 'emigr': 4915, 'olol': 4916, 'stagwood': 4917, 'winterston': 4918, 'vict': 4919, 'jp': 4920, 'mofo': 4921, 'pathay': 4922, 'enket': 4923, 'maraikar': 4924, 'priest': 4925, 'intrud': 4926, 'walkabout': 4927, '28th': 4928, '08708034412': 4929, 'blow': 4930, 'phil': 4931, 'nevil': 4932, 'abbey': 4933, 'pund': 4934, 'str8': 4935, '200p': 4936, 'thur': 4937, 'sack': 4938, 'lookatm': 4939, 'clip': 4940, '35p': 4941, 'mmsto': 4942, '32323': 4943, 'twat': 4944, 'dung': 4945, 'punch': 4946, 'mention': 4947, 'vat': 4948, 'grl': 4949, 'hogolo': 4950, 'kodstin': 4951, 'agall': 4952, 'madstin': 4953, 'hogl': 4954, 'muta': 4955, 'eerull': 4956, 'kodthin': 4957, 'thas': 4958, 'tex': 4959, 'mecaus': 4960, 'wereb': 4961, 'okd': 4962, 'uin': 4963, 'soundåõ': 4964, 'likeyo': 4965, 'gr8fun': 4966, 'countinlot': 4967, 'xxxxx': 4968, 'count': 4969, 'hdd': 4970, '09053750005': 4971, '310303': 4972, '08718725756': 4973, '140ppm': 4974, 'as': 4975, 'reform': 4976, 'otsid': 4977, 'tap': 4978, 'wrench': 4979, 'thriller': 4980, 'siz': 4981, 'eleph': 4982, 'um': 4983, 'cr': 4984, 'pooky': 4985, 'nri': 4986, '08712101358': 4987, 'x2': 4988, 'itåõ': 4989, 'deserv': 4990, 'diddy': 4991, 'toothpast': 4992, 'everyday': 4993, 'cury': 4994, 'coccoon': 4995, 'auto': 4996, 'newquay': 4997, 'postcard': 4998, '1im': 4999, 'talkin': 5000, 'bread': 5001, 'windy': 5002, '09066358361': 5003, 'y87': 5004, 'tirunelva': 5005, 'dusk': 5006, 'puzzl': 5007, 'x29': 5008, '09065989180': 5009, 'stair': 5010, 'phew': 5011, 'recyc': 5012, 'toledo': 5013, 'ding': 5014, 'tai': 5015, 'feng': 5016, 'swimsuit': 5017, 'squeeeeez': 5018, 'frndshp': 5019, 'luvd': 5020, 'volcano': 5021, 'erupt': 5022, 'hur': 5023, 'sway': 5024, 'aroundn': 5025, 'lasagn': 5026, 'woould': 5027, '08718726978': 5028, 'deu': 5029, '44': 5030, '7732584351': 5031, '3510i': 5032, 'deliveredtomorrow': 5033, '300': 5034, 'spil': 5035, 'broad': 5036, 'engin': 5037, 'edg': 5038, 'raviyog': 5039, 'periph': 5040, 'bhayand': 5041, 'sunoco': 5042, 'howard': 5043, 'leftov': 5044, 'starv': 5045, 'fatty': 5046, 'badri': 5047, 'checkin': 5048, 'armen': 5049, 'swan': 5050, '09058097189': 5051, '09061221066': 5052, 'from': 5053, '330': 5054, '1120': 5055, '1205': 5056, 'wyly': 5057, 'just': 5058, 'in2': 5059, '5226': 5060, '1131': 5061, 'rct': 5062, 'thnq': 5063, 'adr': 5064, 'babysit': 5065, 'gonnamissu': 5066, 'butth': 5067, 'abouta': 5068, 'merememberin': 5069, 'asth': 5070, 'ofs': 5071, 'breakin': 5072, 'yaxx': 5073, 'ee': 5074, 'poortiyag': 5075, 'odalebeku': 5076, 'hanumanj': 5077, 'hanum': 5078, 'bajarangabal': 5079, 'marut': 5080, 'pavanaputr': 5081, 'sankatmoch': 5082, 'ramadu': 5083, 'mahav': 5084, 'janarig': 5085, 'ivat': 5086, 'kalisid': 5087, 'ondu': 5088, 'keluvir': 5089, 'maret': 5090, 'dodd': 5091, 'probl': 5092, 'siguvir': 5093, 'idu': 5094, 'matr': 5095, 'neglet': 5096, 'ijust': 5097, 'gei': 5098, 'tron': 5099, 'dl': 5100, 'spiff': 5101, 'supos': 5102, 'embassy': 5103, 'checkbox': 5104, 'sac': 5105, 'batsm': 5106, 'yetty': 5107, 'jiayin': 5108, '09050000928': 5109, 'pobox45w2tg150p': 5110, 'revers': 5111, 'mathem': 5112, '2waxsto': 5113, 'yifeng': 5114, 'slurp': 5115, 'minim': 5116, '3miles': 5117, 'brainless': 5118, 'dol': 5119, 'vehic': 5120, 'sariy': 5121, 'madok': 5122, 'baroll': 5123, '07090201529': 5124, 'postpon': 5125, 'elain': 5126, 'tiim': 5127, 'afternon': 5128, 'res': 5129, '09066364349': 5130, 'box434sk38wp150ppm18': 5131, 'oppos': 5132, 'shortcod': 5133, '83332': 5134, '08081263000': 5135, 'somerset': 5136, 'overtim': 5137, 'nigpun': 5138, 'dismiss': 5139, 'screwd': 5140, '08712402972': 5141, 'bul': 5142, '09058095201': 5143, 'heeh': 5144, 'arithmet': 5145, 'perc': 5146, 'chillaxin': 5147, 'das': 5148, 'iknow': 5149, 'welld': 5150, 'peril': 5151, 'studentfin': 5152, 'cris': 5153, 'monst': 5154, '____': 5155, 'ths': 5156, 'ia': 5157, 'obey': 5158, 'uhhhhrm': 5159, 'mb': 5160, '600': 5161, '400': 5162, 'deltomorrow': 5163, '09066368470': 5164, '24m': 5165, 'smartcal': 5166, '68866': 5167, 'subscriptn3gbp': 5168, '08448714184': 5169, 'landlineon': 5170, 'mths': 5171, 'callback': 5172, 'orno': 5173, 'fink': 5174, '09099726553': 5175, 'minmobsm': 5176, 'lkpobox177hp51fl': 5177, 'youphon': 5178, 'athom': 5179, 'youwann': 5180, 'jack': 5181, 'pretend': 5182, 'hypotheticalhuagauahahuagahyuhagg': 5183, 'brainy': 5184, 'occas': 5185, 'reflect': 5186, 'desir': 5187, 'tradit': 5188, 'cantdo': 5189, 'anythingtomorrow': 5190, 'myp': 5191, 'aretak': 5192, 'outf': 5193, 'katexxx': 5194, 'level': 5195, 'gat': 5196, '89105': 5197, 'lingery': 5198, 'brid': 5199, 'petticoatdream': 5200, 'weddingfriend': 5201, 'board': 5202, 'overh': 5203, 'reslov': 5204, 'western': 5205, 'outt': 5206, 'notix': 5207, 'laxinorf': 5208, 'bambl': 5209, 'entrop': 5210, 'masteriast': 5211, 'amplik': 5212, 'fidalf': 5213, 'champlaxig': 5214, 'atrocy': 5215, 'wotz': 5216, 'junn': 5217, 'knick': 5218, '01223585236': 5219, 'nikiyu4': 5220, 'a30': 5221, 'divert': 5222, 'wadebridg': 5223, '1030': 5224, 'orc': 5225, 'bloomberg': 5226, '447797706009': 5227, 'priscill': 5228, 'wisdom': 5229, 'wher': 5230, 'phone750': 5231, 'resolv': 5232, 'frank': 5233, 'logoff': 5234, 'parkin': 5235, 'kent': 5236, 'val': 5237, '09050000878': 5238, 'wan2': 5239, 'westl': 5240, 'm8': 5241, 'unbreak': 5242, 'untam': 5243, 'unkempt': 5244, '83049': 5245, 'charm': 5246, 'arnt': 5247, 'xxxxxxxxxxxxxx': 5248, 'dorothy': 5249, 'kief': 5250, 'granit': 5251, 'explod': 5252, 'nasdaq': 5253, 'symbol': 5254, 'cdgt': 5255, 'eppol': 5256, 'allalo': 5257, 'funda': 5258, '1mega': 5259, 'pixel': 5260, '3optical': 5261, '5digital': 5262, 'doom': 5263, 'noiåõm': 5264, 'js': 5265, 'burgundy': 5266, 'captain': 5267, 'amrit': 5268, 'bpo': 5269, 'persev': 5270, 'wasnåõt': 5271, 'spous': 5272, 'pmt': 5273, 'sumthin': 5274, '4give': 5275, 'shldxxxx': 5276, 'scenario': 5277, 'spun': 5278, 'wrld': 5279, '09071517866': 5280, '150ppmpobox10183bhamb64xe': 5281, 'devo': 5282, 'airtel': 5283, 'broadband': 5284, 'tens': 5285, 'sprint': 5286, 'prol': 5287, 'gow': 5288, 'åômorrow': 5289, 'åð': 5290, 'chik': 5291, '69669': 5292, 'sarist': 5293, 'e14': 5294, '9yt': 5295, '08701752560': 5296, '450p': 5297, 'stop2': 5298, '420': 5299, '9061100010': 5300, 'wire3': 5301, '1st4terms': 5302, 'mobcudb': 5303, 'sab': 5304, '09050000460': 5305, 'j89': 5306, 'box245c2150pm': 5307, 'inperson': 5308, 'fle': 5309, 'forum': 5310, 'banneduk': 5311, 'highest': 5312, '71': 5313, 'taj': 5314, 'known': 5315, 'mumtaz': 5316, 'shahjah': 5317, '69101': 5318, 'rtf': 5319, 'sphosting': 5320, 'webadr': 5321, 'incred': 5322, 'o2fwd': 5323, '18p': 5324, 'passport': 5325, 'multiply': 5326, 'twin': 5327, 'strt': 5328, 'ltdhelpdesk': 5329, '02085076972': 5330, 'eq': 5331, 'unev': 5332, 'pesky': 5333, 'cyc': 5334, 'entey': 5335, 'nattil': 5336, 'kitt': 5337, 'kav': 5338, 'hir': 5339, 'hitm': 5340, '09066660100': 5341, '2309': 5342, 'cps': 5343, 'conserv': 5344, 'ep': 5345, 'bhask': 5346, 'dubsack': 5347, 'gong': 5348, 'kaypoh': 5349, 'basketbal': 5350, 'outdo': 5351, 'macho': 5352, 'interfu': 5353, 'hustl': 5354, 'audit': 5355, 'harlem': 5356, 'workout': 5357, 'zac': 5358, 'hui': 5359, 'xin': 5360, 'lib': 5361, 'vers': 5362, 'underdtand': 5363, 'muchxxlov': 5364, 'locaxx': 5365, '07090298926': 5366, '9307622': 5367, 'skateboard': 5368, 'despit': 5369, 'thrown': 5370, 'band': 5371, 'html': 5372, 'gbp4': 5373, 'mfl': 5374, 'hect': 5375, 'fel': 5376, 'swoop': 5377, 'wamm': 5378, 'doggin': 5379, 'langport': 5380, 'virt': 5381, 'senthil': 5382, 'apnt': 5383, 'pant': 5384, 'go2sri': 5385, 'lank': 5386, 'mer': 5387, 'wherevr': 5388, 'forevr': 5389, 'gudnyt': 5390, 'plum': 5391, 'smack': 5392, '50s': 5393, 'alot': 5394, 'format': 5395, 'promot': 5396, '8714714': 5397, 'vega': 5398, 'lou': 5399, 'lancast': 5400, 'neway': 5401, 'couldnåõt': 5402, 'båõday': 5403, 'bsn': 5404, 'lobby': 5405, 'yth': 5406, 'vewy': 5407, 'lubl': 5408, '087147123779am': 5409, 'domain': 5410, 'nusstu': 5411, 'hudg': 5412, 'yorg': 5413, 'pataisth': 5414, 'ertin': 5415, 'hasbro': 5416, 'jump': 5417, 'hoop': 5418, 'assocy': 5419, 'rip': 5420, 'uter': 5421, 'pool': 5422, 'jacuzz': 5423, 'x49': 5424, '09065989182': 5425, 'txtstar': 5426, '2nights': 5427, 'wildest': 5428, 'aldrin': 5429, 'rtm': 5430, 'neces': 5431, 'witout': 5432, 'wth': 5433, 'esp': 5434, '4wrd': 5435, 'wthout': 5436, 'takec': 5437, 'raja': 5438, 'burrito': 5439, 'confirmd': 5440, 'cnn': 5441, 'ibn': 5442, 'stitch': 5443, 'trous': 5444, '146tf150p': 5445, 'cheeto': 5446, 'synt': 5447, 'shangel': 5448, 'hppnss': 5449, 'goodfriend': 5450, '08704439680': 5451, 'poo': 5452, 'gloucesterroad': 5453, 'uup': 5454, 'ouch': 5455, 'glo': 5456, '09058095107': 5457, 's3xy': 5458, 'wlcome': 5459, 'age23': 5460, 'blond': 5461, 'mtalk': 5462, '69866': 5463, '30pp': 5464, '5free': 5465, 'incr': 5466, 'help08718728876': 5467, 'fishrm': 5468, 'strtd': 5469, 'throwin': 5470, 'atlast': 5471, '1stone': 5472, '08717895698': 5473, 'mobstorequiz10ppm': 5474, 'phys': 5475, 'praveesh': 5476, 'delicy': 5477, 'salad': 5478, 'desert': 5479, 'whor': 5480, 'funk': 5481, 'tones2u': 5482, 'twink': 5483, 'scal': 5484, 'skin': 5485, 'jock': 5486, '08712466669': 5487, 'flood': 5488, 'bead': 5489, 'wishl': 5490, 'sect': 5491, 'comfort': 5492, 'sold': 5493, 'reff': 5494, 'gety': 5495, 'weirdy': 5496, '09061701851': 5497, 'k61': 5498, '12hours': 5499, 'vivek': 5500, '74355': 5501, 'tnc': 5502, 'brah': 5503, 'greec': 5504, 'protect': 5505, 'sib': 5506, 'sensit': 5507, 'someday': 5508, 'grandfath': 5509, 'concert': 5510, 'novemb': 5511, '09061104276': 5512, '75max': 5513, 'yuou': 5514, 'spot': 5515, 'bunch': 5516, 'lotto': 5517, 'auth': 5518, '45pm': 5519, 'gimm': 5520, 'goss': 5521, 'ystrday': 5522, 'sublet': 5523, 'amma': 5524, 'lambu': 5525, 'ji': 5526, 'batchl': 5527, 'zoom': 5528, '62220cncl': 5529, 'stopc': 5530, '08717890890å': 5531, 'chees': 5532, 'åòharry': 5533, 'tms': 5534, 'widel': 5535, 'index': 5536, 'wml': 5537, '1b6a5ecef91ff9': 5538, '37819': 5539, 'true18': 5540, '0430': 5541, 'xaft': 5542, 'cst': 5543, 'chg': 5544, 'smiley': 5545, 'gail': 5546, 'l8tr': 5547, 'yaxxx': 5548, 'theoret': 5549, 'multimed': 5550, 'hsbc': 5551, 'nicky': 5552, 'gumby': 5553, 'alto18': 5554, 'asp': 5555, '44345': 5556, 'tarpon': 5557, 'springs': 5558, 'cab': 5559, 'step': 5560, 'hf8': 5561, '09061702893': 5562, '08719181259': 5563, '26': 5564, 'rady': 5565, 'tongu': 5566, 'qi': 5567, 'sud': 5568, 'flurry': 5569, 'melt': 5570, 'eek': 5571, 'born': 5572, 'real1': 5573, 'pushbutton': 5574, 'dontch': 5575, 'babygoodby': 5576, 'golddig': 5577, 'webeburnin': 5578, 'nigh': 5579, 'nooooooo': 5580, 'cabl': 5581, 'sos': 5582, 'playin': 5583, 'guoyang': 5584, 'rah': 5585, 'dengr': 5586, 'antelop': 5587, 'toplay': 5588, 'fieldof': 5589, 'selfindepend': 5590, 'gnarl': 5591, 'barkley': 5592, 'borderlin': 5593, '545': 5594, 'nightnight': 5595, 'groov': 5596, 'mis': 5597, 'unsec': 5598, '195': 5599, '6669': 5600, 'lanr': 5601, 'fakey': 5602, 'eckank': 5603, '3000': 5604, '09061743386': 5605, 'heat': 5606, 'dodgey': 5607, '674': 5608, 'seing': 5609, 'assssshol': 5610, 'rebel': 5611, 'dreamz': 5612, '84484': 5613, 'nationwid': 5614, 'newport': 5615, 'julian': 5616, 'nacho': 5617, 'et': 5618, 'dizzamn': 5619, 'suitem': 5620, 'nimbomson': 5621, 'contin': 5622, 'housew': 5623, '0871750': 5624, '77': 5625, '087104711148': 5626, 'fiend': 5627, '60': 5628, '400thousad': 5629, 'essay': 5630, 'tram': 5631, 'vic': 5632, 'coh': 5633, 'tripl': 5634, 'echo': 5635, 'gran': 5636, 'onlyfound': 5637, 'afew': 5638, 'cusoon': 5639, 'dial': 5640, 'bx526': 5641, 'univers': 5642, 'southern': 5643, 'californ': 5644, 'olav': 5645, 'mandar': 5646, 'trish': 5647, 'woo': 5648, 'hoo': 5649, 'panty': 5650, 'thout': 5651, '09066364311': 5652, 'pint': 5653, 'carlin': 5654, 'lit': 5655, 'ciao': 5656, 'wknd': 5657, 'yalrigu': 5658, 'heltin': 5659, 'iyo': 5660, 'koth': 5661, 'noic': 5662, 'esaplanad': 5663, '08709501522': 5664, '139': 5665, 'la3': 5666, '2wu': 5667, 'prof': 5668, 'enn': 5669, 'kalaachutaaram': 5670, 'coco': 5671, 'sporad': 5672, '09064017305': 5673, 'pobox75ldns7': 5674, 'tbs': 5675, 'persolvo': 5676, 'forå': 5677, '38': 5678, 'kath': 5679, 'manchest': 5680, 'youåõr': 5681, 'burd': 5682, 'noworrieslo': 5683, '08717111821': 5684, 'nbme': 5685, 'vill': 5686, 'religy': 5687, 'tip': 5688, '07973788240': 5689, '08715203649': 5690, 'muhommad': 5691, 'penny': 5692, 'mj': 5693, 'unconvint': 5694, 'willpow': 5695, 'answerin': 5696, 'åè10': 5697, 'evey': 5698, 'mnth': 5699, 'prin': 5700, 'û_thanks': 5701, 'gsoh': 5702, 'spam': 5703, 'gigolo': 5704, 'oncal': 5705, 'mjzgroup': 5706, '08714342399': 5707, '50rcvd': 5708, 'ashwin': 5709, '08707500020': 5710, 'ukp': 5711, '09061790125': 5712, 'thet': 5713, 'skinny': 5714, '116': 5715, 'hlday': 5716, 'amrc': 5717, 'seren': 5718, 'kapp': 5719, 'meatbal': 5720, 'approv': 5721, 'panalam': 5722, 'spjanuary': 5723, 'fortun': 5724, 'allday': 5725, 'perf': 5726, 'ûówell': 5727, '98321561': 5728, 'famili': 5729, 'infact': 5730, 'simpson': 5731, 'canåõt': 5732, 'isnåõt': 5733, 'kip': 5734, 'hont': 5735, 'amand': 5736, 'subject': 5737, 'perspect': 5738, 'deb': 5739, 'wtlp': 5740, 'jb': 5741, 'florid': 5742, 'roy': 5743, 'tog': 5744, 'swhrt': 5745, '0906346330': 5746, '47': 5747, 'po19': 5748, '2ez': 5749, 'jetton': 5750, 'cmon': 5751, 'sticky': 5752, 'lunsford': 5753, '0796xxxxxx': 5754, 'prizeawait': 5755, 'kfc': 5756, 'gravy': 5757, '07008009200': 5758, 'mw': 5759, 'tuth': 5760, 'evict': 5761, 'spir': 5762, 'michael': 5763, 'ragl': 5764, 'edward': 5765, 'closeby': 5766, 'bookedth': 5767, 'hut': 5768, 'drast': 5769, '3750': 5770, 'sez': 5771, 'evry1': 5772, 'eshxxxxxxxxxxx': 5773, 'bimbo': 5774, 'ugo': 5775, '3lions': 5776, 'porteg': 5777, 'm100': 5778, 'semiobsc': 5779, 'gprs': 5780, 'loosu': 5781, 'careless': 5782, 'myspac': 5783, 'method': 5784, 'blur': 5785, 'cloth': 5786, 'jewelry': 5787, 'delux': 5788, 'feat': 5789, 'graph': 5790, 'bbdeluxe': 5791, 'lush': 5792, 'fumbl': 5793, '2find': 5794, 'taunton': 5795, 'weekday': 5796, 'haiz': 5797, 'nail': 5798, 'common': 5799, 'greatest': 5800, 'tob': 5801, '430': 5802, 'natalj': 5803, '440': 5804, 'nat27081980': 5805, 'asthm': 5806, 'attack': 5807, 'spin': 5808, 'haiyoh': 5809, 'prsn': 5810, 'sunlight': 5811, 'loss': 5812, 'audiit': 5813, 'reloc': 5814, 'pock': 5815, 'brison': 5816, 'cap': 5817, 'bullshit': 5818, 'motherfuck': 5819, 'kit': 5820, 'strip': 5821, '1013': 5822, 'ig11': 5823, 'oj': 5824, '08712402578': 5825, 'thesmszon': 5826, 'anonym': 5827, 'mask': 5828, 'woodland': 5829, 'avenu': 5830, 'magazin': 5831, 'awww': 5832, 'useless': 5833, 'loo': 5834, 'ed': 5835, 'shelf': 5836, 'swol': 5837, 'gland': 5838, 'bcaz': 5839, 'stu': 5840, 'trubl': 5841, 'evon': 5842, 'mokk': 5843, 'view': 5844, 'dual': 5845, 'hostil': 5846, 'haircut': 5847, 'breezy': 5848, '09061744553': 5849, 'polyh': 5850, '1apple': 5851, '1tulsi': 5852, 'leaf': 5853, '1lemon': 5854, '1cup': 5855, 'problm': 5856, 'diseas': 5857, 'snd': 5858, 'lavend': 5859, 'manky': 5860, 'scous': 5861, 'stev': 5862, 'inmind': 5863, 'recr': 5864, 'epsilon': 5865, 'mes': 5866, 'judg': 5867, 'waheed': 5868, 'bot': 5869, '0789xxxxxxx': 5870, 'hellogorg': 5871, 'lst': 5872, 'nitw': 5873, 'texd': 5874, 'hopeu': 5875, '4ward': 5876, 'jaz': 5877, '09058091870': 5878, 'emy': 5879, 'evry': 5880, 'emot': 5881, 'dsn': 5882, 'prayr': 5883, 'othrw': 5884, 'ujhhhhhhh': 5885, 'sandiago': 5886, 'parantell': 5887, 'mango': 5888, 'landmark': 5889, 'bob': 5890, 'barry': 5891, '83738': 5892, 'absolv': 5893, 'cons': 5894, 'tonex': 5895, 'clubz': 5896, 'polo': 5897, '373': 5898, 'w1j': 5899, '6hl': 5900, 'mathew': 5901, 'tait': 5902, 'anderson': 5903, 'haunt': 5904, 'crowd': 5905, '8000930705': 5906, 'snowboard': 5907, 'christmassy': 5908, 'recpt': 5909, 'baaaaaaaab': 5910, 'shol': 5911, 'academ': 5912, 'sagamu': 5913, 'lautech': 5914, 'vit': 5915, 'zealand': 5916, 'qet': 5917, 'convers': 5918, 'overemphas': 5919, 'headset': 5920, 'adp': 5921, 'intern': 5922, 'extract': 5923, 'skint': 5924, 'bevy': 5925, 'waz': 5926, 'othr': 5927, 'watchng': 5928, 'comfey': 5929, 'least5times': 5930, 'wudn': 5931, 'coast': 5932, 'frequ': 5933, 'cupboard': 5934, 'rout': 5935, '2mro': 5936, 'floppy': 5937, 'snappy': 5938, 'grasp': 5939, 'flavo': 5940, 'laready': 5941, 'deny': 5942, 'dom': 5943, 'ffffuuuuuuu': 5944, 'julianaland': 5945, 'oblivy': 5946, 'mapquest': 5947, 'dogwood': 5948, 'arch': 5949, '08719839835': 5950, 'mgs': 5951, '89123': 5952, 'length': 5953, 'behalf': 5954, 'stun': 5955, 'vis': 5956, 'gucc': 5957, 'soz': 5958, 'culdnt': 5959, 'talkbut': 5960, 'wannatel': 5961, 'wenwec': 5962, 'smsing': 5963, 'efficy': 5964, '02073162414': 5965, '15pm': 5966, 'erutupalam': 5967, 'thandiyachu': 5968, 'inv': 5969, 'lyr': 5970, 'nevr': 5971, 'unrecogn': 5972, 'somon': 5973, 'undrstnd': 5974, 'ger': 5975, 'syd': 5976, 'khel': 5977, 'kintu': 5978, 'oppon': 5979, 'dhort': 5980, 'looovvv': 5981, 'warwick': 5982, 'tmw': 5983, 'havn': 5984, 'grandm': 5985, 'parad': 5986, 'proz': 5987, 'norcorp': 5988, '7cfca1a': 5989, 'grumbl': 5990, 'linear': 5991, 'algebr': 5992, '946': 5993, 'gradu': 5994, 'adjust': 5995, 'nottingham': 5996, '63miles': 5997, '40mph': 5998, 'mornin': 5999, 'thanku': 6000, '89938': 6001, 'strings': 6002, '50ea': 6003, 'otbox': 6004, '731': 6005, 'la1': 6006, '7ws': 6007, 'besid': 6008, 'brisk': 6009, 'sexiest': 6010, 'dirtiest': 6011, '89070': 6012, 'tellmiss': 6013, 'contribut': 6014, 'urgh': 6015, 'coach': 6016, 'duvet': 6017, 'w8in': 6018, '4utxt': 6019, '24th': 6020, 'bev': 6021, 'pist': 6022, 'surrend': 6023, 'symptom': 6024, 'rdy': 6025, 'backward': 6026, 'abstract': 6027, 'afric': 6028, 'avin': 6029, 'chit': 6030, 'logon': 6031, '8883': 6032, '4217': 6033, 'w1a': 6034, '6zf': 6035, '118p': 6036, 'quiteamuz': 6037, 'thatåõscool': 6038, '1000call': 6039, '09071512432': 6040, '300603t': 6041, 'callcost150ppmmobilesvary': 6042, 'mnths': 6043, 'fixd': 6044, 'njan': 6045, 'vilikkam': 6046, 'sudn': 6047, 'chapt': 6048, 'chop': 6049, 'noooooooo': 6050, '08718727870150ppm': 6051, 'firsg': 6052, 'split': 6053, 'wasnt': 6054, 'sumf': 6055, '86888': 6056, 'subscribe6gbp': 6057, '3hrs': 6058, 'txtstop': 6059, 'hiphop': 6060, 'oxyg': 6061, 'resort': 6062, 'cannam': 6063, 'capit': 6064, 'austral': 6065, 'mqu': 6066, 'showr': 6067, 'upon': 6068, 'ceil': 6069, 'presnt': 6070, 'bcz': 6071, 'jeevithathil': 6072, 'irulina': 6073, 'neekunn': 6074, 'prakasamanu': 6075, 'sneham': 6076, 'prakasam': 6077, 'mns': 6078, '7634': 6079, '7684': 6080, 'firmw': 6081, 'vijaykan': 6082, 'anythy': 6083, 'clubmoby': 6084, '08717509990': 6085, 'keypad': 6086, 'btwn': 6087, 'decad': 6088, 'gov': 6089, 'loy': 6090, '09066380611': 6091, 'spic': 6092, 'prasan': 6093, '08718738002': 6094, '48922': 6095, 'appy': 6096, 'fizz': 6097, 'contain': 6098, 'robinson': 6099, 'sometext': 6100, '07099833605': 6101, '9280114': 6102, 'chloe': 6103, 'wew': 6104, '130': 6105, '255': 6106, '128': 6107, 'bw': 6108, '07808726822': 6109, '9758': 6110, 'dokey': 6111, 'mmmmmmm': 6112, 'snuggl': 6113, 'whisp': 6114, 'healthy': 6115, '2bold': 6116, 'scraped': 6117, 'barrel': 6118, 'misfit': 6119, 'sleepin': 6120, 'peach': 6121, 'raym': 6122, 'golf': 6123, 'activ8': 6124, 'termsapply': 6125, 'shindig': 6126, 'phonebook': 6127, 'ash': 6128, 'shijutt': 6129, 'offens': 6130, 'dvg': 6131, 'vinobanag': 6132, '3wks': 6133, 'woah': 6134, 'orh': 6135, 'n8': 6136, 'axel': 6137, 'akon': 6138, 'cashbin': 6139, 'canteen': 6140, 'stressfull': 6141, 'presid': 6142, '140': 6143, 'ìä': 6144, '180': 6145, 'assist': 6146, 'when': 6147, '1172': 6148, 'watev': 6149, 'built': 6150, 'lonlin': 6151, 'lotz': 6152, 'gailxx': 6153, 'complac': 6154, 'miw': 6155, '09066649731from': 6156, 'opposit': 6157, 'patrick': 6158, 'sways': 6159, 'sant': 6160, '09077818151': 6161, 'calls1': 6162, '50ppm': 6163, '30s': 6164, 'santacal': 6165, 'quart': 6166, 'limp': 6167, 'aa': 6168, '078498': 6169, '08719180219': 6170, 'og': 6171, 'brb': 6172, 'capac': 6173, 'shsex': 6174, 'netun': 6175, 'fgkslpopw': 6176, 'fgkslpo': 6177, '0871277810710p': 6178, 'checkm': 6179, 'chess': 6180, 'pers': 6181, 'phrase': 6182, 'shah': 6183, 'maat': 6184, 'photoshop': 6185, '08715203652': 6186, '42810': 6187, 'shoppin': 6188, 'increas': 6189, 'texa': 6190, 'bomb': 6191, 'weapon': 6192, 'msgrcvd': 6193, 'customerc': 6194, '08718726270': 6195, 'cla': 6196, 'loooooool': 6197, 'couch': 6198, 'swashbuckl': 6199, 'cruel': 6200, 'dip': 6201, 'gek1510': 6202, 'nuth': 6203, 'lyricallady': 6204, '910': 6205, 'hmmross': 6206, 'happiest': 6207, 'antibiot': 6208, 'abdom': 6209, 'gyna': 6210, 'infect': 6211, '6times': 6212, 'chast': 6213, 'dev': 6214, 'beat': 6215, 'gut': 6216, 'tallahass': 6217, 'ou': 6218, 'pobox202': 6219, 'nr31': 6220, '7zs': 6221, '450pw': 6222, 'fold': 6223, '83118': 6224, 'colin': 6225, 'farrel': 6226, 'swat': 6227, 'kiosk': 6228, 'mre': 6229, 'solihul': 6230, 'nhs': 6231, '2b': 6232, 'termin': 6233, 'inconveny': 6234, 'henry': 6235, 'yard': 6236, 'bergkamp': 6237, 'margin': 6238, '78': 6239, 'snot': 6240, 'unint': 6241, 'nonetheless': 6242, 'hooch': 6243, 'toaday': 6244, 'splat': 6245, 'graz': 6246, 'hearin': 6247, 'yah': 6248, 'tort': 6249, 'sexych': 6250, 'court': 6251, 'chapel': 6252, 'frontiervil': 6253, 'mountain': 6254, 'deer': 6255, 'varm': 6256, 'fart': 6257, 'ortxt': 6258, '402': 6259, 'woot': 6260, 'ahhhh': 6261, 'experiencehttp': 6262, 'vouch4me': 6263, 'etlp': 6264, 'kail': 6265, '09058094507': 6266, 'unicef': 6267, 'fund': 6268, '864233': 6269, 'cme': 6270, 'hos': 6271, 'collaps': 6272, 'paul': 6273, 'barm': 6274, 'thinkth': 6275, 'goldvik': 6276, '762': 6277, 'phony': 6278, 'okday': 6279, 'hmph': 6280, 'punto': 6281, 'ayo': 6282, '125': 6283, 'freeentry': 6284, 'xt': 6285, 'toyot': 6286, 'camry': 6287, 'olayiwol': 6288, 'clov': 6289, 'amm': 6290, 'rencont': 6291, '08714712412': 6292, 'nìâte': 6293, 'puppy': 6294, 'nois': 6295, 'sarasot': 6296, 'meg': 6297, '08715203685': 6298, '4xx26': 6299, '13': 6300, 'deepest': 6301, 'darkest': 6302, '09094646631': 6303, 'adsens': 6304, 'dudet': 6305, 'perumbavo': 6306, 'stag': 6307, 'cher': 6308, 'prepon': 6309, 'nata': 6310, '165': 6311, 'natalie2k9': 6312, 'young': 6313, 'wallpap': 6314, '08701213186': 6315, 'skyv': 6316, 'onword': 6317, 'mtnl': 6318, 'mumba': 6319, '83039': 6320, '62735': 6321, '450': 6322, 'accommodationvouch': 6323, 'mustprovid': 6324, '15541': 6325, 'rajith': 6326, 'ranju': 6327, 'tscs08714740323': 6328, '1winawk': 6329, '50perweeksub': 6330, 'slp': 6331, 'muah': 6332, '09066361921': 6333, 'disagr': 6334, 'afterward': 6335, 'uawak': 6336, 'feellikw': 6337, 'justfound': 6338, 'alet': 6339, 'thatm': 6340, 'gotmarry': 6341, '4thnov': 6342, 'ourback': 6343, 'rearrang': 6344, 'dormit': 6345, 'astronom': 6346, 'recount': 6347, 'hitl': 6348, 'elev': 6349, 'worm': 6350, 'dysentry': 6351, 'andr': 6352, 'virgil': 6353, 'gokil': 6354, 'shanil': 6355, 'exchang': 6356, 'uncut': 6357, 'dino': 6358, 'kot': 6359, 'panth': 6360, 'sugabab': 6361, 'zebr': 6362, 'badass': 6363, 'hoody': 6364, 'query': 6365, 'customersquery': 6366, 'netvid': 6367, 'hassl': 6368, 'haughaighgtujhygud': 6369, 'fassyol': 6370, 'blacko': 6371, 'londn': 6372, '4eva': 6373, '08715205273': 6374, 'vco': 6375, 'reass': 6376, 'aslamalaikk': 6377, 'toh': 6378, 'beeen': 6379, 'muht': 6380, 'muft': 6381, 'mahfuuz': 6382, '078': 6383, 'enufcredeit': 6384, 'tocal': 6385, 'ileav': 6386, 'ib': 6387, 'zero': 6388, 'goigng': 6389, 'perfum': 6390, 'sday': 6391, 'groc': 6392, 'franky': 6393, 'benny': 6394, 'diap': 6395, 'unlik': 6396, 'paty': 6397, 'turkey': 6398, 'bulb': 6399, 'scotsm': 6400, 'go2': 6401, 'notxt': 6402, 'wenev': 6403, 'tranquil': 6404, 'bawl': 6405, 'velusamy': 6406, 'facil': 6407, 'karn': 6408, 'bluray': 6409, 'salt': 6410, 'wound': 6411, 'geoenviron': 6412, 'imply': 6413, 'fuuuuck': 6414, 'salmon': 6415, 'wrkin': 6416, 'ree': 6417, 'compens': 6418, 'awkward': 6419, 'splash': 6420, 'overdid': 6421, 'telediscount': 6422, 'gastroenterit': 6423, 'reduc': 6424, 'chuck': 6425, 'juswok': 6426, 'boatin': 6427, 'spinout': 6428, '08715203656': 6429, '42049': 6430, 'uworld': 6431, 'qbank': 6432, 'assess': 6433, 'someonon': 6434, '09064015307': 6435, 'tke': 6436, 'tem': 6437, 'finishd': 6438, '09061213237': 6439, '177': 6440, 'm227xy': 6441, 'dul': 6442, 'treadmil': 6443, 'craigsl': 6444, 'lamp': 6445, 'foward': 6446, '09061790126': 6447, 'misundrstud': 6448, '2u2': 6449, 'com1win150ppmx3age16subscription': 6450, 'reapply': 6451, 'treatin': 6452, 'treac': 6453, 'mumha': 6454, 'beendrop': 6455, 'theplac': 6456, 'adress': 6457, 'favorit': 6458, 'oyst': 6459, 'sashim': 6460, 'rumbl': 6461, 'marandrath': 6462, 'alaikk': 6463, 'prid': 6464, 'heav': 6465, 'pisc': 6466, 'aquari': 6467, '2yrs': 6468, 'steyn': 6469, 'wicket': 6470, 'sterm': 6471, 'hannaford': 6472, 'whe': 6473, 'chex': 6474, 'grownup': 6475, 'jerk': 6476, 'stink': 6477, 'subsequ': 6478, 'upcharg': 6479, 'bottl': 6480, 'amus': 6481, 'astrolog': 6482, 'slack': 6483, '09095350301': 6484, 'erot': 6485, 'ecst': 6486, 'dept': 6487, '08717507382': 6488, 'coincid': 6489, 'san': 6490, '151': 6491, 'paus': 6492, 'gr8prizes': 6493, '8800': 6494, 'psp': 6495, 'spacebuck': 6496, '083': 6497, '6089': 6498, 'squeez': 6499, 'dread': 6500, 'thou': 6501, 'forgt': 6502, 'aji': 6503, 'ooooooh': 6504, 'yovil': 6505, 'asd': 6506, 'bffs': 6507, 'sep': 6508, 'ö': 6509, 'ó_': 6510, 'ud': 6511, 'brol': 6512, 'franxx': 6513, 'prometazin': 6514, 'syrup': 6515, '5mls': 6516, 'shu': 6517, 'singap': 6518, 'victor': 6519, 'pocay': 6520, 'wocay': 6521, '2morrowxxxx': 6522, 'ram': 6523, 'fowl': 6524, 'flew': 6525, '09058094583': 6526, 'tix': 6527, 'fne': 6528, 'youdo': 6529, 'worc': 6530, 'foreg': 6531, 'shrub': 6532, 'get4an18th': 6533, '32000': 6534, 'legitim': 6535, 'efreefon': 6536, 'toilet': 6537, 'stol': 6538, 'hu': 6539, 'navig': 6540, 'boob': 6541, 'sparkl': 6542, '45': 6543, '0121': 6544, '2025050': 6545, 'shortbreak': 6546, 'gyno': 6547, 'gamb': 6548, 'treas': 6549, '820554ad0a1705572711': 6550, 'trueåác': 6551, 'ringtoneåá': 6552, '09050000332': 6553, 'neg': 6554, 'hmmmm': 6555, 'command': 6556, 'stressful': 6557, 'holby': 6558, '09064017295': 6559, 'li': 6560, 'yeovil': 6561, 'max': 6562, 'rhod': 6563, 'bong': 6564, 'ofcours': 6565, '2p': 6566, '08448350055': 6567, 'planettalkinst': 6568, 'marvel': 6569, 'spid': 6570, '83338': 6571, '8ball': 6572, 'tamilnadu': 6573, '07808247860': 6574, '08719899229': 6575, '40411': 6576, 'bound': 6577, 'endless': 6578, 'referin': 6579, 'saibab': 6580, 'colany': 6581, 'chic': 6582, 'decl': 6583, '49557': 6584, 'disappoint': 6585, 'tantr': 6586, 'chief': 6587, 'gsex': 6588, '2667': 6589, 'wc1n': 6590, '3xx': 6591, '3mobile': 6592, 'chatlin': 6593, 'inclu': 6594, 'l8er': 6595, 'bailiff': 6596, 'mous': 6597, 'desk': 6598, 'childporn': 6599, 'belt': 6600, 'crib': 6601, 'influx': 6602, 'kan': 6603, 'shud': 6604, 'pshew': 6605, '4years': 6606, 'nmde': 6607, 'dump': 6608, 'heap': 6609, 'salesm': 6610, '087187272008': 6611, 'now1': 6612, 'pity': 6613}\n"
          ]
        }
      ]
    },
    {
      "cell_type": "code",
      "source": [
        "i = 0\n",
        "tokenizer = RegexpTokenizer(r'\\w+')\n",
        "\n",
        "N = len(spamdf)\n",
        "\n",
        "for spam in spamdf['v2']:\n",
        "    tokens = tokenizer.tokenize(spam)\n",
        "    tokens = [stemmer.stem(w) for w in tokens if not w.lower() in sw]\n",
        "    unique = set(tokens)\n",
        "    for word in unique:\n",
        "        widx = word2idx[word]\n",
        "        tf = spam.count(word) / len(unique)\n",
        "        X[i][widx] = tf\n",
        "\n",
        "    i += 1\n",
        "\n",
        "# Falta el IDF...\n",
        "\n",
        "    i += 1\n",
        "\n",
        "print(X[1000:1010, 1000:1010])"
      ],
      "metadata": {
        "colab": {
          "base_uri": "https://localhost:8080/"
        },
        "id": "i-N1n6yNF1mz",
        "outputId": "6ef3d789-9364-45cf-fd25-0465090ce35a"
      },
      "execution_count": 27,
      "outputs": [
        {
          "output_type": "stream",
          "name": "stdout",
          "text": [
            "[[0. 0. 0. 0. 0. 0. 0. 0. 0. 0.]\n",
            " [0. 0. 0. 0. 0. 0. 0. 0. 0. 0.]\n",
            " [0. 0. 0. 0. 0. 0. 0. 0. 0. 0.]\n",
            " [0. 0. 0. 0. 0. 0. 0. 0. 0. 0.]\n",
            " [0. 0. 0. 0. 0. 0. 0. 0. 0. 0.]\n",
            " [0. 0. 0. 0. 0. 0. 0. 0. 0. 0.]\n",
            " [0. 0. 1. 0. 0. 0. 0. 0. 0. 0.]\n",
            " [0. 0. 0. 0. 0. 0. 0. 0. 0. 0.]\n",
            " [0. 0. 0. 0. 0. 0. 0. 0. 0. 0.]\n",
            " [0. 0. 0. 0. 0. 0. 0. 0. 0. 0.]]\n"
          ]
        }
      ]
    },
    {
      "cell_type": "markdown",
      "source": [
        "### SKLearn vectorization"
      ],
      "metadata": {
        "id": "LgoeemJcLjOO"
      }
    },
    {
      "cell_type": "code",
      "source": [
        "from sklearn.feature_extraction.text import TfidfVectorizer"
      ],
      "metadata": {
        "id": "-VBYxVzwJ2hv"
      },
      "execution_count": 29,
      "outputs": []
    },
    {
      "cell_type": "code",
      "source": [
        "tokenizer = RegexpTokenizer(r'[a-zA-Z]+')\n",
        "vectorizer = TfidfVectorizer(stop_words=stopwords.words('english'),\n",
        "                             tokenizer=tokenizer.tokenize)\n",
        "X = vectorizer.fit_transform(spamdf['v2'].array)\n",
        "tokens = vectorizer.get_feature_names_out()\n",
        "print(X.shape)\n",
        "print(tokens[:10])"
      ],
      "metadata": {
        "colab": {
          "base_uri": "https://localhost:8080/"
        },
        "id": "KDHZqsTzLuTZ",
        "outputId": "69c6536b-59fc-4ddb-b19f-1fd333b13b29"
      },
      "execution_count": 38,
      "outputs": [
        {
          "output_type": "stream",
          "name": "stdout",
          "text": [
            "(5572, 7564)\n",
            "['aa' 'aah' 'aaniye' 'aaooooright' 'aathi' 'ab' 'abbey' 'abdomen' 'abeg'\n",
            " 'abel']\n"
          ]
        }
      ]
    },
    {
      "cell_type": "code",
      "source": [],
      "metadata": {
        "id": "dm2qDbaaMGzC"
      },
      "execution_count": null,
      "outputs": []
    }
  ]
}