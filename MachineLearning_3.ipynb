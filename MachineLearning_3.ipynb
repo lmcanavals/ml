{
  "nbformat": 4,
  "nbformat_minor": 0,
  "metadata": {
    "colab": {
      "provenance": [],
      "collapsed_sections": [],
      "include_colab_link": true
    },
    "kernelspec": {
      "name": "python3",
      "display_name": "Python 3"
    },
    "language_info": {
      "name": "python"
    }
  },
  "cells": [
    {
      "cell_type": "markdown",
      "metadata": {
        "id": "view-in-github",
        "colab_type": "text"
      },
      "source": [
        "<a href=\"https://colab.research.google.com/github/lmcanavals/ml/blob/main/MachineLearning_3.ipynb\" target=\"_parent\"><img src=\"https://colab.research.google.com/assets/colab-badge.svg\" alt=\"Open In Colab\"/></a>"
      ]
    },
    {
      "cell_type": "code",
      "execution_count": null,
      "metadata": {
        "id": "1VTZpdi5rHCR"
      },
      "outputs": [],
      "source": [
        "import math"
      ]
    },
    {
      "cell_type": "code",
      "source": [
        "def sigmoid(x):\n",
        "  return 1/(1 + math.e**-x)"
      ],
      "metadata": {
        "id": "10jjxhy3rNe4"
      },
      "execution_count": null,
      "outputs": []
    },
    {
      "cell_type": "code",
      "source": [
        "def relu(x):\n",
        "  return x if x > 0 else 0"
      ],
      "metadata": {
        "id": "3Z9A1aFwrRGm"
      },
      "execution_count": null,
      "outputs": []
    },
    {
      "cell_type": "code",
      "source": [
        "%timeit sigmoid(10)"
      ],
      "metadata": {
        "colab": {
          "base_uri": "https://localhost:8080/"
        },
        "id": "FbFObCsprUNP",
        "outputId": "ed61dc32-cc50-4e3d-b546-ce4eb3e06690"
      },
      "execution_count": null,
      "outputs": [
        {
          "output_type": "stream",
          "name": "stdout",
          "text": [
            "309 ns ± 7.64 ns per loop (mean ± std. dev. of 7 runs, 1000000 loops each)\n"
          ]
        }
      ]
    },
    {
      "cell_type": "code",
      "source": [
        "%timeit relu(10)"
      ],
      "metadata": {
        "colab": {
          "base_uri": "https://localhost:8080/"
        },
        "id": "Y4NrKb26rX52",
        "outputId": "c95eb285-3634-42cf-f0cc-d4f50cc2313d"
      },
      "execution_count": null,
      "outputs": [
        {
          "output_type": "stream",
          "name": "stdout",
          "text": [
            "218 ns ± 75.2 ns per loop (mean ± std. dev. of 7 runs, 10000000 loops each)\n"
          ]
        }
      ]
    },
    {
      "cell_type": "code",
      "source": [
        "import numpy as np"
      ],
      "metadata": {
        "id": "wHmAiJ43rhys"
      },
      "execution_count": null,
      "outputs": []
    },
    {
      "cell_type": "code",
      "source": [
        "X = np.array([[0,0],\n",
        "             [0,1],\n",
        "             [1,0],\n",
        "             [1,1]])\n",
        "Y = np.array([1,0,0,1])"
      ],
      "metadata": {
        "id": "kRKFiWziriz3"
      },
      "execution_count": null,
      "outputs": []
    },
    {
      "cell_type": "code",
      "source": [
        "def forward(x, W ,b , activation):\n",
        "  return activation(np.matmul(x, W.T)+ b)"
      ],
      "metadata": {
        "id": "Ww19WXO1si5_"
      },
      "execution_count": null,
      "outputs": []
    },
    {
      "cell_type": "code",
      "source": [
        "W = np.zeros((1,2))\n",
        "b = 0 \n",
        "Y_hat = forward(X , W , b, sigmoid)"
      ],
      "metadata": {
        "id": "DQrlPQx9s7dp"
      },
      "execution_count": null,
      "outputs": []
    },
    {
      "cell_type": "code",
      "source": [
        "def loss(Y_hat , Y):\n",
        "  return np.sum(abs(Y - Y_hat))"
      ],
      "metadata": {
        "id": "2qKs80MBtcim"
      },
      "execution_count": null,
      "outputs": []
    },
    {
      "cell_type": "code",
      "source": [
        "loss(Y_hat, Y)"
      ],
      "metadata": {
        "colab": {
          "base_uri": "https://localhost:8080/"
        },
        "id": "Uzr88reMtlFg",
        "outputId": "3ae99503-4c0f-418c-8ed9-adf3f88606bd"
      },
      "execution_count": null,
      "outputs": [
        {
          "output_type": "execute_result",
          "data": {
            "text/plain": [
              "8.0"
            ]
          },
          "metadata": {},
          "execution_count": 11
        }
      ]
    },
    {
      "cell_type": "markdown",
      "source": [
        "### Sigmoid\n",
        "$$ \n",
        "\\sigma = \\frac{1}{1+ e ^{-z}}\n",
        "$$"
      ],
      "metadata": {
        "id": "bojGK_1I4bzf"
      }
    },
    {
      "cell_type": "code",
      "source": [
        "import math\n",
        "import numpy as np"
      ],
      "metadata": {
        "id": "M36yxre24oMI"
      },
      "execution_count": null,
      "outputs": []
    },
    {
      "cell_type": "code",
      "source": [
        "sigmoid = lambda z : 1 / (1+ math.e**(-z))\n",
        "tanh = lambda z : math.tanh(z)\n",
        "relu = lambda z: max(0,z)\n",
        "lrelu = lambda z: 0.001*z if z < 0 else z"
      ],
      "metadata": {
        "id": "dEVW0yFe-j_T"
      },
      "execution_count": null,
      "outputs": []
    },
    {
      "cell_type": "code",
      "source": [
        "dsigmoid = lambda z : sigmoid(z)*(1- sigmoid(z))\n",
        "dtanh = lambda z : 1 - tanh(z)**2\n",
        "drelu = lambda z: 0 if z < 0 else 1\n",
        "dlrelu = lambda z: 0.001*z if z < 0 else 1"
      ],
      "metadata": {
        "id": "LM4jxXdHlT4Q"
      },
      "execution_count": null,
      "outputs": []
    },
    {
      "cell_type": "code",
      "source": [
        "def L ( y, y_hat):\n",
        "  m = len(y)\n",
        "  return -1/m * np.sum(y* np.log(y_hat))"
      ],
      "metadata": {
        "id": "zpztVzFZ4kWx"
      },
      "execution_count": null,
      "outputs": []
    },
    {
      "cell_type": "code",
      "source": [
        "def forward(x, W ,b,g):\n",
        "  z = []\n",
        "  A = []\n",
        "  z.append(np.matmul(X, W[0])+ b[0])\n",
        "  A.append(g[0](z[0]))\n",
        "  z.append(np.matmul(A[0],W[1]) + b[1])\n",
        "  A.append(g[1](z[1]))\n",
        "  return z, A\n"
      ],
      "metadata": {
        "id": "GMuwdePd_8Mi"
      },
      "execution_count": null,
      "outputs": []
    },
    {
      "cell_type": "code",
      "source": [
        "X = np.array([[0,0],\n",
        "             [0,1],\n",
        "             [1,0],\n",
        "             [1,1]])\n",
        "Y = np.array([1,0,0,1])"
      ],
      "metadata": {
        "id": "DNBY5JCkCJui"
      },
      "execution_count": null,
      "outputs": []
    },
    {
      "cell_type": "code",
      "source": [
        "W = [np.zeros((2,2)), np.zeros((2,1))]\n",
        "b = [np.zeros((1,2)), np.zeros((1,1))]\n"
      ],
      "metadata": {
        "id": "LQVp1KWfCRBm"
      },
      "execution_count": null,
      "outputs": []
    },
    {
      "cell_type": "code",
      "source": [
        "z, A = forward( X, W ,b, [sigmoid,sigmoid])"
      ],
      "metadata": {
        "id": "WtBMAzIgCVHY"
      },
      "execution_count": null,
      "outputs": []
    },
    {
      "cell_type": "code",
      "source": [
        "1e6 * 1e6 * 16"
      ],
      "metadata": {
        "colab": {
          "base_uri": "https://localhost:8080/"
        },
        "id": "mmzyRePuLkok",
        "outputId": "9d161ea3-374e-4589-84d1-091c4a166b28"
      },
      "execution_count": null,
      "outputs": [
        {
          "output_type": "execute_result",
          "data": {
            "text/plain": [
              "16000000000000.0"
            ]
          },
          "metadata": {},
          "execution_count": 20
        }
      ]
    },
    {
      "cell_type": "code",
      "source": [
        "L(Y, A[-1])"
      ],
      "metadata": {
        "colab": {
          "base_uri": "https://localhost:8080/"
        },
        "id": "dk60TaxzLtM8",
        "outputId": "924bcce6-991b-4b6b-8956-48daf9ff52c0"
      },
      "execution_count": null,
      "outputs": [
        {
          "output_type": "execute_result",
          "data": {
            "text/plain": [
              "1.3862943611198906"
            ]
          },
          "metadata": {},
          "execution_count": 21
        }
      ]
    },
    {
      "cell_type": "code",
      "source": [
        "def backProgation(X,Y , W , b , A ,z , gprime):\n",
        "  m = len(X)\n",
        "  dz = A[1] - Y\n",
        "  dw = 1/m * np.matmul(A[0].T , dz)\n",
        "  db = 1/m * np.sum(dz, axis = 0, keepdims = True)\n",
        "  \n",
        "  print(dz.shape)\n",
        "  print(X.T.shape)"
      ],
      "metadata": {
        "id": "ozyy36CZiuaZ"
      },
      "execution_count": null,
      "outputs": []
    },
    {
      "cell_type": "code",
      "source": [
        "backProgation(X,Y,W,b,A,z,[dsigmoid, dsigmoid])"
      ],
      "metadata": {
        "colab": {
          "base_uri": "https://localhost:8080/"
        },
        "id": "HE2KFRlXjYvh",
        "outputId": "685dbc51-995b-4dcf-f06e-07f185b3b84e"
      },
      "execution_count": null,
      "outputs": [
        {
          "output_type": "stream",
          "name": "stdout",
          "text": [
            "(4, 4)\n",
            "(2, 4)\n"
          ]
        }
      ]
    },
    {
      "cell_type": "code",
      "source": [
        "print(z)\n",
        "print(A)"
      ],
      "metadata": {
        "colab": {
          "base_uri": "https://localhost:8080/"
        },
        "id": "eqY_v7ZdnAma",
        "outputId": "1bf84fae-9f73-4813-eda6-1c3119e299cd"
      },
      "execution_count": null,
      "outputs": [
        {
          "output_type": "stream",
          "name": "stdout",
          "text": [
            "[array([[0., 0.],\n",
            "       [0., 0.],\n",
            "       [0., 0.],\n",
            "       [0., 0.]]), array([[0.],\n",
            "       [0.],\n",
            "       [0.],\n",
            "       [0.]])]\n",
            "[array([[0.5, 0.5],\n",
            "       [0.5, 0.5],\n",
            "       [0.5, 0.5],\n",
            "       [0.5, 0.5]]), array([[0.5],\n",
            "       [0.5],\n",
            "       [0.5],\n",
            "       [0.5]])]\n"
          ]
        }
      ]
    },
    {
      "cell_type": "code",
      "source": [
        "\n",
        "import numpy as np\n",
        "from tensorflow import keras\n",
        "from tensorflow.keras.layers import Flatten, Dense, Dropout\n",
        "from tensorflow.keras.datasets.mnist import load_data\n",
        "from keras.regularizers import L2"
      ],
      "metadata": {
        "id": "U-roKvo64IpQ"
      },
      "execution_count": null,
      "outputs": []
    },
    {
      "cell_type": "code",
      "source": [
        "trainsds, testds = load_data()\n",
        "x_train, y_train = trainsds\n",
        "x_test, y_test = testds\n",
        "\n",
        "print(x_train.shape, y_train.shape)\n",
        "print(x_test.shape, y_test.shape)"
      ],
      "metadata": {
        "colab": {
          "base_uri": "https://localhost:8080/"
        },
        "id": "yt69hQnU-nnQ",
        "outputId": "925ec33d-4399-40ad-ca28-49fdcb632feb"
      },
      "execution_count": null,
      "outputs": [
        {
          "output_type": "stream",
          "name": "stdout",
          "text": [
            "Downloading data from https://storage.googleapis.com/tensorflow/tf-keras-datasets/mnist.npz\n",
            "11493376/11490434 [==============================] - 0s 0us/step\n",
            "11501568/11490434 [==============================] - 0s 0us/step\n",
            "(60000, 28, 28) (60000,)\n",
            "(10000, 28, 28) (10000,)\n"
          ]
        }
      ]
    },
    {
      "cell_type": "code",
      "source": [
        "import matplotlib.pyplot as plt\n",
        "\n",
        "plt.imshow(x_train[0], cmap=\"Greys\")"
      ],
      "metadata": {
        "colab": {
          "base_uri": "https://localhost:8080/",
          "height": 282
        },
        "id": "1LPbr3KI-qbA",
        "outputId": "30eb99aa-6e1a-48e9-bf0c-45c73820fe23"
      },
      "execution_count": null,
      "outputs": [
        {
          "output_type": "execute_result",
          "data": {
            "text/plain": [
              "<matplotlib.image.AxesImage at 0x7f42bdd7f490>"
            ]
          },
          "metadata": {},
          "execution_count": 27
        },
        {
          "output_type": "display_data",
          "data": {
            "text/plain": [
              "<Figure size 432x288 with 1 Axes>"
            ],
            "image/png": "[encoded data removed]"
          },
          "metadata": {
            "needs_background": "light"
          }
        }
      ]
    },
    {
      "cell_type": "code",
      "source": [
        "x_train = x_train / 255.0\n",
        "x_test = x_test / 255.0\n",
        "\n",
        "print(x_train[0][10:20, 10:14])"
      ],
      "metadata": {
        "colab": {
          "base_uri": "https://localhost:8080/"
        },
        "id": "qqqxPUuR-sAY",
        "outputId": "fc677cd0-1f02-415b-e2af-5da81471b18b"
      },
      "execution_count": null,
      "outputs": [
        {
          "output_type": "stream",
          "name": "stdout",
          "text": [
            "[[0.00392157 0.60392157 0.99215686 0.35294118]\n",
            " [0.         0.54509804 0.99215686 0.74509804]\n",
            " [0.         0.04313725 0.74509804 0.99215686]\n",
            " [0.         0.         0.1372549  0.94509804]\n",
            " [0.         0.         0.         0.31764706]\n",
            " [0.         0.         0.         0.        ]\n",
            " [0.         0.         0.         0.        ]\n",
            " [0.         0.         0.         0.        ]\n",
            " [0.         0.         0.         0.        ]\n",
            " [0.         0.         0.15294118 0.58039216]]\n"
          ]
        }
      ]
    },
    {
      "cell_type": "code",
      "source": [
        "x_train = x_train.reshape(*x_train.shape, 1)\n",
        "x_test = x_test.reshape(*x_test.shape, 1)"
      ],
      "metadata": {
        "id": "sdwx8hT7-tpn"
      },
      "execution_count": null,
      "outputs": []
    },
    {
      "cell_type": "code",
      "source": [
        "model = keras.Sequential([\n",
        "    Flatten(input_shape=(28, 28)),\n",
        "    Dense(128, activation='relu' ,kernel_regularizer =L2(0.01)),\n",
        "    Dense(10, activation='softmax'),\n",
        "    # Dropout()\n",
        "])\n",
        "model.compile(optimizer='adam',\n",
        "              loss='sparse_categorical_crossentropy',\n",
        "              metrics=['accuracy'])"
      ],
      "metadata": {
        "id": "7vUTVq6C-wWA"
      },
      "execution_count": null,
      "outputs": []
    },
    {
      "cell_type": "code",
      "source": [],
      "metadata": {
        "id": "KtI_D8Zy-yrY"
      },
      "execution_count": null,
      "outputs": []
    },
    {
      "cell_type": "code",
      "source": [
        "model.fit(x_train, y_train, epochs=10)\n"
      ],
      "metadata": {
        "colab": {
          "base_uri": "https://localhost:8080/"
        },
        "id": "JZQjvOsM-0fr",
        "outputId": "6aade4e4-7c33-42a7-bd8a-9342623b820e"
      },
      "execution_count": null,
      "outputs": [
        {
          "output_type": "stream",
          "name": "stdout",
          "text": [
            "Epoch 1/10\n",
            "1875/1875 [==============================] - 5s 2ms/step - loss: 0.6154 - accuracy: 0.8961\n",
            "Epoch 2/10\n",
            "1875/1875 [==============================] - 4s 2ms/step - loss: 0.3993 - accuracy: 0.9272\n",
            "Epoch 3/10\n",
            "1875/1875 [==============================] - 5s 3ms/step - loss: 0.3604 - accuracy: 0.9373\n",
            "Epoch 4/10\n",
            "1875/1875 [==============================] - 5s 2ms/step - loss: 0.3386 - accuracy: 0.9413\n",
            "Epoch 5/10\n",
            "1875/1875 [==============================] - 5s 2ms/step - loss: 0.3248 - accuracy: 0.9444\n",
            "Epoch 6/10\n",
            "1875/1875 [==============================] - 5s 2ms/step - loss: 0.3125 - accuracy: 0.9466\n",
            "Epoch 7/10\n",
            "1875/1875 [==============================] - 5s 2ms/step - loss: 0.3052 - accuracy: 0.9483\n",
            "Epoch 8/10\n",
            "1875/1875 [==============================] - 5s 2ms/step - loss: 0.2960 - accuracy: 0.9496\n",
            "Epoch 9/10\n",
            "1875/1875 [==============================] - 5s 2ms/step - loss: 0.2879 - accuracy: 0.9515\n",
            "Epoch 10/10\n",
            "1875/1875 [==============================] - 5s 2ms/step - loss: 0.2825 - accuracy: 0.9526\n"
          ]
        },
        {
          "output_type": "execute_result",
          "data": {
            "text/plain": [
              "<keras.callbacks.History at 0x7f42b8f24d10>"
            ]
          },
          "metadata": {},
          "execution_count": 32
        }
      ]
    },
    {
      "cell_type": "code",
      "source": [
        "model.evaluate(x_test,y_test)"
      ],
      "metadata": {
        "colab": {
          "base_uri": "https://localhost:8080/"
        },
        "id": "-lfq-LxfDDZk",
        "outputId": "0d5ec490-81b6-4323-ffcf-e378271b6e0a"
      },
      "execution_count": null,
      "outputs": [
        {
          "output_type": "stream",
          "name": "stdout",
          "text": [
            "313/313 [==============================] - 1s 2ms/step - loss: 0.2576 - accuracy: 0.9598\n"
          ]
        },
        {
          "output_type": "execute_result",
          "data": {
            "text/plain": [
              "[0.25755420327186584, 0.9598000049591064]"
            ]
          },
          "metadata": {},
          "execution_count": 33
        }
      ]
    },
    {
      "cell_type": "code",
      "source": [
        "y_hat = model.predict(x_test)\n"
      ],
      "metadata": {
        "id": "U79aeuhLGy0p"
      },
      "execution_count": null,
      "outputs": []
    },
    {
      "cell_type": "code",
      "source": [
        "y_hat = y_hat.argmax(axis=1)\n"
      ],
      "metadata": {
        "id": "1TD0XbMOG05o"
      },
      "execution_count": null,
      "outputs": []
    },
    {
      "cell_type": "code",
      "source": [
        "import sklearn.metrics as metrics\n",
        "import seaborn as sns"
      ],
      "metadata": {
        "id": "IAI0i6ZKGspj"
      },
      "execution_count": null,
      "outputs": []
    },
    {
      "cell_type": "code",
      "source": [
        "cm = metrics.confusion_matrix(y_test, y_hat)\n",
        "print(cm)"
      ],
      "metadata": {
        "colab": {
          "base_uri": "https://localhost:8080/"
        },
        "id": "wX31rQa8Gt9r",
        "outputId": "df075123-688e-44a9-f7b3-70389015b90e"
      },
      "execution_count": null,
      "outputs": [
        {
          "output_type": "stream",
          "name": "stdout",
          "text": [
            "[[ 968    1    1    1    0    3    2    1    2    1]\n",
            " [   0 1120    5    2    0    1    3    0    4    0]\n",
            " [   5    0  996    5    3    3    7    7    6    0]\n",
            " [   1    0   10  977    0    3    0    8    4    7]\n",
            " [   2    0    1    0  927    1    7    1    2   41]\n",
            " [   5    1    1   23    2  846    6    1    3    4]\n",
            " [  12    3    2    1    5   13  918    0    4    0]\n",
            " [   2    9   21    1    3    1    0  980    0   11]\n",
            " [  12    1    5   10    6   11    5   12  898   14]\n",
            " [   5    5    4    9    6    3    1    5    3  968]]\n"
          ]
        }
      ]
    },
    {
      "cell_type": "code",
      "source": [
        "test = [[ 969   , 0  ,  2    ,0  ,  1   , 0 ,   2   , 1   , 5  ,  0],\n",
        " [   0 ,1127   , 2    ,1  ,  0   , 0 ,   1   , 0   , 4  ,  0],\n",
        " [   3 ,   4 ,1004   , 3  ,  1   , 0 ,   2   , 9   , 6  ,  0],\n",
        " [   1  ,  0   , 2  ,996   , 0   , 3 ,   0   , 3   , 2  ,  3],\n",
        " [   1  ,  0   , 2  ,  1  ,963  ,  0 ,   4   , 2   , 0  ,  9],\n",
        " [   2  ,  0   , 0  ,  8   , 1  ,870 ,   3   , 1   , 5  ,  2],\n",
        " [   4  ,  3   , 1  ,  1   , 6  ,  4 , 936   , 0   , 3  ,  0],\n",
        " [   1  ,  3   , 9  ,  1   , 1  ,  0 ,   0 ,1008   , 1  ,  4],\n",
        " [   2  ,  1   , 3  ,  5   , 5  ,  1 ,   0 ,   4 , 951  ,  2],\n",
        " [   1  ,  6   , 0   , 5   , 9  ,  1 ,   0 ,   5  ,  3 , 979]],"
      ],
      "metadata": {
        "id": "n3KJ0mhwKgf1"
      },
      "execution_count": null,
      "outputs": []
    },
    {
      "cell_type": "code",
      "source": [],
      "metadata": {
        "id": "66so6vzBKjOL"
      },
      "execution_count": null,
      "outputs": []
    },
    {
      "cell_type": "code",
      "source": [],
      "metadata": {
        "id": "EQKcAiIBKXik"
      },
      "execution_count": null,
      "outputs": []
    },
    {
      "cell_type": "code",
      "source": [
        "y_hat = model.predict(x_test)\n",
        "metrics.top_k_accuracy_score(y_test, y_hat, k=3)"
      ],
      "metadata": {
        "colab": {
          "base_uri": "https://localhost:8080/"
        },
        "id": "XHHU9P-RG3fR",
        "outputId": "1e70655f-1718-4a1f-c6f2-dc4f1d8aee3e"
      },
      "execution_count": null,
      "outputs": [
        {
          "output_type": "execute_result",
          "data": {
            "text/plain": [
              "0.995"
            ]
          },
          "metadata": {},
          "execution_count": 39
        }
      ]
    },
    {
      "cell_type": "markdown",
      "source": [
        "Decision Tree"
      ],
      "metadata": {
        "id": "YQ4AFFvTMAey"
      }
    },
    {
      "cell_type": "code",
      "source": [
        "from sklearn.tree import DecisionTreeClassifier\n",
        "from sklearn.tree import export_graphviz\n",
        "import sklearn.metrics as metrics\n",
        "import seaborn as sns \n",
        "import pandas as pd\n",
        "import numpy as np\n",
        "import graphviz as gv"
      ],
      "metadata": {
        "id": "mXDS3KnYMCdy"
      },
      "execution_count": null,
      "outputs": []
    },
    {
      "cell_type": "code",
      "source": [
        "url=\"https://raw.githubusercontent.com/lmcanavals/ml/main/data/iris.data\"\n"
      ],
      "metadata": {
        "id": "C_A6-gEbL_6q"
      },
      "execution_count": null,
      "outputs": []
    },
    {
      "cell_type": "code",
      "source": [
        "data = pd.read_csv(url, header=None)\n",
        "data.head()"
      ],
      "metadata": {
        "colab": {
          "base_uri": "https://localhost:8080/",
          "height": 206
        },
        "id": "yZhJSrUWNUN1",
        "outputId": "e93f4f9d-6f8a-45b0-eab8-2ff08527b7e3"
      },
      "execution_count": null,
      "outputs": [
        {
          "output_type": "execute_result",
          "data": {
            "text/plain": [
              "     0    1    2    3            4\n",
              "0  5.1  3.5  1.4  0.2  Iris-setosa\n",
              "1  4.9  3.0  1.4  0.2  Iris-setosa\n",
              "2  4.7  3.2  1.3  0.2  Iris-setosa\n",
              "3  4.6  3.1  1.5  0.2  Iris-setosa\n",
              "4  5.0  3.6  1.4  0.2  Iris-setosa"
            ],
            "text/html": [
              "\n",
              "  <div id=\"df-610e5e41-a895-44bd-a585-eaccd7e241d4\">\n",
              "    <div class=\"colab-df-container\">\n",
              "      <div>\n",
              "<style scoped>\n",
              "    .dataframe tbody tr th:only-of-type {\n",
              "        vertical-align: middle;\n",
              "    }\n",
              "\n",
              "    .dataframe tbody tr th {\n",
              "        vertical-align: top;\n",
              "    }\n",
              "\n",
              "    .dataframe thead th {\n",
              "        text-align: right;\n",
              "    }\n",
              "</style>\n",
              "<table border=\"1\" class=\"dataframe\">\n",
              "  <thead>\n",
              "    <tr style=\"text-align: right;\">\n",
              "      <th></th>\n",
              "      <th>0</th>\n",
              "      <th>1</th>\n",
              "      <th>2</th>\n",
              "      <th>3</th>\n",
              "      <th>4</th>\n",
              "    </tr>\n",
              "  </thead>\n",
              "  <tbody>\n",
              "    <tr>\n",
              "      <th>0</th>\n",
              "      <td>5.1</td>\n",
              "      <td>3.5</td>\n",
              "      <td>1.4</td>\n",
              "      <td>0.2</td>\n",
              "      <td>Iris-setosa</td>\n",
              "    </tr>\n",
              "    <tr>\n",
              "      <th>1</th>\n",
              "      <td>4.9</td>\n",
              "      <td>3.0</td>\n",
              "      <td>1.4</td>\n",
              "      <td>0.2</td>\n",
              "      <td>Iris-setosa</td>\n",
              "    </tr>\n",
              "    <tr>\n",
              "      <th>2</th>\n",
              "      <td>4.7</td>\n",
              "      <td>3.2</td>\n",
              "      <td>1.3</td>\n",
              "      <td>0.2</td>\n",
              "      <td>Iris-setosa</td>\n",
              "    </tr>\n",
              "    <tr>\n",
              "      <th>3</th>\n",
              "      <td>4.6</td>\n",
              "      <td>3.1</td>\n",
              "      <td>1.5</td>\n",
              "      <td>0.2</td>\n",
              "      <td>Iris-setosa</td>\n",
              "    </tr>\n",
              "    <tr>\n",
              "      <th>4</th>\n",
              "      <td>5.0</td>\n",
              "      <td>3.6</td>\n",
              "      <td>1.4</td>\n",
              "      <td>0.2</td>\n",
              "      <td>Iris-setosa</td>\n",
              "    </tr>\n",
              "  </tbody>\n",
              "</table>\n",
              "</div>\n",
              "      <button class=\"colab-df-convert\" onclick=\"convertToInteractive('df-610e5e41-a895-44bd-a585-eaccd7e241d4')\"\n",
              "              title=\"Convert this dataframe to an interactive table.\"\n",
              "              style=\"display:none;\">\n",
              "        \n",
              "  <svg xmlns=\"http://www.w3.org/2000/svg\" height=\"24px\"viewBox=\"0 0 24 24\"\n",
              "       width=\"24px\">\n",
              "    <path d=\"M0 0h24v24H0V0z\" fill=\"none\"/>\n",
              "    <path d=\"M18.56 5.44l.94 2.06.94-2.06 2.06-.94-2.06-.94-.94-2.06-.94 2.06-2.06.94zm-11 1L8.5 8.5l.94-2.06 2.06-.94-2.06-.94L8.5 2.5l-.94 2.06-2.06.94zm10 10l.94 2.06.94-2.06 2.06-.94-2.06-.94-.94-2.06-.94 2.06-2.06.94z\"/><path d=\"M17.41 7.96l-1.37-1.37c-.4-.4-.92-.59-1.43-.59-.52 0-1.04.2-1.43.59L10.3 9.45l-7.72 7.72c-.78.78-.78 2.05 0 2.83L4 21.41c.39.39.9.59 1.41.59.51 0 1.02-.2 1.41-.59l7.78-7.78 2.81-2.81c.8-.78.8-2.07 0-2.86zM5.41 20L4 18.59l7.72-7.72 1.47 1.35L5.41 20z\"/>\n",
              "  </svg>\n",
              "      </button>\n",
              "      \n",
              "  <style>\n",
              "    .colab-df-container {\n",
              "      display:flex;\n",
              "      flex-wrap:wrap;\n",
              "      gap: 12px;\n",
              "    }\n",
              "\n",
              "    .colab-df-convert {\n",
              "      background-color: #E8F0FE;\n",
              "      border: none;\n",
              "      border-radius: 50%;\n",
              "      cursor: pointer;\n",
              "      display: none;\n",
              "      fill: #1967D2;\n",
              "      height: 32px;\n",
              "      padding: 0 0 0 0;\n",
              "      width: 32px;\n",
              "    }\n",
              "\n",
              "    .colab-df-convert:hover {\n",
              "      background-color: #E2EBFA;\n",
              "      box-shadow: 0px 1px 2px rgba(60, 64, 67, 0.3), 0px 1px 3px 1px rgba(60, 64, 67, 0.15);\n",
              "      fill: #174EA6;\n",
              "    }\n",
              "\n",
              "    [theme=dark] .colab-df-convert {\n",
              "      background-color: #3B4455;\n",
              "      fill: #D2E3FC;\n",
              "    }\n",
              "\n",
              "    [theme=dark] .colab-df-convert:hover {\n",
              "      background-color: #434B5C;\n",
              "      box-shadow: 0px 1px 3px 1px rgba(0, 0, 0, 0.15);\n",
              "      filter: drop-shadow(0px 1px 2px rgba(0, 0, 0, 0.3));\n",
              "      fill: #FFFFFF;\n",
              "    }\n",
              "  </style>\n",
              "\n",
              "      <script>\n",
              "        const buttonEl =\n",
              "          document.querySelector('#df-610e5e41-a895-44bd-a585-eaccd7e241d4 button.colab-df-convert');\n",
              "        buttonEl.style.display =\n",
              "          google.colab.kernel.accessAllowed ? 'block' : 'none';\n",
              "\n",
              "        async function convertToInteractive(key) {\n",
              "          const element = document.querySelector('#df-610e5e41-a895-44bd-a585-eaccd7e241d4');\n",
              "          const dataTable =\n",
              "            await google.colab.kernel.invokeFunction('convertToInteractive',\n",
              "                                                     [key], {});\n",
              "          if (!dataTable) return;\n",
              "\n",
              "          const docLinkHtml = 'Like what you see? Visit the ' +\n",
              "            '<a target=\"_blank\" href=https://colab.research.google.com/notebooks/data_table.ipynb>data table notebook</a>'\n",
              "            + ' to learn more about interactive tables.';\n",
              "          element.innerHTML = '';\n",
              "          dataTable['output_type'] = 'display_data';\n",
              "          await google.colab.output.renderOutput(dataTable, element);\n",
              "          const docLink = document.createElement('div');\n",
              "          docLink.innerHTML = docLinkHtml;\n",
              "          element.appendChild(docLink);\n",
              "        }\n",
              "      </script>\n",
              "    </div>\n",
              "  </div>\n",
              "  "
            ]
          },
          "metadata": {},
          "execution_count": 7
        }
      ]
    },
    {
      "cell_type": "code",
      "source": [
        "data.info()"
      ],
      "metadata": {
        "colab": {
          "base_uri": "https://localhost:8080/"
        },
        "id": "lHz1YhtbtdOR",
        "outputId": "0dd22da3-d30b-4b86-b73b-bc63d18dcba1"
      },
      "execution_count": null,
      "outputs": [
        {
          "output_type": "stream",
          "name": "stdout",
          "text": [
            "<class 'pandas.core.frame.DataFrame'>\n",
            "RangeIndex: 150 entries, 0 to 149\n",
            "Data columns (total 5 columns):\n",
            " #   Column  Non-Null Count  Dtype  \n",
            "---  ------  --------------  -----  \n",
            " 0   0       150 non-null    float64\n",
            " 1   1       150 non-null    float64\n",
            " 2   2       150 non-null    float64\n",
            " 3   3       150 non-null    float64\n",
            " 4   4       150 non-null    object \n",
            "dtypes: float64(4), object(1)\n",
            "memory usage: 6.0+ KB\n"
          ]
        }
      ]
    },
    {
      "cell_type": "code",
      "source": [
        "data = data.iloc[np.random.permutation(len(data))]\n",
        "X_train = data.iloc[:80,0:3]\n",
        "Y_train = data.iloc[:80,4]\n",
        "X_val = data.iloc[80:,0:3]\n",
        "Y_val = data.iloc[80:,4]\n"
      ],
      "metadata": {
        "id": "gF2Il_l06zb6"
      },
      "execution_count": null,
      "outputs": []
    },
    {
      "cell_type": "code",
      "source": [
        "model = DecisionTreeClassifier()\n",
        "model.fit(X_train, Y_train)"
      ],
      "metadata": {
        "colab": {
          "base_uri": "https://localhost:8080/"
        },
        "id": "ocSSezxb7FiU",
        "outputId": "4bfde5b1-a3f1-4812-afd5-a57560b0bf1d"
      },
      "execution_count": null,
      "outputs": [
        {
          "output_type": "execute_result",
          "data": {
            "text/plain": [
              "DecisionTreeClassifier()"
            ]
          },
          "metadata": {},
          "execution_count": 79
        }
      ]
    },
    {
      "cell_type": "code",
      "source": [
        "g = export_graphviz(model, class_names=Y.unique(), filled=True)\n",
        "gv.Source(g)"
      ],
      "metadata": {
        "colab": {
          "base_uri": "https://localhost:8080/",
          "height": 916
        },
        "id": "aP2sLvyqNjYV",
        "outputId": "86875de1-ea67-41f5-aea7-248e6f1e48a9"
      },
      "execution_count": null,
      "outputs": [
        {
          "output_type": "execute_result",
          "data": {
            "text/plain": [
              "<graphviz.files.Source at 0x7f42b2fd7c50>"
            ],
            "image/svg+xml": "<?xml version=\"1.0\" encoding=\"UTF-8\" standalone=\"no\"?>\n<!DOCTYPE svg PUBLIC \"-//W3C//DTD SVG 1.1//EN\"\n \"http://www.w3.org/Graphics/SVG/1.1/DTD/svg11.dtd\">\n<!-- Generated by graphviz version 2.40.1 (20161225.0304)\n -->\n<!-- Title: Tree Pages: 1 -->\n<svg width=\"654pt\" height=\"671pt\"\n viewBox=\"0.00 0.00 653.50 671.00\" xmlns=\"http://www.w3.org/2000/svg\" xmlns:xlink=\"http://www.w3.org/1999/xlink\">\n<g id=\"graph0\" class=\"graph\" transform=\"scale(1 1) rotate(0) translate(4 667)\">\n<title>Tree</title>\n<polygon fill=\"#ffffff\" stroke=\"transparent\" points=\"-4,4 -4,-667 649.5,-667 649.5,4 -4,4\"/>\n<!-- 0 -->\n<g id=\"node1\" class=\"node\">\n<title>0</title>\n<polygon fill=\"#fffdfb\" stroke=\"#000000\" points=\"312.5,-663 172.5,-663 172.5,-580 312.5,-580 312.5,-663\"/>\n<text text-anchor=\"middle\" x=\"242.5\" y=\"-647.8\" font-family=\"Helvetica,sans-Serif\" font-size=\"14.00\" fill=\"#000000\">X[2] &lt;= 2.6</text>\n<text text-anchor=\"middle\" x=\"242.5\" y=\"-632.8\" font-family=\"Helvetica,sans-Serif\" font-size=\"14.00\" fill=\"#000000\">gini = 0.666</text>\n<text text-anchor=\"middle\" x=\"242.5\" y=\"-617.8\" font-family=\"Helvetica,sans-Serif\" font-size=\"14.00\" fill=\"#000000\">samples = 80</text>\n<text text-anchor=\"middle\" x=\"242.5\" y=\"-602.8\" font-family=\"Helvetica,sans-Serif\" font-size=\"14.00\" fill=\"#000000\">value = [28, 25, 27]</text>\n<text text-anchor=\"middle\" x=\"242.5\" y=\"-587.8\" font-family=\"Helvetica,sans-Serif\" font-size=\"14.00\" fill=\"#000000\">class = Iris&#45;setosa</text>\n</g>\n<!-- 1 -->\n<g id=\"node2\" class=\"node\">\n<title>1</title>\n<polygon fill=\"#e58139\" stroke=\"#000000\" points=\"231,-536.5 98,-536.5 98,-468.5 231,-468.5 231,-536.5\"/>\n<text text-anchor=\"middle\" x=\"164.5\" y=\"-521.3\" font-family=\"Helvetica,sans-Serif\" font-size=\"14.00\" fill=\"#000000\">gini = 0.0</text>\n<text text-anchor=\"middle\" x=\"164.5\" y=\"-506.3\" font-family=\"Helvetica,sans-Serif\" font-size=\"14.00\" fill=\"#000000\">samples = 28</text>\n<text text-anchor=\"middle\" x=\"164.5\" y=\"-491.3\" font-family=\"Helvetica,sans-Serif\" font-size=\"14.00\" fill=\"#000000\">value = [28, 0, 0]</text>\n<text text-anchor=\"middle\" x=\"164.5\" y=\"-476.3\" font-family=\"Helvetica,sans-Serif\" font-size=\"14.00\" fill=\"#000000\">class = Iris&#45;setosa</text>\n</g>\n<!-- 0&#45;&gt;1 -->\n<g id=\"edge1\" class=\"edge\">\n<title>0&#45;&gt;1</title>\n<path fill=\"none\" stroke=\"#000000\" d=\"M215.2194,-579.8796C207.8677,-568.6636 199.9036,-556.5131 192.5126,-545.2372\"/>\n<polygon fill=\"#000000\" stroke=\"#000000\" points=\"195.4014,-543.2598 186.9921,-536.8149 189.5469,-547.0972 195.4014,-543.2598\"/>\n<text text-anchor=\"middle\" x=\"181.8982\" y=\"-557.5905\" font-family=\"Helvetica,sans-Serif\" font-size=\"14.00\" fill=\"#000000\">True</text>\n</g>\n<!-- 2 -->\n<g id=\"node3\" class=\"node\">\n<title>2</title>\n<polygon fill=\"#f6f0fd\" stroke=\"#000000\" points=\"392,-544 249,-544 249,-461 392,-461 392,-544\"/>\n<text text-anchor=\"middle\" x=\"320.5\" y=\"-528.8\" font-family=\"Helvetica,sans-Serif\" font-size=\"14.00\" fill=\"#000000\">X[2] &lt;= 4.75</text>\n<text text-anchor=\"middle\" x=\"320.5\" y=\"-513.8\" font-family=\"Helvetica,sans-Serif\" font-size=\"14.00\" fill=\"#000000\">gini = 0.499</text>\n<text text-anchor=\"middle\" x=\"320.5\" y=\"-498.8\" font-family=\"Helvetica,sans-Serif\" font-size=\"14.00\" fill=\"#000000\">samples = 52</text>\n<text text-anchor=\"middle\" x=\"320.5\" y=\"-483.8\" font-family=\"Helvetica,sans-Serif\" font-size=\"14.00\" fill=\"#000000\">value = [0, 25, 27]</text>\n<text text-anchor=\"middle\" x=\"320.5\" y=\"-468.8\" font-family=\"Helvetica,sans-Serif\" font-size=\"14.00\" fill=\"#000000\">class = Iris&#45;virginica</text>\n</g>\n<!-- 0&#45;&gt;2 -->\n<g id=\"edge2\" class=\"edge\">\n<title>0&#45;&gt;2</title>\n<path fill=\"none\" stroke=\"#000000\" d=\"M269.7806,-579.8796C275.5068,-571.1434 281.6046,-561.8404 287.5137,-552.8253\"/>\n<polygon fill=\"#000000\" stroke=\"#000000\" points=\"290.5482,-554.5803 293.1029,-544.2981 284.6937,-550.7429 290.5482,-554.5803\"/>\n<text text-anchor=\"middle\" x=\"298.1968\" y=\"-565.0736\" font-family=\"Helvetica,sans-Serif\" font-size=\"14.00\" fill=\"#000000\">False</text>\n</g>\n<!-- 3 -->\n<g id=\"node4\" class=\"node\">\n<title>3</title>\n<polygon fill=\"#41e686\" stroke=\"#000000\" points=\"313.5,-425 161.5,-425 161.5,-342 313.5,-342 313.5,-425\"/>\n<text text-anchor=\"middle\" x=\"237.5\" y=\"-409.8\" font-family=\"Helvetica,sans-Serif\" font-size=\"14.00\" fill=\"#000000\">X[0] &lt;= 4.95</text>\n<text text-anchor=\"middle\" x=\"237.5\" y=\"-394.8\" font-family=\"Helvetica,sans-Serif\" font-size=\"14.00\" fill=\"#000000\">gini = 0.077</text>\n<text text-anchor=\"middle\" x=\"237.5\" y=\"-379.8\" font-family=\"Helvetica,sans-Serif\" font-size=\"14.00\" fill=\"#000000\">samples = 25</text>\n<text text-anchor=\"middle\" x=\"237.5\" y=\"-364.8\" font-family=\"Helvetica,sans-Serif\" font-size=\"14.00\" fill=\"#000000\">value = [0, 24, 1]</text>\n<text text-anchor=\"middle\" x=\"237.5\" y=\"-349.8\" font-family=\"Helvetica,sans-Serif\" font-size=\"14.00\" fill=\"#000000\">class = Iris&#45;versicolor</text>\n</g>\n<!-- 2&#45;&gt;3 -->\n<g id=\"edge3\" class=\"edge\">\n<title>2&#45;&gt;3</title>\n<path fill=\"none\" stroke=\"#000000\" d=\"M291.4706,-460.8796C285.3145,-452.0534 278.7549,-442.6485 272.4064,-433.5466\"/>\n<polygon fill=\"#000000\" stroke=\"#000000\" points=\"275.2448,-431.4978 266.6533,-425.2981 269.5033,-435.5024 275.2448,-431.4978\"/>\n</g>\n<!-- 6 -->\n<g id=\"node7\" class=\"node\">\n<title>6</title>\n<polygon fill=\"#8641e6\" stroke=\"#000000\" points=\"475,-425 332,-425 332,-342 475,-342 475,-425\"/>\n<text text-anchor=\"middle\" x=\"403.5\" y=\"-409.8\" font-family=\"Helvetica,sans-Serif\" font-size=\"14.00\" fill=\"#000000\">X[0] &lt;= 6.05</text>\n<text text-anchor=\"middle\" x=\"403.5\" y=\"-394.8\" font-family=\"Helvetica,sans-Serif\" font-size=\"14.00\" fill=\"#000000\">gini = 0.071</text>\n<text text-anchor=\"middle\" x=\"403.5\" y=\"-379.8\" font-family=\"Helvetica,sans-Serif\" font-size=\"14.00\" fill=\"#000000\">samples = 27</text>\n<text text-anchor=\"middle\" x=\"403.5\" y=\"-364.8\" font-family=\"Helvetica,sans-Serif\" font-size=\"14.00\" fill=\"#000000\">value = [0, 1, 26]</text>\n<text text-anchor=\"middle\" x=\"403.5\" y=\"-349.8\" font-family=\"Helvetica,sans-Serif\" font-size=\"14.00\" fill=\"#000000\">class = Iris&#45;virginica</text>\n</g>\n<!-- 2&#45;&gt;6 -->\n<g id=\"edge6\" class=\"edge\">\n<title>2&#45;&gt;6</title>\n<path fill=\"none\" stroke=\"#000000\" d=\"M349.5294,-460.8796C355.6855,-452.0534 362.2451,-442.6485 368.5936,-433.5466\"/>\n<polygon fill=\"#000000\" stroke=\"#000000\" points=\"371.4967,-435.5024 374.3467,-425.2981 365.7552,-431.4978 371.4967,-435.5024\"/>\n</g>\n<!-- 4 -->\n<g id=\"node5\" class=\"node\">\n<title>4</title>\n<polygon fill=\"#8139e5\" stroke=\"#000000\" points=\"143,-298.5 0,-298.5 0,-230.5 143,-230.5 143,-298.5\"/>\n<text text-anchor=\"middle\" x=\"71.5\" y=\"-283.3\" font-family=\"Helvetica,sans-Serif\" font-size=\"14.00\" fill=\"#000000\">gini = 0.0</text>\n<text text-anchor=\"middle\" x=\"71.5\" y=\"-268.3\" font-family=\"Helvetica,sans-Serif\" font-size=\"14.00\" fill=\"#000000\">samples = 1</text>\n<text text-anchor=\"middle\" x=\"71.5\" y=\"-253.3\" font-family=\"Helvetica,sans-Serif\" font-size=\"14.00\" fill=\"#000000\">value = [0, 0, 1]</text>\n<text text-anchor=\"middle\" x=\"71.5\" y=\"-238.3\" font-family=\"Helvetica,sans-Serif\" font-size=\"14.00\" fill=\"#000000\">class = Iris&#45;virginica</text>\n</g>\n<!-- 3&#45;&gt;4 -->\n<g id=\"edge4\" class=\"edge\">\n<title>3&#45;&gt;4</title>\n<path fill=\"none\" stroke=\"#000000\" d=\"M179.4413,-341.8796C162.642,-329.8368 144.3401,-316.7167 127.659,-304.7586\"/>\n<polygon fill=\"#000000\" stroke=\"#000000\" points=\"129.2668,-301.6047 119.1002,-298.623 125.1884,-307.2939 129.2668,-301.6047\"/>\n</g>\n<!-- 5 -->\n<g id=\"node6\" class=\"node\">\n<title>5</title>\n<polygon fill=\"#39e581\" stroke=\"#000000\" points=\"313.5,-298.5 161.5,-298.5 161.5,-230.5 313.5,-230.5 313.5,-298.5\"/>\n<text text-anchor=\"middle\" x=\"237.5\" y=\"-283.3\" font-family=\"Helvetica,sans-Serif\" font-size=\"14.00\" fill=\"#000000\">gini = 0.0</text>\n<text text-anchor=\"middle\" x=\"237.5\" y=\"-268.3\" font-family=\"Helvetica,sans-Serif\" font-size=\"14.00\" fill=\"#000000\">samples = 24</text>\n<text text-anchor=\"middle\" x=\"237.5\" y=\"-253.3\" font-family=\"Helvetica,sans-Serif\" font-size=\"14.00\" fill=\"#000000\">value = [0, 24, 0]</text>\n<text text-anchor=\"middle\" x=\"237.5\" y=\"-238.3\" font-family=\"Helvetica,sans-Serif\" font-size=\"14.00\" fill=\"#000000\">class = Iris&#45;versicolor</text>\n</g>\n<!-- 3&#45;&gt;5 -->\n<g id=\"edge5\" class=\"edge\">\n<title>3&#45;&gt;5</title>\n<path fill=\"none\" stroke=\"#000000\" d=\"M237.5,-341.8796C237.5,-331.2134 237.5,-319.7021 237.5,-308.9015\"/>\n<polygon fill=\"#000000\" stroke=\"#000000\" points=\"241.0001,-308.8149 237.5,-298.8149 234.0001,-308.815 241.0001,-308.8149\"/>\n</g>\n<!-- 7 -->\n<g id=\"node8\" class=\"node\">\n<title>7</title>\n<polygon fill=\"#9a61ea\" stroke=\"#000000\" points=\"475,-306 332,-306 332,-223 475,-223 475,-306\"/>\n<text text-anchor=\"middle\" x=\"403.5\" y=\"-290.8\" font-family=\"Helvetica,sans-Serif\" font-size=\"14.00\" fill=\"#000000\">X[0] &lt;= 5.95</text>\n<text text-anchor=\"middle\" x=\"403.5\" y=\"-275.8\" font-family=\"Helvetica,sans-Serif\" font-size=\"14.00\" fill=\"#000000\">gini = 0.278</text>\n<text text-anchor=\"middle\" x=\"403.5\" y=\"-260.8\" font-family=\"Helvetica,sans-Serif\" font-size=\"14.00\" fill=\"#000000\">samples = 6</text>\n<text text-anchor=\"middle\" x=\"403.5\" y=\"-245.8\" font-family=\"Helvetica,sans-Serif\" font-size=\"14.00\" fill=\"#000000\">value = [0, 1, 5]</text>\n<text text-anchor=\"middle\" x=\"403.5\" y=\"-230.8\" font-family=\"Helvetica,sans-Serif\" font-size=\"14.00\" fill=\"#000000\">class = Iris&#45;virginica</text>\n</g>\n<!-- 6&#45;&gt;7 -->\n<g id=\"edge7\" class=\"edge\">\n<title>6&#45;&gt;7</title>\n<path fill=\"none\" stroke=\"#000000\" d=\"M403.5,-341.8796C403.5,-333.6838 403.5,-324.9891 403.5,-316.5013\"/>\n<polygon fill=\"#000000\" stroke=\"#000000\" points=\"407.0001,-316.298 403.5,-306.2981 400.0001,-316.2981 407.0001,-316.298\"/>\n</g>\n<!-- 12 -->\n<g id=\"node13\" class=\"node\">\n<title>12</title>\n<polygon fill=\"#8139e5\" stroke=\"#000000\" points=\"636,-298.5 493,-298.5 493,-230.5 636,-230.5 636,-298.5\"/>\n<text text-anchor=\"middle\" x=\"564.5\" y=\"-283.3\" font-family=\"Helvetica,sans-Serif\" font-size=\"14.00\" fill=\"#000000\">gini = 0.0</text>\n<text text-anchor=\"middle\" x=\"564.5\" y=\"-268.3\" font-family=\"Helvetica,sans-Serif\" font-size=\"14.00\" fill=\"#000000\">samples = 21</text>\n<text text-anchor=\"middle\" x=\"564.5\" y=\"-253.3\" font-family=\"Helvetica,sans-Serif\" font-size=\"14.00\" fill=\"#000000\">value = [0, 0, 21]</text>\n<text text-anchor=\"middle\" x=\"564.5\" y=\"-238.3\" font-family=\"Helvetica,sans-Serif\" font-size=\"14.00\" fill=\"#000000\">class = Iris&#45;virginica</text>\n</g>\n<!-- 6&#45;&gt;12 -->\n<g id=\"edge12\" class=\"edge\">\n<title>6&#45;&gt;12</title>\n<path fill=\"none\" stroke=\"#000000\" d=\"M459.81,-341.8796C476.1032,-329.8368 493.8539,-316.7167 510.0325,-304.7586\"/>\n<polygon fill=\"#000000\" stroke=\"#000000\" points=\"512.3721,-307.3816 518.3335,-298.623 508.2114,-301.7524 512.3721,-307.3816\"/>\n</g>\n<!-- 8 -->\n<g id=\"node9\" class=\"node\">\n<title>8</title>\n<polygon fill=\"#8139e5\" stroke=\"#000000\" points=\"392,-179.5 249,-179.5 249,-111.5 392,-111.5 392,-179.5\"/>\n<text text-anchor=\"middle\" x=\"320.5\" y=\"-164.3\" font-family=\"Helvetica,sans-Serif\" font-size=\"14.00\" fill=\"#000000\">gini = 0.0</text>\n<text text-anchor=\"middle\" x=\"320.5\" y=\"-149.3\" font-family=\"Helvetica,sans-Serif\" font-size=\"14.00\" fill=\"#000000\">samples = 4</text>\n<text text-anchor=\"middle\" x=\"320.5\" y=\"-134.3\" font-family=\"Helvetica,sans-Serif\" font-size=\"14.00\" fill=\"#000000\">value = [0, 0, 4]</text>\n<text text-anchor=\"middle\" x=\"320.5\" y=\"-119.3\" font-family=\"Helvetica,sans-Serif\" font-size=\"14.00\" fill=\"#000000\">class = Iris&#45;virginica</text>\n</g>\n<!-- 7&#45;&gt;8 -->\n<g id=\"edge8\" class=\"edge\">\n<title>7&#45;&gt;8</title>\n<path fill=\"none\" stroke=\"#000000\" d=\"M374.4706,-222.8796C366.6477,-211.6636 358.173,-199.5131 350.3083,-188.2372\"/>\n<polygon fill=\"#000000\" stroke=\"#000000\" points=\"353.0254,-186.0147 344.4339,-179.8149 347.284,-190.0192 353.0254,-186.0147\"/>\n</g>\n<!-- 9 -->\n<g id=\"node10\" class=\"node\">\n<title>9</title>\n<polygon fill=\"#ffffff\" stroke=\"#000000\" points=\"562.5,-187 410.5,-187 410.5,-104 562.5,-104 562.5,-187\"/>\n<text text-anchor=\"middle\" x=\"486.5\" y=\"-171.8\" font-family=\"Helvetica,sans-Serif\" font-size=\"14.00\" fill=\"#000000\">X[2] &lt;= 4.95</text>\n<text text-anchor=\"middle\" x=\"486.5\" y=\"-156.8\" font-family=\"Helvetica,sans-Serif\" font-size=\"14.00\" fill=\"#000000\">gini = 0.5</text>\n<text text-anchor=\"middle\" x=\"486.5\" y=\"-141.8\" font-family=\"Helvetica,sans-Serif\" font-size=\"14.00\" fill=\"#000000\">samples = 2</text>\n<text text-anchor=\"middle\" x=\"486.5\" y=\"-126.8\" font-family=\"Helvetica,sans-Serif\" font-size=\"14.00\" fill=\"#000000\">value = [0, 1, 1]</text>\n<text text-anchor=\"middle\" x=\"486.5\" y=\"-111.8\" font-family=\"Helvetica,sans-Serif\" font-size=\"14.00\" fill=\"#000000\">class = Iris&#45;versicolor</text>\n</g>\n<!-- 7&#45;&gt;9 -->\n<g id=\"edge9\" class=\"edge\">\n<title>7&#45;&gt;9</title>\n<path fill=\"none\" stroke=\"#000000\" d=\"M432.5294,-222.8796C438.6855,-214.0534 445.2451,-204.6485 451.5936,-195.5466\"/>\n<polygon fill=\"#000000\" stroke=\"#000000\" points=\"454.4967,-197.5024 457.3467,-187.2981 448.7552,-193.4978 454.4967,-197.5024\"/>\n</g>\n<!-- 10 -->\n<g id=\"node11\" class=\"node\">\n<title>10</title>\n<polygon fill=\"#8139e5\" stroke=\"#000000\" points=\"475,-68 332,-68 332,0 475,0 475,-68\"/>\n<text text-anchor=\"middle\" x=\"403.5\" y=\"-52.8\" font-family=\"Helvetica,sans-Serif\" font-size=\"14.00\" fill=\"#000000\">gini = 0.0</text>\n<text text-anchor=\"middle\" x=\"403.5\" y=\"-37.8\" font-family=\"Helvetica,sans-Serif\" font-size=\"14.00\" fill=\"#000000\">samples = 1</text>\n<text text-anchor=\"middle\" x=\"403.5\" y=\"-22.8\" font-family=\"Helvetica,sans-Serif\" font-size=\"14.00\" fill=\"#000000\">value = [0, 0, 1]</text>\n<text text-anchor=\"middle\" x=\"403.5\" y=\"-7.8\" font-family=\"Helvetica,sans-Serif\" font-size=\"14.00\" fill=\"#000000\">class = Iris&#45;virginica</text>\n</g>\n<!-- 9&#45;&gt;10 -->\n<g id=\"edge10\" class=\"edge\">\n<title>9&#45;&gt;10</title>\n<path fill=\"none\" stroke=\"#000000\" d=\"M455.5939,-103.9815C448.8892,-94.9747 441.7892,-85.4367 435.0597,-76.3965\"/>\n<polygon fill=\"#000000\" stroke=\"#000000\" points=\"437.7845,-74.1953 429.0057,-68.2637 432.1694,-78.3752 437.7845,-74.1953\"/>\n</g>\n<!-- 11 -->\n<g id=\"node12\" class=\"node\">\n<title>11</title>\n<polygon fill=\"#39e581\" stroke=\"#000000\" points=\"645.5,-68 493.5,-68 493.5,0 645.5,0 645.5,-68\"/>\n<text text-anchor=\"middle\" x=\"569.5\" y=\"-52.8\" font-family=\"Helvetica,sans-Serif\" font-size=\"14.00\" fill=\"#000000\">gini = 0.0</text>\n<text text-anchor=\"middle\" x=\"569.5\" y=\"-37.8\" font-family=\"Helvetica,sans-Serif\" font-size=\"14.00\" fill=\"#000000\">samples = 1</text>\n<text text-anchor=\"middle\" x=\"569.5\" y=\"-22.8\" font-family=\"Helvetica,sans-Serif\" font-size=\"14.00\" fill=\"#000000\">value = [0, 1, 0]</text>\n<text text-anchor=\"middle\" x=\"569.5\" y=\"-7.8\" font-family=\"Helvetica,sans-Serif\" font-size=\"14.00\" fill=\"#000000\">class = Iris&#45;versicolor</text>\n</g>\n<!-- 9&#45;&gt;11 -->\n<g id=\"edge11\" class=\"edge\">\n<title>9&#45;&gt;11</title>\n<path fill=\"none\" stroke=\"#000000\" d=\"M517.4061,-103.9815C524.1108,-94.9747 531.2108,-85.4367 537.9403,-76.3965\"/>\n<polygon fill=\"#000000\" stroke=\"#000000\" points=\"540.8306,-78.3752 543.9943,-68.2637 535.2155,-74.1953 540.8306,-78.3752\"/>\n</g>\n</g>\n</svg>\n"
          },
          "metadata": {},
          "execution_count": 80
        }
      ]
    },
    {
      "cell_type": "code",
      "source": [
        "y_hat = model.predict(X_val)\n"
      ],
      "metadata": {
        "id": "rFD38xx7oPoh"
      },
      "execution_count": null,
      "outputs": []
    },
    {
      "cell_type": "code",
      "source": [
        "cm = metrics.confusion_matrix(Y_val,y_hat)\n",
        "print(cm)"
      ],
      "metadata": {
        "colab": {
          "base_uri": "https://localhost:8080/"
        },
        "id": "Nc0KpzUXoROd",
        "outputId": "5e911c78-2a82-4d4b-8138-a9d4f37e4c44"
      },
      "execution_count": null,
      "outputs": [
        {
          "output_type": "stream",
          "name": "stdout",
          "text": [
            "[[22  0  0]\n",
            " [ 0 19  6]\n",
            " [ 0  1 22]]\n"
          ]
        }
      ]
    },
    {
      "cell_type": "markdown",
      "source": [
        "### Predecir la iris setosa"
      ],
      "metadata": {
        "id": "yX2pv0hl2EXM"
      }
    },
    {
      "cell_type": "code",
      "source": [
        "import tensorflow as tf\n"
      ],
      "metadata": {
        "id": "G-GGZa2H4an0"
      },
      "execution_count": null,
      "outputs": []
    },
    {
      "cell_type": "code",
      "source": [
        "data = data.replace({'Iris-setosa': 0 ,'Iris-virginica':2, 'Iris-versicolor':1})"
      ],
      "metadata": {
        "id": "CQOb_2m98fCn"
      },
      "execution_count": null,
      "outputs": []
    },
    {
      "cell_type": "code",
      "source": [
        "data"
      ],
      "metadata": {
        "colab": {
          "base_uri": "https://localhost:8080/",
          "height": 424
        },
        "id": "qy_zKv4B8jOD",
        "outputId": "a794004f-0ad9-4a1e-c34b-dd837250d344"
      },
      "execution_count": null,
      "outputs": [
        {
          "output_type": "execute_result",
          "data": {
            "text/plain": [
              "       0    1    2    3  4\n",
              "0    5.1  3.5  1.4  0.2  0\n",
              "1    4.9  3.0  1.4  0.2  0\n",
              "2    4.7  3.2  1.3  0.2  0\n",
              "3    4.6  3.1  1.5  0.2  0\n",
              "4    5.0  3.6  1.4  0.2  0\n",
              "..   ...  ...  ...  ... ..\n",
              "145  6.7  3.0  5.2  2.3  2\n",
              "146  6.3  2.5  5.0  1.9  2\n",
              "147  6.5  3.0  5.2  2.0  2\n",
              "148  6.2  3.4  5.4  2.3  2\n",
              "149  5.9  3.0  5.1  1.8  2\n",
              "\n",
              "[150 rows x 5 columns]"
            ],
            "text/html": [
              "\n",
              "  <div id=\"df-ff9ece5e-48ba-4a1d-a565-53e449fa1014\">\n",
              "    <div class=\"colab-df-container\">\n",
              "      <div>\n",
              "<style scoped>\n",
              "    .dataframe tbody tr th:only-of-type {\n",
              "        vertical-align: middle;\n",
              "    }\n",
              "\n",
              "    .dataframe tbody tr th {\n",
              "        vertical-align: top;\n",
              "    }\n",
              "\n",
              "    .dataframe thead th {\n",
              "        text-align: right;\n",
              "    }\n",
              "</style>\n",
              "<table border=\"1\" class=\"dataframe\">\n",
              "  <thead>\n",
              "    <tr style=\"text-align: right;\">\n",
              "      <th></th>\n",
              "      <th>0</th>\n",
              "      <th>1</th>\n",
              "      <th>2</th>\n",
              "      <th>3</th>\n",
              "      <th>4</th>\n",
              "    </tr>\n",
              "  </thead>\n",
              "  <tbody>\n",
              "    <tr>\n",
              "      <th>0</th>\n",
              "      <td>5.1</td>\n",
              "      <td>3.5</td>\n",
              "      <td>1.4</td>\n",
              "      <td>0.2</td>\n",
              "      <td>0</td>\n",
              "    </tr>\n",
              "    <tr>\n",
              "      <th>1</th>\n",
              "      <td>4.9</td>\n",
              "      <td>3.0</td>\n",
              "      <td>1.4</td>\n",
              "      <td>0.2</td>\n",
              "      <td>0</td>\n",
              "    </tr>\n",
              "    <tr>\n",
              "      <th>2</th>\n",
              "      <td>4.7</td>\n",
              "      <td>3.2</td>\n",
              "      <td>1.3</td>\n",
              "      <td>0.2</td>\n",
              "      <td>0</td>\n",
              "    </tr>\n",
              "    <tr>\n",
              "      <th>3</th>\n",
              "      <td>4.6</td>\n",
              "      <td>3.1</td>\n",
              "      <td>1.5</td>\n",
              "      <td>0.2</td>\n",
              "      <td>0</td>\n",
              "    </tr>\n",
              "    <tr>\n",
              "      <th>4</th>\n",
              "      <td>5.0</td>\n",
              "      <td>3.6</td>\n",
              "      <td>1.4</td>\n",
              "      <td>0.2</td>\n",
              "      <td>0</td>\n",
              "    </tr>\n",
              "    <tr>\n",
              "      <th>...</th>\n",
              "      <td>...</td>\n",
              "      <td>...</td>\n",
              "      <td>...</td>\n",
              "      <td>...</td>\n",
              "      <td>...</td>\n",
              "    </tr>\n",
              "    <tr>\n",
              "      <th>145</th>\n",
              "      <td>6.7</td>\n",
              "      <td>3.0</td>\n",
              "      <td>5.2</td>\n",
              "      <td>2.3</td>\n",
              "      <td>2</td>\n",
              "    </tr>\n",
              "    <tr>\n",
              "      <th>146</th>\n",
              "      <td>6.3</td>\n",
              "      <td>2.5</td>\n",
              "      <td>5.0</td>\n",
              "      <td>1.9</td>\n",
              "      <td>2</td>\n",
              "    </tr>\n",
              "    <tr>\n",
              "      <th>147</th>\n",
              "      <td>6.5</td>\n",
              "      <td>3.0</td>\n",
              "      <td>5.2</td>\n",
              "      <td>2.0</td>\n",
              "      <td>2</td>\n",
              "    </tr>\n",
              "    <tr>\n",
              "      <th>148</th>\n",
              "      <td>6.2</td>\n",
              "      <td>3.4</td>\n",
              "      <td>5.4</td>\n",
              "      <td>2.3</td>\n",
              "      <td>2</td>\n",
              "    </tr>\n",
              "    <tr>\n",
              "      <th>149</th>\n",
              "      <td>5.9</td>\n",
              "      <td>3.0</td>\n",
              "      <td>5.1</td>\n",
              "      <td>1.8</td>\n",
              "      <td>2</td>\n",
              "    </tr>\n",
              "  </tbody>\n",
              "</table>\n",
              "<p>150 rows × 5 columns</p>\n",
              "</div>\n",
              "      <button class=\"colab-df-convert\" onclick=\"convertToInteractive('df-ff9ece5e-48ba-4a1d-a565-53e449fa1014')\"\n",
              "              title=\"Convert this dataframe to an interactive table.\"\n",
              "              style=\"display:none;\">\n",
              "        \n",
              "  <svg xmlns=\"http://www.w3.org/2000/svg\" height=\"24px\"viewBox=\"0 0 24 24\"\n",
              "       width=\"24px\">\n",
              "    <path d=\"M0 0h24v24H0V0z\" fill=\"none\"/>\n",
              "    <path d=\"M18.56 5.44l.94 2.06.94-2.06 2.06-.94-2.06-.94-.94-2.06-.94 2.06-2.06.94zm-11 1L8.5 8.5l.94-2.06 2.06-.94-2.06-.94L8.5 2.5l-.94 2.06-2.06.94zm10 10l.94 2.06.94-2.06 2.06-.94-2.06-.94-.94-2.06-.94 2.06-2.06.94z\"/><path d=\"M17.41 7.96l-1.37-1.37c-.4-.4-.92-.59-1.43-.59-.52 0-1.04.2-1.43.59L10.3 9.45l-7.72 7.72c-.78.78-.78 2.05 0 2.83L4 21.41c.39.39.9.59 1.41.59.51 0 1.02-.2 1.41-.59l7.78-7.78 2.81-2.81c.8-.78.8-2.07 0-2.86zM5.41 20L4 18.59l7.72-7.72 1.47 1.35L5.41 20z\"/>\n",
              "  </svg>\n",
              "      </button>\n",
              "      \n",
              "  <style>\n",
              "    .colab-df-container {\n",
              "      display:flex;\n",
              "      flex-wrap:wrap;\n",
              "      gap: 12px;\n",
              "    }\n",
              "\n",
              "    .colab-df-convert {\n",
              "      background-color: #E8F0FE;\n",
              "      border: none;\n",
              "      border-radius: 50%;\n",
              "      cursor: pointer;\n",
              "      display: none;\n",
              "      fill: #1967D2;\n",
              "      height: 32px;\n",
              "      padding: 0 0 0 0;\n",
              "      width: 32px;\n",
              "    }\n",
              "\n",
              "    .colab-df-convert:hover {\n",
              "      background-color: #E2EBFA;\n",
              "      box-shadow: 0px 1px 2px rgba(60, 64, 67, 0.3), 0px 1px 3px 1px rgba(60, 64, 67, 0.15);\n",
              "      fill: #174EA6;\n",
              "    }\n",
              "\n",
              "    [theme=dark] .colab-df-convert {\n",
              "      background-color: #3B4455;\n",
              "      fill: #D2E3FC;\n",
              "    }\n",
              "\n",
              "    [theme=dark] .colab-df-convert:hover {\n",
              "      background-color: #434B5C;\n",
              "      box-shadow: 0px 1px 3px 1px rgba(0, 0, 0, 0.15);\n",
              "      filter: drop-shadow(0px 1px 2px rgba(0, 0, 0, 0.3));\n",
              "      fill: #FFFFFF;\n",
              "    }\n",
              "  </style>\n",
              "\n",
              "      <script>\n",
              "        const buttonEl =\n",
              "          document.querySelector('#df-ff9ece5e-48ba-4a1d-a565-53e449fa1014 button.colab-df-convert');\n",
              "        buttonEl.style.display =\n",
              "          google.colab.kernel.accessAllowed ? 'block' : 'none';\n",
              "\n",
              "        async function convertToInteractive(key) {\n",
              "          const element = document.querySelector('#df-ff9ece5e-48ba-4a1d-a565-53e449fa1014');\n",
              "          const dataTable =\n",
              "            await google.colab.kernel.invokeFunction('convertToInteractive',\n",
              "                                                     [key], {});\n",
              "          if (!dataTable) return;\n",
              "\n",
              "          const docLinkHtml = 'Like what you see? Visit the ' +\n",
              "            '<a target=\"_blank\" href=https://colab.research.google.com/notebooks/data_table.ipynb>data table notebook</a>'\n",
              "            + ' to learn more about interactive tables.';\n",
              "          element.innerHTML = '';\n",
              "          dataTable['output_type'] = 'display_data';\n",
              "          await google.colab.output.renderOutput(dataTable, element);\n",
              "          const docLink = document.createElement('div');\n",
              "          docLink.innerHTML = docLinkHtml;\n",
              "          element.appendChild(docLink);\n",
              "        }\n",
              "      </script>\n",
              "    </div>\n",
              "  </div>\n",
              "  "
            ]
          },
          "metadata": {},
          "execution_count": 168
        }
      ]
    },
    {
      "cell_type": "code",
      "source": [
        "X= data.iloc[:150 , 0:4]\n",
        "Y = data.iloc[:150, 4]\n",
        "#X_test= data.iloc[:150 , 0:4]\n",
        "#Y_test = data.iloc[:150:, 4]"
      ],
      "metadata": {
        "id": "BogDEOe86Iot"
      },
      "execution_count": null,
      "outputs": []
    },
    {
      "cell_type": "code",
      "source": [
        "from sklearn.model_selection import train_test_split\n",
        "x_train, x_test,  y_train, y_test = train_test_split(X, Y, test_size=0.3)"
      ],
      "metadata": {
        "id": "krNQlDi1_stT"
      },
      "execution_count": null,
      "outputs": []
    },
    {
      "cell_type": "code",
      "source": [
        "Y_train"
      ],
      "metadata": {
        "colab": {
          "base_uri": "https://localhost:8080/"
        },
        "id": "Hl0KJvAB_cwK",
        "outputId": "8c7a41d5-7df1-457e-d475-1b8c04277320"
      },
      "execution_count": null,
      "outputs": [
        {
          "output_type": "execute_result",
          "data": {
            "text/plain": [
              "0      0\n",
              "1      0\n",
              "2      0\n",
              "3      0\n",
              "4      0\n",
              "      ..\n",
              "145    2\n",
              "146    2\n",
              "147    2\n",
              "148    2\n",
              "149    2\n",
              "Name: 4, Length: 150, dtype: int64"
            ]
          },
          "metadata": {},
          "execution_count": 11
        }
      ]
    },
    {
      "cell_type": "code",
      "source": [
        "model = keras.Sequential([\n",
        "    Dense(100,input_shape=(4,), activation = \"relu\"),\n",
        "    Dense(3,activation= 'softmax')\n",
        "])"
      ],
      "metadata": {
        "id": "yDCFtvx96vAd"
      },
      "execution_count": null,
      "outputs": []
    },
    {
      "cell_type": "code",
      "source": [
        "model.compile(optimizer='adam',\n",
        "              loss = \"sparse_categorical_crossentropy\",\n",
        "              metrics=[\"accuracy\"])"
      ],
      "metadata": {
        "id": "h3Rxj7i37Q--"
      },
      "execution_count": null,
      "outputs": []
    },
    {
      "cell_type": "code",
      "source": [
        "model.fit(x_train,y_train, epochs=20)"
      ],
      "metadata": {
        "colab": {
          "base_uri": "https://localhost:8080/"
        },
        "id": "QVasnlDM7bCM",
        "outputId": "1021dcfa-75df-4ad8-95fb-80e5e9055a80"
      },
      "execution_count": null,
      "outputs": [
        {
          "output_type": "stream",
          "name": "stdout",
          "text": [
            "Epoch 1/20\n",
            "4/4 [==============================] - 0s 4ms/step - loss: 0.5502 - accuracy: 0.8857\n",
            "Epoch 2/20\n",
            "4/4 [==============================] - 0s 4ms/step - loss: 0.5402 - accuracy: 0.9238\n",
            "Epoch 3/20\n",
            "4/4 [==============================] - 0s 3ms/step - loss: 0.5269 - accuracy: 0.8952\n",
            "Epoch 4/20\n",
            "4/4 [==============================] - 0s 3ms/step - loss: 0.5169 - accuracy: 0.8762\n",
            "Epoch 5/20\n",
            "4/4 [==============================] - 0s 3ms/step - loss: 0.5108 - accuracy: 0.8381\n",
            "Epoch 6/20\n",
            "4/4 [==============================] - 0s 3ms/step - loss: 0.5011 - accuracy: 0.8286\n",
            "Epoch 7/20\n",
            "4/4 [==============================] - 0s 3ms/step - loss: 0.4901 - accuracy: 0.8667\n",
            "Epoch 8/20\n",
            "4/4 [==============================] - 0s 3ms/step - loss: 0.4854 - accuracy: 0.9429\n",
            "Epoch 9/20\n",
            "4/4 [==============================] - 0s 3ms/step - loss: 0.4712 - accuracy: 0.9429\n",
            "Epoch 10/20\n",
            "4/4 [==============================] - 0s 3ms/step - loss: 0.4679 - accuracy: 0.8762\n",
            "Epoch 11/20\n",
            "4/4 [==============================] - 0s 3ms/step - loss: 0.4600 - accuracy: 0.8571\n",
            "Epoch 12/20\n",
            "4/4 [==============================] - 0s 3ms/step - loss: 0.4497 - accuracy: 0.9048\n",
            "Epoch 13/20\n",
            "4/4 [==============================] - 0s 3ms/step - loss: 0.4406 - accuracy: 0.9619\n",
            "Epoch 14/20\n",
            "4/4 [==============================] - 0s 3ms/step - loss: 0.4500 - accuracy: 0.9048\n",
            "Epoch 15/20\n",
            "4/4 [==============================] - 0s 3ms/step - loss: 0.4508 - accuracy: 0.8571\n",
            "Epoch 16/20\n",
            "4/4 [==============================] - 0s 4ms/step - loss: 0.4255 - accuracy: 0.9429\n",
            "Epoch 17/20\n",
            "4/4 [==============================] - 0s 4ms/step - loss: 0.4285 - accuracy: 0.8571\n",
            "Epoch 18/20\n",
            "4/4 [==============================] - 0s 3ms/step - loss: 0.4211 - accuracy: 0.8476\n",
            "Epoch 19/20\n",
            "4/4 [==============================] - 0s 4ms/step - loss: 0.4140 - accuracy: 0.9333\n",
            "Epoch 20/20\n",
            "4/4 [==============================] - 0s 3ms/step - loss: 0.4014 - accuracy: 0.9714\n"
          ]
        },
        {
          "output_type": "execute_result",
          "data": {
            "text/plain": [
              "<keras.callbacks.History at 0x7fa3c9c0e210>"
            ]
          },
          "metadata": {},
          "execution_count": 39
        }
      ]
    },
    {
      "cell_type": "code",
      "source": [
        "model.evaluate(x_test,y_test)"
      ],
      "metadata": {
        "colab": {
          "base_uri": "https://localhost:8080/"
        },
        "id": "6v9v8DkA-g5I",
        "outputId": "afc89bc0-549d-479e-c958-44c0c4af31fd"
      },
      "execution_count": null,
      "outputs": [
        {
          "output_type": "stream",
          "name": "stdout",
          "text": [
            "2/2 [==============================] - 0s 7ms/step - loss: 0.3805 - accuracy: 0.9556\n"
          ]
        },
        {
          "output_type": "execute_result",
          "data": {
            "text/plain": [
              "[0.3805140554904938, 0.9555555582046509]"
            ]
          },
          "metadata": {},
          "execution_count": 40
        }
      ]
    },
    {
      "cell_type": "code",
      "source": [
        "data.head"
      ],
      "metadata": {
        "colab": {
          "base_uri": "https://localhost:8080/"
        },
        "id": "zHCAyS_b_GHz",
        "outputId": "18c4a52c-b1d2-48cd-8b23-d2d7111ba5a5"
      },
      "execution_count": null,
      "outputs": [
        {
          "output_type": "execute_result",
          "data": {
            "text/plain": [
              "<bound method NDFrame.head of        0    1    2    3  4\n",
              "0    5.1  3.5  1.4  0.2  0\n",
              "1    4.9  3.0  1.4  0.2  0\n",
              "2    4.7  3.2  1.3  0.2  0\n",
              "3    4.6  3.1  1.5  0.2  0\n",
              "4    5.0  3.6  1.4  0.2  0\n",
              "..   ...  ...  ...  ... ..\n",
              "145  6.7  3.0  5.2  2.3  2\n",
              "146  6.3  2.5  5.0  1.9  2\n",
              "147  6.5  3.0  5.2  2.0  2\n",
              "148  6.2  3.4  5.4  2.3  2\n",
              "149  5.9  3.0  5.1  1.8  2\n",
              "\n",
              "[150 rows x 5 columns]>"
            ]
          },
          "metadata": {},
          "execution_count": 41
        }
      ]
    },
    {
      "cell_type": "code",
      "source": [
        "a = x_test[:1]"
      ],
      "metadata": {
        "id": "SOXlsjG-_HFo"
      },
      "execution_count": null,
      "outputs": []
    },
    {
      "cell_type": "code",
      "source": [
        "print()"
      ],
      "metadata": {
        "id": "tQxDPLx8BcZW",
        "outputId": "5394f7a7-a60f-4301-815f-3b2a7bdbd96d",
        "colab": {
          "base_uri": "https://localhost:8080/"
        }
      },
      "execution_count": null,
      "outputs": [
        {
          "output_type": "stream",
          "name": "stdout",
          "text": [
            "      0    1    2    3\n",
            "92  5.8  2.6  4.0  1.2\n"
          ]
        }
      ]
    },
    {
      "cell_type": "code",
      "source": [
        "s = model.predict(a)"
      ],
      "metadata": {
        "id": "eU-6NUir_CbM"
      },
      "execution_count": null,
      "outputs": []
    },
    {
      "cell_type": "code",
      "source": [
        "p=np.argmax(s, axis=1)\n",
        "print(p)\n",
        "print(y_test[:10])"
      ],
      "metadata": {
        "colab": {
          "base_uri": "https://localhost:8080/"
        },
        "id": "OXsciGva_ixZ",
        "outputId": "8ccf2fde-0b8f-4ce1-dc07-a590f8661afc"
      },
      "execution_count": null,
      "outputs": [
        {
          "output_type": "stream",
          "name": "stdout",
          "text": [
            "[1]\n",
            "92     1\n",
            "132    2\n",
            "5      0\n",
            "81     1\n",
            "59     1\n",
            "57     1\n",
            "29     0\n",
            "128    2\n",
            "74     1\n",
            "53     1\n",
            "Name: 4, dtype: int64\n"
          ]
        }
      ]
    },
    {
      "cell_type": "code",
      "source": [
        "import pandas as pd"
      ],
      "metadata": {
        "id": "lw6DHlH9zOZP"
      },
      "execution_count": null,
      "outputs": []
    },
    {
      "cell_type": "code",
      "source": [
        "url = \"https://raw.githubusercontent.com/lmcanavals/ml/main/data/golf-dataset.csv\"\n"
      ],
      "metadata": {
        "id": "XmOWzp8vzKJo"
      },
      "execution_count": null,
      "outputs": []
    },
    {
      "cell_type": "code",
      "source": [
        "data = pd.read_csv(url)\n",
        "data.head()"
      ],
      "metadata": {
        "colab": {
          "base_uri": "https://localhost:8080/",
          "height": 206
        },
        "id": "KoT5xadBzQlC",
        "outputId": "06ca7b00-6c66-46ce-9502-f4eee860a955"
      },
      "execution_count": null,
      "outputs": [
        {
          "output_type": "execute_result",
          "data": {
            "text/plain": [
              "    Outlook  Temp Humidity  Windy Play Golf\n",
              "0     Rainy   Hot     High  False        No\n",
              "1     Rainy   Hot     High   True        No\n",
              "2  Overcast   Hot     High  False       Yes\n",
              "3     Sunny  Mild     High  False       Yes\n",
              "4     Sunny  Cool   Normal  False       Yes"
            ],
            "text/html": [
              "\n",
              "  <div id=\"df-39f44591-676c-4e9b-ab42-b900849897ad\">\n",
              "    <div class=\"colab-df-container\">\n",
              "      <div>\n",
              "<style scoped>\n",
              "    .dataframe tbody tr th:only-of-type {\n",
              "        vertical-align: middle;\n",
              "    }\n",
              "\n",
              "    .dataframe tbody tr th {\n",
              "        vertical-align: top;\n",
              "    }\n",
              "\n",
              "    .dataframe thead th {\n",
              "        text-align: right;\n",
              "    }\n",
              "</style>\n",
              "<table border=\"1\" class=\"dataframe\">\n",
              "  <thead>\n",
              "    <tr style=\"text-align: right;\">\n",
              "      <th></th>\n",
              "      <th>Outlook</th>\n",
              "      <th>Temp</th>\n",
              "      <th>Humidity</th>\n",
              "      <th>Windy</th>\n",
              "      <th>Play Golf</th>\n",
              "    </tr>\n",
              "  </thead>\n",
              "  <tbody>\n",
              "    <tr>\n",
              "      <th>0</th>\n",
              "      <td>Rainy</td>\n",
              "      <td>Hot</td>\n",
              "      <td>High</td>\n",
              "      <td>False</td>\n",
              "      <td>No</td>\n",
              "    </tr>\n",
              "    <tr>\n",
              "      <th>1</th>\n",
              "      <td>Rainy</td>\n",
              "      <td>Hot</td>\n",
              "      <td>High</td>\n",
              "      <td>True</td>\n",
              "      <td>No</td>\n",
              "    </tr>\n",
              "    <tr>\n",
              "      <th>2</th>\n",
              "      <td>Overcast</td>\n",
              "      <td>Hot</td>\n",
              "      <td>High</td>\n",
              "      <td>False</td>\n",
              "      <td>Yes</td>\n",
              "    </tr>\n",
              "    <tr>\n",
              "      <th>3</th>\n",
              "      <td>Sunny</td>\n",
              "      <td>Mild</td>\n",
              "      <td>High</td>\n",
              "      <td>False</td>\n",
              "      <td>Yes</td>\n",
              "    </tr>\n",
              "    <tr>\n",
              "      <th>4</th>\n",
              "      <td>Sunny</td>\n",
              "      <td>Cool</td>\n",
              "      <td>Normal</td>\n",
              "      <td>False</td>\n",
              "      <td>Yes</td>\n",
              "    </tr>\n",
              "  </tbody>\n",
              "</table>\n",
              "</div>\n",
              "      <button class=\"colab-df-convert\" onclick=\"convertToInteractive('df-39f44591-676c-4e9b-ab42-b900849897ad')\"\n",
              "              title=\"Convert this dataframe to an interactive table.\"\n",
              "              style=\"display:none;\">\n",
              "        \n",
              "  <svg xmlns=\"http://www.w3.org/2000/svg\" height=\"24px\"viewBox=\"0 0 24 24\"\n",
              "       width=\"24px\">\n",
              "    <path d=\"M0 0h24v24H0V0z\" fill=\"none\"/>\n",
              "    <path d=\"M18.56 5.44l.94 2.06.94-2.06 2.06-.94-2.06-.94-.94-2.06-.94 2.06-2.06.94zm-11 1L8.5 8.5l.94-2.06 2.06-.94-2.06-.94L8.5 2.5l-.94 2.06-2.06.94zm10 10l.94 2.06.94-2.06 2.06-.94-2.06-.94-.94-2.06-.94 2.06-2.06.94z\"/><path d=\"M17.41 7.96l-1.37-1.37c-.4-.4-.92-.59-1.43-.59-.52 0-1.04.2-1.43.59L10.3 9.45l-7.72 7.72c-.78.78-.78 2.05 0 2.83L4 21.41c.39.39.9.59 1.41.59.51 0 1.02-.2 1.41-.59l7.78-7.78 2.81-2.81c.8-.78.8-2.07 0-2.86zM5.41 20L4 18.59l7.72-7.72 1.47 1.35L5.41 20z\"/>\n",
              "  </svg>\n",
              "      </button>\n",
              "      \n",
              "  <style>\n",
              "    .colab-df-container {\n",
              "      display:flex;\n",
              "      flex-wrap:wrap;\n",
              "      gap: 12px;\n",
              "    }\n",
              "\n",
              "    .colab-df-convert {\n",
              "      background-color: #E8F0FE;\n",
              "      border: none;\n",
              "      border-radius: 50%;\n",
              "      cursor: pointer;\n",
              "      display: none;\n",
              "      fill: #1967D2;\n",
              "      height: 32px;\n",
              "      padding: 0 0 0 0;\n",
              "      width: 32px;\n",
              "    }\n",
              "\n",
              "    .colab-df-convert:hover {\n",
              "      background-color: #E2EBFA;\n",
              "      box-shadow: 0px 1px 2px rgba(60, 64, 67, 0.3), 0px 1px 3px 1px rgba(60, 64, 67, 0.15);\n",
              "      fill: #174EA6;\n",
              "    }\n",
              "\n",
              "    [theme=dark] .colab-df-convert {\n",
              "      background-color: #3B4455;\n",
              "      fill: #D2E3FC;\n",
              "    }\n",
              "\n",
              "    [theme=dark] .colab-df-convert:hover {\n",
              "      background-color: #434B5C;\n",
              "      box-shadow: 0px 1px 3px 1px rgba(0, 0, 0, 0.15);\n",
              "      filter: drop-shadow(0px 1px 2px rgba(0, 0, 0, 0.3));\n",
              "      fill: #FFFFFF;\n",
              "    }\n",
              "  </style>\n",
              "\n",
              "      <script>\n",
              "        const buttonEl =\n",
              "          document.querySelector('#df-39f44591-676c-4e9b-ab42-b900849897ad button.colab-df-convert');\n",
              "        buttonEl.style.display =\n",
              "          google.colab.kernel.accessAllowed ? 'block' : 'none';\n",
              "\n",
              "        async function convertToInteractive(key) {\n",
              "          const element = document.querySelector('#df-39f44591-676c-4e9b-ab42-b900849897ad');\n",
              "          const dataTable =\n",
              "            await google.colab.kernel.invokeFunction('convertToInteractive',\n",
              "                                                     [key], {});\n",
              "          if (!dataTable) return;\n",
              "\n",
              "          const docLinkHtml = 'Like what you see? Visit the ' +\n",
              "            '<a target=\"_blank\" href=https://colab.research.google.com/notebooks/data_table.ipynb>data table notebook</a>'\n",
              "            + ' to learn more about interactive tables.';\n",
              "          element.innerHTML = '';\n",
              "          dataTable['output_type'] = 'display_data';\n",
              "          await google.colab.output.renderOutput(dataTable, element);\n",
              "          const docLink = document.createElement('div');\n",
              "          docLink.innerHTML = docLinkHtml;\n",
              "          element.appendChild(docLink);\n",
              "        }\n",
              "      </script>\n",
              "    </div>\n",
              "  </div>\n",
              "  "
            ]
          },
          "metadata": {},
          "execution_count": 8
        }
      ]
    },
    {
      "cell_type": "code",
      "source": [
        "print(data)"
      ],
      "metadata": {
        "colab": {
          "base_uri": "https://localhost:8080/"
        },
        "id": "Pf6T9mbizTDg",
        "outputId": "a69fc66f-d0af-46bb-ad3c-f9e6720f06ef"
      },
      "execution_count": null,
      "outputs": [
        {
          "output_type": "stream",
          "name": "stdout",
          "text": [
            "     Outlook  Temp Humidity  Windy Play Golf\n",
            "0      Rainy   Hot     High  False        No\n",
            "1      Rainy   Hot     High   True        No\n",
            "2   Overcast   Hot     High  False       Yes\n",
            "3      Sunny  Mild     High  False       Yes\n",
            "4      Sunny  Cool   Normal  False       Yes\n",
            "5      Sunny  Cool   Normal   True        No\n",
            "6   Overcast  Cool   Normal   True       Yes\n",
            "7      Rainy  Mild     High  False        No\n",
            "8      Rainy  Cool   Normal  False       Yes\n",
            "9      Sunny  Mild   Normal  False       Yes\n",
            "10     Rainy  Mild   Normal   True       Yes\n",
            "11  Overcast  Mild     High   True       Yes\n",
            "12  Overcast   Hot   Normal  False       Yes\n",
            "13     Sunny  Mild     High   True        No\n"
          ]
        }
      ]
    },
    {
      "cell_type": "markdown",
      "source": [
        "## Entropy\n",
        "\n",
        "$$ \n",
        "E(s) = \\sum_{i=1}^{c} (-p_i  x log_2 (p_i))\n",
        "$$\n",
        "\n",
        "##Entropy +1 data\n",
        "\n",
        "$$\n",
        "E(s,x) = \\sum_{c \\in X} (P(c)E(c))\n",
        "$$"
      ],
      "metadata": {
        "id": "LNE2WKl_12F6"
      }
    },
    {
      "cell_type": "code",
      "source": [
        "import math"
      ],
      "metadata": {
        "id": "7EVqyCyE6MAY"
      },
      "execution_count": null,
      "outputs": []
    },
    {
      "cell_type": "code",
      "source": [
        "def E(data,s):\n",
        "  classes = data[s].unique()\n",
        "  m = len(data)\n",
        "  #print(m)\n",
        "  n = len(classes)\n",
        "  p = [0]*n\n",
        "  for i in range(n):\n",
        "    p[i] = len(data[data[s]== classes[i]]) / m \n",
        "  e = 0\n",
        "  for pi in p:\n",
        "    e += -pi* math.log2(pi)\n",
        "  return e\n",
        "E(data, \"Play Golf\")"
      ],
      "metadata": {
        "colab": {
          "base_uri": "https://localhost:8080/"
        },
        "id": "yjpMyTAh2niL",
        "outputId": "675fc6b5-134d-48a1-9cfe-2b46f3295c9a"
      },
      "execution_count": null,
      "outputs": [
        {
          "output_type": "execute_result",
          "data": {
            "text/plain": [
              "0.9402859586706309"
            ]
          },
          "metadata": {},
          "execution_count": 27
        }
      ]
    },
    {
      "cell_type": "code",
      "source": [
        "datacoin = pd.DataFrame([{\"outcome\": \"cara\"},\n",
        "                         {\"outcome\": \"sello\"},\n",
        "                         {\"outcome\": \"cara\"},\n",
        "                         {\"outcome\": \"sello\"},\n",
        "                         {\"outcome\": \"cara\"},\n",
        "                         {\"outcome\": \"sello\"},\n",
        "                         {\"outcome\": \"cara\"},\n",
        "                         {\"outcome\": \"sello\"},\n",
        "                         ])\n",
        "\n",
        "\n",
        "datacoin"
      ],
      "metadata": {
        "colab": {
          "base_uri": "https://localhost:8080/",
          "height": 300
        },
        "id": "dwM-k5LA6NuY",
        "outputId": "948ec7d2-11fa-40fb-a01b-d3e5e598dd28"
      },
      "execution_count": null,
      "outputs": [
        {
          "output_type": "execute_result",
          "data": {
            "text/plain": [
              "  outcome\n",
              "0    cara\n",
              "1   sello\n",
              "2    cara\n",
              "3   sello\n",
              "4    cara\n",
              "5   sello\n",
              "6    cara\n",
              "7   sello"
            ],
            "text/html": [
              "\n",
              "  <div id=\"df-d3d8e55e-1b87-4347-be69-ad469cb21cf7\">\n",
              "    <div class=\"colab-df-container\">\n",
              "      <div>\n",
              "<style scoped>\n",
              "    .dataframe tbody tr th:only-of-type {\n",
              "        vertical-align: middle;\n",
              "    }\n",
              "\n",
              "    .dataframe tbody tr th {\n",
              "        vertical-align: top;\n",
              "    }\n",
              "\n",
              "    .dataframe thead th {\n",
              "        text-align: right;\n",
              "    }\n",
              "</style>\n",
              "<table border=\"1\" class=\"dataframe\">\n",
              "  <thead>\n",
              "    <tr style=\"text-align: right;\">\n",
              "      <th></th>\n",
              "      <th>outcome</th>\n",
              "    </tr>\n",
              "  </thead>\n",
              "  <tbody>\n",
              "    <tr>\n",
              "      <th>0</th>\n",
              "      <td>cara</td>\n",
              "    </tr>\n",
              "    <tr>\n",
              "      <th>1</th>\n",
              "      <td>sello</td>\n",
              "    </tr>\n",
              "    <tr>\n",
              "      <th>2</th>\n",
              "      <td>cara</td>\n",
              "    </tr>\n",
              "    <tr>\n",
              "      <th>3</th>\n",
              "      <td>sello</td>\n",
              "    </tr>\n",
              "    <tr>\n",
              "      <th>4</th>\n",
              "      <td>cara</td>\n",
              "    </tr>\n",
              "    <tr>\n",
              "      <th>5</th>\n",
              "      <td>sello</td>\n",
              "    </tr>\n",
              "    <tr>\n",
              "      <th>6</th>\n",
              "      <td>cara</td>\n",
              "    </tr>\n",
              "    <tr>\n",
              "      <th>7</th>\n",
              "      <td>sello</td>\n",
              "    </tr>\n",
              "  </tbody>\n",
              "</table>\n",
              "</div>\n",
              "      <button class=\"colab-df-convert\" onclick=\"convertToInteractive('df-d3d8e55e-1b87-4347-be69-ad469cb21cf7')\"\n",
              "              title=\"Convert this dataframe to an interactive table.\"\n",
              "              style=\"display:none;\">\n",
              "        \n",
              "  <svg xmlns=\"http://www.w3.org/2000/svg\" height=\"24px\"viewBox=\"0 0 24 24\"\n",
              "       width=\"24px\">\n",
              "    <path d=\"M0 0h24v24H0V0z\" fill=\"none\"/>\n",
              "    <path d=\"M18.56 5.44l.94 2.06.94-2.06 2.06-.94-2.06-.94-.94-2.06-.94 2.06-2.06.94zm-11 1L8.5 8.5l.94-2.06 2.06-.94-2.06-.94L8.5 2.5l-.94 2.06-2.06.94zm10 10l.94 2.06.94-2.06 2.06-.94-2.06-.94-.94-2.06-.94 2.06-2.06.94z\"/><path d=\"M17.41 7.96l-1.37-1.37c-.4-.4-.92-.59-1.43-.59-.52 0-1.04.2-1.43.59L10.3 9.45l-7.72 7.72c-.78.78-.78 2.05 0 2.83L4 21.41c.39.39.9.59 1.41.59.51 0 1.02-.2 1.41-.59l7.78-7.78 2.81-2.81c.8-.78.8-2.07 0-2.86zM5.41 20L4 18.59l7.72-7.72 1.47 1.35L5.41 20z\"/>\n",
              "  </svg>\n",
              "      </button>\n",
              "      \n",
              "  <style>\n",
              "    .colab-df-container {\n",
              "      display:flex;\n",
              "      flex-wrap:wrap;\n",
              "      gap: 12px;\n",
              "    }\n",
              "\n",
              "    .colab-df-convert {\n",
              "      background-color: #E8F0FE;\n",
              "      border: none;\n",
              "      border-radius: 50%;\n",
              "      cursor: pointer;\n",
              "      display: none;\n",
              "      fill: #1967D2;\n",
              "      height: 32px;\n",
              "      padding: 0 0 0 0;\n",
              "      width: 32px;\n",
              "    }\n",
              "\n",
              "    .colab-df-convert:hover {\n",
              "      background-color: #E2EBFA;\n",
              "      box-shadow: 0px 1px 2px rgba(60, 64, 67, 0.3), 0px 1px 3px 1px rgba(60, 64, 67, 0.15);\n",
              "      fill: #174EA6;\n",
              "    }\n",
              "\n",
              "    [theme=dark] .colab-df-convert {\n",
              "      background-color: #3B4455;\n",
              "      fill: #D2E3FC;\n",
              "    }\n",
              "\n",
              "    [theme=dark] .colab-df-convert:hover {\n",
              "      background-color: #434B5C;\n",
              "      box-shadow: 0px 1px 3px 1px rgba(0, 0, 0, 0.15);\n",
              "      filter: drop-shadow(0px 1px 2px rgba(0, 0, 0, 0.3));\n",
              "      fill: #FFFFFF;\n",
              "    }\n",
              "  </style>\n",
              "\n",
              "      <script>\n",
              "        const buttonEl =\n",
              "          document.querySelector('#df-d3d8e55e-1b87-4347-be69-ad469cb21cf7 button.colab-df-convert');\n",
              "        buttonEl.style.display =\n",
              "          google.colab.kernel.accessAllowed ? 'block' : 'none';\n",
              "\n",
              "        async function convertToInteractive(key) {\n",
              "          const element = document.querySelector('#df-d3d8e55e-1b87-4347-be69-ad469cb21cf7');\n",
              "          const dataTable =\n",
              "            await google.colab.kernel.invokeFunction('convertToInteractive',\n",
              "                                                     [key], {});\n",
              "          if (!dataTable) return;\n",
              "\n",
              "          const docLinkHtml = 'Like what you see? Visit the ' +\n",
              "            '<a target=\"_blank\" href=https://colab.research.google.com/notebooks/data_table.ipynb>data table notebook</a>'\n",
              "            + ' to learn more about interactive tables.';\n",
              "          element.innerHTML = '';\n",
              "          dataTable['output_type'] = 'display_data';\n",
              "          await google.colab.output.renderOutput(dataTable, element);\n",
              "          const docLink = document.createElement('div');\n",
              "          docLink.innerHTML = docLinkHtml;\n",
              "          element.appendChild(docLink);\n",
              "        }\n",
              "      </script>\n",
              "    </div>\n",
              "  </div>\n",
              "  "
            ]
          },
          "metadata": {},
          "execution_count": 23
        }
      ]
    },
    {
      "cell_type": "code",
      "source": [
        "E(datacoin,\"outcome\")"
      ],
      "metadata": {
        "colab": {
          "base_uri": "https://localhost:8080/"
        },
        "id": "agClPr936h6J",
        "outputId": "f4a44e0e-a7a8-46e4-b985-0c71a32cb516"
      },
      "execution_count": null,
      "outputs": [
        {
          "output_type": "stream",
          "name": "stdout",
          "text": [
            "8\n"
          ]
        },
        {
          "output_type": "execute_result",
          "data": {
            "text/plain": [
              "1.0"
            ]
          },
          "metadata": {},
          "execution_count": 26
        }
      ]
    },
    {
      "cell_type": "code",
      "source": [
        "def Ex(data,s,x):\n",
        "  classesX = data[x].unique()\n",
        "  print(classesX)\n",
        "  m = len(data)\n",
        "  n = len(classesX)\n",
        "  print(m,n)\n",
        "  pX = [0]*n\n",
        "  Es = [0]*n\n",
        "  for i in range(len(classesX)):\n",
        "    pX[i] = len(data[data[x]== classesX[i]])  / m\n",
        "    print(data[data[x]== classesX[i]])\n",
        "    Es[i] = E(data[data[x] == classesX[i]], s)\n",
        "    print(f\"{classesX[i]} -> {pX[i]} -> {Es[i]}\")\n",
        "\n",
        "  e = 0\n",
        "  for i in range(n):\n",
        "    e += pX[i]*Es[i]\n",
        "  \n",
        "  return e"
      ],
      "metadata": {
        "id": "Yg2n4doT8LuL"
      },
      "execution_count": null,
      "outputs": []
    },
    {
      "cell_type": "code",
      "source": [
        "Ex(data, \"Play Golf\", \"Outlook\")"
      ],
      "metadata": {
        "colab": {
          "base_uri": "https://localhost:8080/"
        },
        "id": "pBiGVoMvA4vS",
        "outputId": "6615ec55-8b28-466f-e18c-6bb38084974d"
      },
      "execution_count": null,
      "outputs": [
        {
          "output_type": "stream",
          "name": "stdout",
          "text": [
            "['Rainy' 'Overcast' 'Sunny']\n",
            "14 3\n",
            "   Outlook  Temp Humidity  Windy Play Golf\n",
            "0    Rainy   Hot     High  False        No\n",
            "1    Rainy   Hot     High   True        No\n",
            "7    Rainy  Mild     High  False        No\n",
            "8    Rainy  Cool   Normal  False       Yes\n",
            "10   Rainy  Mild   Normal   True       Yes\n",
            "Rainy -> 0.35714285714285715 -> 0.9709505944546686\n",
            "     Outlook  Temp Humidity  Windy Play Golf\n",
            "2   Overcast   Hot     High  False       Yes\n",
            "6   Overcast  Cool   Normal   True       Yes\n",
            "11  Overcast  Mild     High   True       Yes\n",
            "12  Overcast   Hot   Normal  False       Yes\n",
            "Overcast -> 0.2857142857142857 -> 0.0\n",
            "   Outlook  Temp Humidity  Windy Play Golf\n",
            "3    Sunny  Mild     High  False       Yes\n",
            "4    Sunny  Cool   Normal  False       Yes\n",
            "5    Sunny  Cool   Normal   True        No\n",
            "9    Sunny  Mild   Normal  False       Yes\n",
            "13   Sunny  Mild     High   True        No\n",
            "Sunny -> 0.35714285714285715 -> 0.9709505944546686\n"
          ]
        },
        {
          "output_type": "execute_result",
          "data": {
            "text/plain": [
              "0.6935361388961918"
            ]
          },
          "metadata": {},
          "execution_count": 37
        }
      ]
    },
    {
      "cell_type": "markdown",
      "source": [
        "## Information Gain\n",
        "\n",
        "$$\n",
        "IG (s,X) = E(s) - E(s,X)\n",
        "$$"
      ],
      "metadata": {
        "id": "5tLvyulcEzfI"
      }
    },
    {
      "cell_type": "markdown",
      "source": [
        "## Gini index\n",
        "\n",
        "$$\n",
        "Gini = 1- \\sum_{i = 1}^{c} p_i^2\n",
        "$$"
      ],
      "metadata": {
        "id": "aDWu5PGMFNgk"
      }
    },
    {
      "cell_type": "code",
      "source": [
        "for attr in data:\n",
        "  print(Ex(data, \"Play Golf\", attr))"
      ],
      "metadata": {
        "id": "pLgujsfIFLFb"
      },
      "execution_count": null,
      "outputs": []
    },
    {
      "cell_type": "code",
      "source": [],
      "metadata": {
        "id": "_pbjISqAIQvp"
      },
      "execution_count": null,
      "outputs": []
    },
    {
      "cell_type": "markdown",
      "source": [
        "## KNN , Nearest Neighbours"
      ],
      "metadata": {
        "id": "290jYGt_Iocq"
      }
    },
    {
      "cell_type": "code",
      "source": [
        "import numpy as np"
      ],
      "metadata": {
        "id": "b9N5XIMcIsaJ"
      },
      "execution_count": null,
      "outputs": []
    },
    {
      "cell_type": "code",
      "source": [
        "data = np.random.random((100,3))\n",
        "data[:50, 2] =0\n",
        "data[50:,2 ] = 1\n",
        "np.random.shuffle(data[:])"
      ],
      "metadata": {
        "id": "kCGlQENdJcNt"
      },
      "execution_count": null,
      "outputs": []
    },
    {
      "cell_type": "code",
      "source": [
        "data"
      ],
      "metadata": {
        "id": "9LqeZmHVKp1s"
      },
      "execution_count": null,
      "outputs": []
    },
    {
      "cell_type": "code",
      "source": [
        "import matplotlib.pyplot as plt"
      ],
      "metadata": {
        "id": "Z2RYeJOZK8vL"
      },
      "execution_count": null,
      "outputs": []
    },
    {
      "cell_type": "code",
      "source": [
        "plt.scatter(data[:,0],data[:,1])"
      ],
      "metadata": {
        "colab": {
          "base_uri": "https://localhost:8080/",
          "height": 282
        },
        "id": "leFAGZeRLP4q",
        "outputId": "8beeefcd-0426-466a-eb51-50f100774bd7"
      },
      "execution_count": null,
      "outputs": [
        {
          "output_type": "execute_result",
          "data": {
            "text/plain": [
              "<matplotlib.collections.PathCollection at 0x7f1f03336690>"
            ]
          },
          "metadata": {},
          "execution_count": 73
        },
        {
          "output_type": "display_data",
          "data": {
            "text/plain": [
              "<Figure size 432x288 with 1 Axes>"
            ],
            "image/png": "[encoded data removed]"
          },
          "metadata": {
            "needs_background": "light"
          }
        }
      ]
    },
    {
      "cell_type": "code",
      "source": [
        "caret = ['o','x']\n",
        "# plt.subplots(figsize= (10,10))\n",
        "for i in range(2):\n",
        "  temp = data[data[:,2] == i]\n",
        "  plt.scatter(temp[: ,0], temp[:, 1], marker=caret[i])"
      ],
      "metadata": {
        "colab": {
          "base_uri": "https://localhost:8080/",
          "height": 265
        },
        "id": "fVkgnSK-LpKC",
        "outputId": "98024e32-e660-4ecf-9538-959baf86ff16"
      },
      "execution_count": null,
      "outputs": [
        {
          "output_type": "display_data",
          "data": {
            "text/plain": [
              "<Figure size 432x288 with 1 Axes>"
            ],
            "image/png": "[encoded data removed]"
          },
          "metadata": {
            "needs_background": "light"
          }
        }
      ]
    },
    {
      "cell_type": "markdown",
      "source": [
        "### Euclidean\n",
        "$$\n",
        "P = (x_0,x_1,x_2 .. x_{n-1})\n",
        "$$\n",
        "\n",
        "\n",
        "$$\n",
        "d(p^{[0]},p^{[1]}) = \\sqrt{\\sum_{i=0}^{n-1}(x_0^{[0]}-x_i^{[1]})^2}\n",
        "$$"
      ],
      "metadata": {
        "id": "XhD9ZWvVMcsN"
      }
    },
    {
      "cell_type": "code",
      "source": [
        "def euclidean(p0, p1):\n",
        "   d = 0\n",
        "   n = len(p0)\n",
        "   for i in range(n):\n",
        "     d += (p0[i] - p1[i])**2\n",
        "   return math.sqrt(d)"
      ],
      "metadata": {
        "id": "kLFEwIMVNMFb"
      },
      "execution_count": null,
      "outputs": []
    },
    {
      "cell_type": "code",
      "source": [
        "euclidean([1,1], [2,2])"
      ],
      "metadata": {
        "colab": {
          "base_uri": "https://localhost:8080/"
        },
        "id": "5aJoU58lOtxx",
        "outputId": "59410894-1dd4-403a-d8f0-0c1330ed5a37"
      },
      "execution_count": null,
      "outputs": [
        {
          "output_type": "execute_result",
          "data": {
            "text/plain": [
              "1.4142135623730951"
            ]
          },
          "metadata": {},
          "execution_count": 82
        }
      ]
    },
    {
      "cell_type": "markdown",
      "source": [
        "### Manhattan\n",
        "$$\n",
        "P = (x_0,x_1,x_2 .. x_{n-1})\n",
        "$$\n",
        "\n",
        "\n",
        "$$\n",
        "d(p^{[0]},p^{[1]}) = {\\sum_{i=0}^{n-1}\\| x_0^{[0]}-x_i^{[1]}|}\n",
        "$$"
      ],
      "metadata": {
        "id": "TQOiuYmYO5lx"
      }
    },
    {
      "cell_type": "code",
      "source": [
        "def manhattan(p0, p1):\n",
        "   d = 0\n",
        "   n = len(p0)\n",
        "   for i in range(n):\n",
        "     d += abs(p0[i] - p1[i])\n",
        "   return d"
      ],
      "metadata": {
        "id": "eDDHelWLO1l4"
      },
      "execution_count": null,
      "outputs": []
    },
    {
      "cell_type": "code",
      "source": [
        "manhattan([1,1], [2,2])"
      ],
      "metadata": {
        "colab": {
          "base_uri": "https://localhost:8080/"
        },
        "id": "FivmupURQWqg",
        "outputId": "1da03795-633a-4adc-aa5e-a813667149d9"
      },
      "execution_count": null,
      "outputs": [
        {
          "output_type": "execute_result",
          "data": {
            "text/plain": [
              "2"
            ]
          },
          "metadata": {},
          "execution_count": 81
        }
      ]
    },
    {
      "cell_type": "markdown",
      "source": [
        "### cosine similarity"
      ],
      "metadata": {
        "id": "EmT0sCqOSUgJ"
      }
    },
    {
      "cell_type": "code",
      "source": [
        "def cosinesim(p0, p1):\n",
        "   d = 0\n",
        "   n = len(p0)\n",
        "   for i in range(n):\n",
        "     d += p0[i]*p1[i]\n",
        "   #print(d)\n",
        "   p00 = po(p0)\n",
        "   p11 = po(p1)\n",
        "   #print(p00,p11)\n",
        "\n",
        "   return d/(p00*p11)\n",
        "\n",
        "def po(p):\n",
        "  d = 0\n",
        "  n = len(p)\n",
        "  for i in range(n):\n",
        "    d += p[i]**2\n",
        "  return math.sqrt(d)"
      ],
      "metadata": {
        "id": "wKwYASgxR3No"
      },
      "execution_count": null,
      "outputs": []
    },
    {
      "cell_type": "code",
      "source": [
        "cosinesim([1,4], [2,4])"
      ],
      "metadata": {
        "colab": {
          "base_uri": "https://localhost:8080/"
        },
        "id": "AHPkEJ3UUpAH",
        "outputId": "8984db73-cf4d-4016-8e75-d854e6491cec"
      },
      "execution_count": null,
      "outputs": [
        {
          "output_type": "execute_result",
          "data": {
            "text/plain": [
              "0.9761870601839528"
            ]
          },
          "metadata": {},
          "execution_count": 94
        }
      ]
    }
  ]
}