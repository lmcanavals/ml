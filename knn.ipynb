{
  "nbformat": 4,
  "nbformat_minor": 0,
  "metadata": {
    "colab": {
      "provenance": [],
      "authorship_tag": "ABX9TyMrnn2JT+BZsGxnyG6fUlnA",
      "include_colab_link": true
    },
    "kernelspec": {
      "name": "python3",
      "display_name": "Python 3"
    },
    "language_info": {
      "name": "python"
    }
  },
  "cells": [
    {
      "cell_type": "markdown",
      "metadata": {
        "id": "view-in-github",
        "colab_type": "text"
      },
      "source": [
        "<a href=\"https://colab.research.google.com/github/lmcanavals/ml/blob/main/knn.ipynb\" target=\"_parent\"><img src=\"https://colab.research.google.com/assets/colab-badge.svg\" alt=\"Open In Colab\"/></a>"
      ]
    },
    {
      "cell_type": "markdown",
      "source": [
        "# K Nearest Neighbours"
      ],
      "metadata": {
        "id": "N8vGkqUmHzHS"
      }
    },
    {
      "cell_type": "code",
      "execution_count": 7,
      "metadata": {
        "id": "NzTN_Ml-Hw6e"
      },
      "outputs": [],
      "source": [
        "import numpy as np\n",
        "import matplotlib.pyplot as plt\n",
        "import math"
      ]
    },
    {
      "cell_type": "code",
      "source": [
        "data = np.random.random((100,3))\n",
        "data[:50, 2] =0\n",
        "data[50:,2 ] = 1\n",
        "np.random.shuffle(data[:])"
      ],
      "metadata": {
        "id": "_LDaTpx4IHJz"
      },
      "execution_count": 2,
      "outputs": []
    },
    {
      "cell_type": "code",
      "source": [
        "plt.scatter(data[:,0],data[:,1])"
      ],
      "metadata": {
        "colab": {
          "base_uri": "https://localhost:8080/",
          "height": 282
        },
        "id": "IXgfrTAkII7i",
        "outputId": "ad59b252-41dd-4cf7-8a8f-3858d582b36b"
      },
      "execution_count": 4,
      "outputs": [
        {
          "output_type": "execute_result",
          "data": {
            "text/plain": [
              "<matplotlib.collections.PathCollection at 0x7f7cf4c82890>"
            ]
          },
          "metadata": {},
          "execution_count": 4
        },
        {
          "output_type": "display_data",
          "data": {
            "text/plain": [
              "<Figure size 432x288 with 1 Axes>"
            ],
            "image/png": "[encoded data removed]"
          },
          "metadata": {
            "needs_background": "light"
          }
        }
      ]
    },
    {
      "cell_type": "code",
      "source": [
        "caret = ['o','x']\n",
        "# plt.subplots(figsize= (10,10))\n",
        "for i in range(2):\n",
        "  temp = data[data[:,2] == i]\n",
        "  plt.scatter(temp[: ,0], temp[:, 1], marker=caret[i])"
      ],
      "metadata": {
        "colab": {
          "base_uri": "https://localhost:8080/",
          "height": 265
        },
        "id": "LYjRsl_XINlR",
        "outputId": "63cc9751-cd96-4a0c-ba87-736d074c877a"
      },
      "execution_count": 5,
      "outputs": [
        {
          "output_type": "display_data",
          "data": {
            "text/plain": [
              "<Figure size 432x288 with 1 Axes>"
            ],
            "image/png": "[encoded data removed]"
          },
          "metadata": {
            "needs_background": "light"
          }
        }
      ]
    },
    {
      "cell_type": "markdown",
      "source": [
        "### Euclidean\n",
        "$$\n",
        "P = (x_0,x_1,x_2 .. x_{n-1})\n",
        "$$\n",
        "\n",
        "\n",
        "$$\n",
        "d(p^{[0]},p^{[1]}) = \\sqrt{\\sum_{i=0}^{n-1}(x_0^{[0]}-x_i^{[1]})^2}\n",
        "$$"
      ],
      "metadata": {
        "id": "6SVjXQaFI0Ji"
      }
    },
    {
      "cell_type": "code",
      "source": [
        "def euclidean(p0, p1):\n",
        "   d = 0\n",
        "   n = len(p0)\n",
        "   for i in range(n):\n",
        "     d += (p0[i] - p1[i])**2\n",
        "   return math.sqrt(d)"
      ],
      "metadata": {
        "id": "Eny3AEGJIQwJ"
      },
      "execution_count": 6,
      "outputs": []
    },
    {
      "cell_type": "markdown",
      "source": [
        "### Manhattan\n",
        "$$\n",
        "P = (x_0,x_1,x_2 .. x_{n-1})\n",
        "$$\n",
        "\n",
        "\n",
        "$$\n",
        "d(p^{[0]},p^{[1]}) = {\\sum_{i=0}^{n-1}\\| x_0^{[0]}-x_i^{[1]}|}\n",
        "$$"
      ],
      "metadata": {
        "id": "gfLobZPCI9WU"
      }
    },
    {
      "cell_type": "code",
      "source": [
        "def manhattan(p0, p1):\n",
        "   d = 0\n",
        "   n = len(p0)\n",
        "   for i in range(n):\n",
        "     d += abs(p0[i] - p1[i])\n",
        "   return d"
      ],
      "metadata": {
        "id": "_GjuLoCsI3kz"
      },
      "execution_count": 8,
      "outputs": []
    },
    {
      "cell_type": "code",
      "source": [
        "euclidean([1,1], [2,2])"
      ],
      "metadata": {
        "colab": {
          "base_uri": "https://localhost:8080/"
        },
        "id": "en1EQbzHJBhJ",
        "outputId": "576a5b00-9e3e-4903-fadd-634be883cb68"
      },
      "execution_count": 9,
      "outputs": [
        {
          "output_type": "execute_result",
          "data": {
            "text/plain": [
              "1.4142135623730951"
            ]
          },
          "metadata": {},
          "execution_count": 9
        }
      ]
    },
    {
      "cell_type": "code",
      "source": [
        "manhattan([1,1], [2,2])"
      ],
      "metadata": {
        "colab": {
          "base_uri": "https://localhost:8080/"
        },
        "id": "iBCMk53dJE8q",
        "outputId": "e8cf8787-5a34-4cfa-d112-115b3f027a07"
      },
      "execution_count": 10,
      "outputs": [
        {
          "output_type": "execute_result",
          "data": {
            "text/plain": [
              "2"
            ]
          },
          "metadata": {},
          "execution_count": 10
        }
      ]
    },
    {
      "cell_type": "markdown",
      "source": [
        "# Cosine similarity"
      ],
      "metadata": {
        "id": "-sJ0um3AJRCg"
      }
    },
    {
      "cell_type": "code",
      "source": [
        "def cosinesim(p0, p1):\n",
        "   d = 0\n",
        "   n = len(p0)\n",
        "   for i in range(n):\n",
        "     d += p0[i]*p1[i]\n",
        "   #print(d)\n",
        "   p00 = po(p0)\n",
        "   p11 = po(p1)\n",
        "   #print(p00,p11)\n",
        "\n",
        "   return d/(p00*p11)\n",
        "\n",
        "def po(p):\n",
        "  d = 0\n",
        "  n = len(p)\n",
        "  for i in range(n):\n",
        "    d += p[i]**2\n",
        "  return math.sqrt(d)"
      ],
      "metadata": {
        "id": "A46ryHhnJIDx"
      },
      "execution_count": 11,
      "outputs": []
    },
    {
      "cell_type": "code",
      "source": [
        "cosinesim([1,1], [2,2])"
      ],
      "metadata": {
        "colab": {
          "base_uri": "https://localhost:8080/"
        },
        "id": "TdoTQonxJTZB",
        "outputId": "5d2e2c31-3f3b-4040-bc86-4c7975c6b622"
      },
      "execution_count": 12,
      "outputs": [
        {
          "output_type": "execute_result",
          "data": {
            "text/plain": [
              "0.9999999999999998"
            ]
          },
          "metadata": {},
          "execution_count": 12
        }
      ]
    },
    {
      "cell_type": "code",
      "source": [
        "import heapq as hq\n",
        "from collections import Counter\n",
        "\n",
        "class knn:\n",
        "    def __init__(self):\n",
        "        pass\n",
        "\n",
        "    def fit(self, x, y, k=3, dist=euclidean):\n",
        "        self.x = x\n",
        "        self.y = y\n",
        "        self.dist = dist\n",
        "        self.k = k\n",
        "\n",
        "    def predictOne(self, xj):\n",
        "        nb = []\n",
        "        for i, xi in enumerate(self.x):\n",
        "            hq.heappush(nb, (self.dist(xi, xj), i))\n",
        "\n",
        "        y_hat = []\n",
        "        for _ in range(self.k):\n",
        "            _, i = hq.heappop(nb)\n",
        "            y_hat.append(self.y[i][0])\n",
        "\n",
        "        c = Counter(y_hat)\n",
        "        return c.most_common()[0][0]\n",
        "\n",
        "    def predict(self, x0):\n",
        "        y_hat = []\n",
        "        for xi in x0:\n",
        "            y_hat.append(self.predictOne(xi))\n",
        "        return y_hat"
      ],
      "metadata": {
        "id": "CZNrqGuFJWox"
      },
      "execution_count": 21,
      "outputs": []
    },
    {
      "cell_type": "code",
      "source": [
        "from sklearn.model_selection import train_test_split\n",
        "\n",
        "train_size = 0.6\n",
        "X = data[:, :2]\n",
        "Y = data[:, 2:]\n",
        "\n",
        "print(X.shape)\n",
        "print(Y.shape)"
      ],
      "metadata": {
        "colab": {
          "base_uri": "https://localhost:8080/"
        },
        "id": "cEjVavjgMDl4",
        "outputId": "55b9c499-9aee-4789-c0de-4a71e208fc73"
      },
      "execution_count": 22,
      "outputs": [
        {
          "output_type": "stream",
          "name": "stdout",
          "text": [
            "(100, 2)\n",
            "(100, 1)\n"
          ]
        }
      ]
    },
    {
      "cell_type": "code",
      "source": [
        "x_train, x_val, y_train, y_val = train_test_split(X, Y, train_size=train_size)\n",
        "print(x_train.shape, y_train.shape)\n",
        "print(x_val.shape, y_val.shape)"
      ],
      "metadata": {
        "colab": {
          "base_uri": "https://localhost:8080/"
        },
        "id": "XXUw35bKMyao",
        "outputId": "3cbe560c-6b9f-4b67-dd83-7189e5b6d605"
      },
      "execution_count": 23,
      "outputs": [
        {
          "output_type": "stream",
          "name": "stdout",
          "text": [
            "(60, 2) (60, 1)\n",
            "(40, 2) (40, 1)\n"
          ]
        }
      ]
    },
    {
      "cell_type": "code",
      "source": [
        "model = knn()\n",
        "\n",
        "model.fit(x_train, y_train, k=5, dist=manhattan)"
      ],
      "metadata": {
        "id": "2jTlxIutNR2Y"
      },
      "execution_count": 24,
      "outputs": []
    },
    {
      "cell_type": "code",
      "source": [
        "y_hat = model.predict(x_val)"
      ],
      "metadata": {
        "id": "4uXjKAfeNe3n"
      },
      "execution_count": 25,
      "outputs": []
    },
    {
      "cell_type": "code",
      "source": [
        "from sklearn.metrics import accuracy_score\n",
        "\n",
        "accuracy_score(y_hat, y_val.reshape(len(y_val)))"
      ],
      "metadata": {
        "colab": {
          "base_uri": "https://localhost:8080/"
        },
        "id": "Cduv36AVNlEf",
        "outputId": "c6a9d074-6c41-4b0d-e0df-70f078d3d24d"
      },
      "execution_count": 31,
      "outputs": [
        {
          "output_type": "execute_result",
          "data": {
            "text/plain": [
              "0.425"
            ]
          },
          "metadata": {},
          "execution_count": 31
        }
      ]
    },
    {
      "cell_type": "code",
      "source": [
        "from sklearn.neighbors import KNeighborsClassifier"
      ],
      "metadata": {
        "id": "SGzyVk07NmHH"
      },
      "execution_count": 32,
      "outputs": []
    },
    {
      "cell_type": "code",
      "source": [
        "skmodel = KNeighborsClassifier(n_neighbors=5)\n",
        "skmodel.fit(x_train, y_train)\n",
        "y_hat = skmodel.predict(x_val)\n",
        "\n",
        "accuracy_score(y_hat, y_val)"
      ],
      "metadata": {
        "colab": {
          "base_uri": "https://localhost:8080/"
        },
        "id": "lcMmwscGT52M",
        "outputId": "4eb7322e-a898-4ba5-aecb-6565466f294c"
      },
      "execution_count": 34,
      "outputs": [
        {
          "output_type": "stream",
          "name": "stderr",
          "text": [
            "/usr/local/lib/python3.7/dist-packages/sklearn/neighbors/_classification.py:198: DataConversionWarning: A column-vector y was passed when a 1d array was expected. Please change the shape of y to (n_samples,), for example using ravel().\n",
            "  return self._fit(X, y)\n"
          ]
        },
        {
          "output_type": "execute_result",
          "data": {
            "text/plain": [
              "0.4"
            ]
          },
          "metadata": {},
          "execution_count": 34
        }
      ]
    },
    {
      "cell_type": "code",
      "source": [],
      "metadata": {
        "id": "mYo6kONvUK1K"
      },
      "execution_count": null,
      "outputs": []
    }
  ]
}