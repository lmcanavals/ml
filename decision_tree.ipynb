{
  "nbformat": 4,
  "nbformat_minor": 0,
  "metadata": {
    "colab": {
      "provenance": [],
      "authorship_tag": "ABX9TyNRh2JwtXEw5OFtOUHKKzF0",
      "include_colab_link": true
    },
    "kernelspec": {
      "name": "python3",
      "display_name": "Python 3"
    },
    "language_info": {
      "name": "python"
    }
  },
  "cells": [
    {
      "cell_type": "markdown",
      "metadata": {
        "id": "view-in-github",
        "colab_type": "text"
      },
      "source": [
        "<a href=\"https://colab.research.google.com/github/lmcanavals/ml/blob/main/decision_tree.ipynb\" target=\"_parent\"><img src=\"https://colab.research.google.com/assets/colab-badge.svg\" alt=\"Open In Colab\"/></a>"
      ]
    },
    {
      "cell_type": "markdown",
      "source": [
        "# Decision Trees"
      ],
      "metadata": {
        "id": "j1S1wjbxy6QD"
      }
    },
    {
      "cell_type": "code",
      "source": [
        "import pandas as pd\n",
        "import math"
      ],
      "metadata": {
        "id": "i1gcGj6ZzCDU"
      },
      "execution_count": 10,
      "outputs": []
    },
    {
      "cell_type": "code",
      "execution_count": 3,
      "metadata": {
        "colab": {
          "base_uri": "https://localhost:8080/",
          "height": 488
        },
        "id": "7EHjiQgXyVBT",
        "outputId": "662fd5ad-30e4-443e-b481-37130040badc"
      },
      "outputs": [
        {
          "output_type": "execute_result",
          "data": {
            "text/plain": [
              "     Outlook  Temp Humidity  Windy Play Golf\n",
              "0      Rainy   Hot     High  False        No\n",
              "1      Rainy   Hot     High   True        No\n",
              "2   Overcast   Hot     High  False       Yes\n",
              "3      Sunny  Mild     High  False       Yes\n",
              "4      Sunny  Cool   Normal  False       Yes\n",
              "5      Sunny  Cool   Normal   True        No\n",
              "6   Overcast  Cool   Normal   True       Yes\n",
              "7      Rainy  Mild     High  False        No\n",
              "8      Rainy  Cool   Normal  False       Yes\n",
              "9      Sunny  Mild   Normal  False       Yes\n",
              "10     Rainy  Mild   Normal   True       Yes\n",
              "11  Overcast  Mild     High   True       Yes\n",
              "12  Overcast   Hot   Normal  False       Yes\n",
              "13     Sunny  Mild     High   True        No"
            ],
            "text/html": [
              "\n",
              "  <div id=\"df-64fea8fd-b0ff-49d9-bebc-cd41c91337e5\">\n",
              "    <div class=\"colab-df-container\">\n",
              "      <div>\n",
              "<style scoped>\n",
              "    .dataframe tbody tr th:only-of-type {\n",
              "        vertical-align: middle;\n",
              "    }\n",
              "\n",
              "    .dataframe tbody tr th {\n",
              "        vertical-align: top;\n",
              "    }\n",
              "\n",
              "    .dataframe thead th {\n",
              "        text-align: right;\n",
              "    }\n",
              "</style>\n",
              "<table border=\"1\" class=\"dataframe\">\n",
              "  <thead>\n",
              "    <tr style=\"text-align: right;\">\n",
              "      <th></th>\n",
              "      <th>Outlook</th>\n",
              "      <th>Temp</th>\n",
              "      <th>Humidity</th>\n",
              "      <th>Windy</th>\n",
              "      <th>Play Golf</th>\n",
              "    </tr>\n",
              "  </thead>\n",
              "  <tbody>\n",
              "    <tr>\n",
              "      <th>0</th>\n",
              "      <td>Rainy</td>\n",
              "      <td>Hot</td>\n",
              "      <td>High</td>\n",
              "      <td>False</td>\n",
              "      <td>No</td>\n",
              "    </tr>\n",
              "    <tr>\n",
              "      <th>1</th>\n",
              "      <td>Rainy</td>\n",
              "      <td>Hot</td>\n",
              "      <td>High</td>\n",
              "      <td>True</td>\n",
              "      <td>No</td>\n",
              "    </tr>\n",
              "    <tr>\n",
              "      <th>2</th>\n",
              "      <td>Overcast</td>\n",
              "      <td>Hot</td>\n",
              "      <td>High</td>\n",
              "      <td>False</td>\n",
              "      <td>Yes</td>\n",
              "    </tr>\n",
              "    <tr>\n",
              "      <th>3</th>\n",
              "      <td>Sunny</td>\n",
              "      <td>Mild</td>\n",
              "      <td>High</td>\n",
              "      <td>False</td>\n",
              "      <td>Yes</td>\n",
              "    </tr>\n",
              "    <tr>\n",
              "      <th>4</th>\n",
              "      <td>Sunny</td>\n",
              "      <td>Cool</td>\n",
              "      <td>Normal</td>\n",
              "      <td>False</td>\n",
              "      <td>Yes</td>\n",
              "    </tr>\n",
              "    <tr>\n",
              "      <th>5</th>\n",
              "      <td>Sunny</td>\n",
              "      <td>Cool</td>\n",
              "      <td>Normal</td>\n",
              "      <td>True</td>\n",
              "      <td>No</td>\n",
              "    </tr>\n",
              "    <tr>\n",
              "      <th>6</th>\n",
              "      <td>Overcast</td>\n",
              "      <td>Cool</td>\n",
              "      <td>Normal</td>\n",
              "      <td>True</td>\n",
              "      <td>Yes</td>\n",
              "    </tr>\n",
              "    <tr>\n",
              "      <th>7</th>\n",
              "      <td>Rainy</td>\n",
              "      <td>Mild</td>\n",
              "      <td>High</td>\n",
              "      <td>False</td>\n",
              "      <td>No</td>\n",
              "    </tr>\n",
              "    <tr>\n",
              "      <th>8</th>\n",
              "      <td>Rainy</td>\n",
              "      <td>Cool</td>\n",
              "      <td>Normal</td>\n",
              "      <td>False</td>\n",
              "      <td>Yes</td>\n",
              "    </tr>\n",
              "    <tr>\n",
              "      <th>9</th>\n",
              "      <td>Sunny</td>\n",
              "      <td>Mild</td>\n",
              "      <td>Normal</td>\n",
              "      <td>False</td>\n",
              "      <td>Yes</td>\n",
              "    </tr>\n",
              "    <tr>\n",
              "      <th>10</th>\n",
              "      <td>Rainy</td>\n",
              "      <td>Mild</td>\n",
              "      <td>Normal</td>\n",
              "      <td>True</td>\n",
              "      <td>Yes</td>\n",
              "    </tr>\n",
              "    <tr>\n",
              "      <th>11</th>\n",
              "      <td>Overcast</td>\n",
              "      <td>Mild</td>\n",
              "      <td>High</td>\n",
              "      <td>True</td>\n",
              "      <td>Yes</td>\n",
              "    </tr>\n",
              "    <tr>\n",
              "      <th>12</th>\n",
              "      <td>Overcast</td>\n",
              "      <td>Hot</td>\n",
              "      <td>Normal</td>\n",
              "      <td>False</td>\n",
              "      <td>Yes</td>\n",
              "    </tr>\n",
              "    <tr>\n",
              "      <th>13</th>\n",
              "      <td>Sunny</td>\n",
              "      <td>Mild</td>\n",
              "      <td>High</td>\n",
              "      <td>True</td>\n",
              "      <td>No</td>\n",
              "    </tr>\n",
              "  </tbody>\n",
              "</table>\n",
              "</div>\n",
              "      <button class=\"colab-df-convert\" onclick=\"convertToInteractive('df-64fea8fd-b0ff-49d9-bebc-cd41c91337e5')\"\n",
              "              title=\"Convert this dataframe to an interactive table.\"\n",
              "              style=\"display:none;\">\n",
              "        \n",
              "  <svg xmlns=\"http://www.w3.org/2000/svg\" height=\"24px\"viewBox=\"0 0 24 24\"\n",
              "       width=\"24px\">\n",
              "    <path d=\"M0 0h24v24H0V0z\" fill=\"none\"/>\n",
              "    <path d=\"M18.56 5.44l.94 2.06.94-2.06 2.06-.94-2.06-.94-.94-2.06-.94 2.06-2.06.94zm-11 1L8.5 8.5l.94-2.06 2.06-.94-2.06-.94L8.5 2.5l-.94 2.06-2.06.94zm10 10l.94 2.06.94-2.06 2.06-.94-2.06-.94-.94-2.06-.94 2.06-2.06.94z\"/><path d=\"M17.41 7.96l-1.37-1.37c-.4-.4-.92-.59-1.43-.59-.52 0-1.04.2-1.43.59L10.3 9.45l-7.72 7.72c-.78.78-.78 2.05 0 2.83L4 21.41c.39.39.9.59 1.41.59.51 0 1.02-.2 1.41-.59l7.78-7.78 2.81-2.81c.8-.78.8-2.07 0-2.86zM5.41 20L4 18.59l7.72-7.72 1.47 1.35L5.41 20z\"/>\n",
              "  </svg>\n",
              "      </button>\n",
              "      \n",
              "  <style>\n",
              "    .colab-df-container {\n",
              "      display:flex;\n",
              "      flex-wrap:wrap;\n",
              "      gap: 12px;\n",
              "    }\n",
              "\n",
              "    .colab-df-convert {\n",
              "      background-color: #E8F0FE;\n",
              "      border: none;\n",
              "      border-radius: 50%;\n",
              "      cursor: pointer;\n",
              "      display: none;\n",
              "      fill: #1967D2;\n",
              "      height: 32px;\n",
              "      padding: 0 0 0 0;\n",
              "      width: 32px;\n",
              "    }\n",
              "\n",
              "    .colab-df-convert:hover {\n",
              "      background-color: #E2EBFA;\n",
              "      box-shadow: 0px 1px 2px rgba(60, 64, 67, 0.3), 0px 1px 3px 1px rgba(60, 64, 67, 0.15);\n",
              "      fill: #174EA6;\n",
              "    }\n",
              "\n",
              "    [theme=dark] .colab-df-convert {\n",
              "      background-color: #3B4455;\n",
              "      fill: #D2E3FC;\n",
              "    }\n",
              "\n",
              "    [theme=dark] .colab-df-convert:hover {\n",
              "      background-color: #434B5C;\n",
              "      box-shadow: 0px 1px 3px 1px rgba(0, 0, 0, 0.15);\n",
              "      filter: drop-shadow(0px 1px 2px rgba(0, 0, 0, 0.3));\n",
              "      fill: #FFFFFF;\n",
              "    }\n",
              "  </style>\n",
              "\n",
              "      <script>\n",
              "        const buttonEl =\n",
              "          document.querySelector('#df-64fea8fd-b0ff-49d9-bebc-cd41c91337e5 button.colab-df-convert');\n",
              "        buttonEl.style.display =\n",
              "          google.colab.kernel.accessAllowed ? 'block' : 'none';\n",
              "\n",
              "        async function convertToInteractive(key) {\n",
              "          const element = document.querySelector('#df-64fea8fd-b0ff-49d9-bebc-cd41c91337e5');\n",
              "          const dataTable =\n",
              "            await google.colab.kernel.invokeFunction('convertToInteractive',\n",
              "                                                     [key], {});\n",
              "          if (!dataTable) return;\n",
              "\n",
              "          const docLinkHtml = 'Like what you see? Visit the ' +\n",
              "            '<a target=\"_blank\" href=https://colab.research.google.com/notebooks/data_table.ipynb>data table notebook</a>'\n",
              "            + ' to learn more about interactive tables.';\n",
              "          element.innerHTML = '';\n",
              "          dataTable['output_type'] = 'display_data';\n",
              "          await google.colab.output.renderOutput(dataTable, element);\n",
              "          const docLink = document.createElement('div');\n",
              "          docLink.innerHTML = docLinkHtml;\n",
              "          element.appendChild(docLink);\n",
              "        }\n",
              "      </script>\n",
              "    </div>\n",
              "  </div>\n",
              "  "
            ]
          },
          "metadata": {},
          "execution_count": 3
        }
      ],
      "source": [
        "url=\"https://raw.githubusercontent.com/lmcanavals/ml/main/data/golf-dataset.csv\"\n",
        "df = pd.read_csv(url)\n",
        "df"
      ]
    },
    {
      "cell_type": "markdown",
      "source": [
        "## Entropy\n",
        "\n",
        "$$\n",
        "E(s) = \\sum_{i=1}^{c} (-p_i × log_2(p_i))\n",
        "$$\n",
        "$$\n",
        "E(s, X) = \\sum_{c \\in X} (P(c)E(c))\n",
        "$$"
      ],
      "metadata": {
        "id": "dukgLzE_1xAZ"
      }
    },
    {
      "cell_type": "code",
      "source": [
        "def E(df, s):\n",
        "    classes = df[s].unique()\n",
        "    m = len(df)\n",
        "    n = len(classes)\n",
        "    p = [0]*n\n",
        "    for i in range(len(classes)):\n",
        "        p[i] = len(df[df[s] == classes[i]]) / m\n",
        "    e = 0\n",
        "    for pi in p:\n",
        "        e += -pi * math.log2(pi)\n",
        "\n",
        "    return e\n",
        "E(df, \"Play Golf\")"
      ],
      "metadata": {
        "colab": {
          "base_uri": "https://localhost:8080/"
        },
        "id": "DHBDHKKhzIQI",
        "outputId": "3d042910-3a6f-4b45-b90c-a81192c9355a"
      },
      "execution_count": 20,
      "outputs": [
        {
          "output_type": "execute_result",
          "data": {
            "text/plain": [
              "0.9402859586706309"
            ]
          },
          "metadata": {},
          "execution_count": 20
        }
      ]
    },
    {
      "cell_type": "code",
      "source": [
        "dftemp = pd.DataFrame([{\"outcome\": \"cara\"},\n",
        "                       {\"outcome\": \"cara\"},\n",
        "                       {\"outcome\": \"cara\"},\n",
        "                       {\"outcome\": \"cruz\"},\n",
        "                       {\"outcome\": \"cruz\"},\n",
        "                       {\"outcome\": \"cruz\"},])\n",
        "dftemp"
      ],
      "metadata": {
        "colab": {
          "base_uri": "https://localhost:8080/",
          "height": 238
        },
        "id": "45EAcGlR4t0x",
        "outputId": "56b389bf-6c4e-4e13-ce2a-683546d13c06"
      },
      "execution_count": 21,
      "outputs": [
        {
          "output_type": "execute_result",
          "data": {
            "text/plain": [
              "  outcome\n",
              "0    cara\n",
              "1    cara\n",
              "2    cara\n",
              "3    cruz\n",
              "4    cruz\n",
              "5    cruz"
            ],
            "text/html": [
              "\n",
              "  <div id=\"df-dfd584fa-bc51-42a6-9d13-a84a2b0a54d9\">\n",
              "    <div class=\"colab-df-container\">\n",
              "      <div>\n",
              "<style scoped>\n",
              "    .dataframe tbody tr th:only-of-type {\n",
              "        vertical-align: middle;\n",
              "    }\n",
              "\n",
              "    .dataframe tbody tr th {\n",
              "        vertical-align: top;\n",
              "    }\n",
              "\n",
              "    .dataframe thead th {\n",
              "        text-align: right;\n",
              "    }\n",
              "</style>\n",
              "<table border=\"1\" class=\"dataframe\">\n",
              "  <thead>\n",
              "    <tr style=\"text-align: right;\">\n",
              "      <th></th>\n",
              "      <th>outcome</th>\n",
              "    </tr>\n",
              "  </thead>\n",
              "  <tbody>\n",
              "    <tr>\n",
              "      <th>0</th>\n",
              "      <td>cara</td>\n",
              "    </tr>\n",
              "    <tr>\n",
              "      <th>1</th>\n",
              "      <td>cara</td>\n",
              "    </tr>\n",
              "    <tr>\n",
              "      <th>2</th>\n",
              "      <td>cara</td>\n",
              "    </tr>\n",
              "    <tr>\n",
              "      <th>3</th>\n",
              "      <td>cruz</td>\n",
              "    </tr>\n",
              "    <tr>\n",
              "      <th>4</th>\n",
              "      <td>cruz</td>\n",
              "    </tr>\n",
              "    <tr>\n",
              "      <th>5</th>\n",
              "      <td>cruz</td>\n",
              "    </tr>\n",
              "  </tbody>\n",
              "</table>\n",
              "</div>\n",
              "      <button class=\"colab-df-convert\" onclick=\"convertToInteractive('df-dfd584fa-bc51-42a6-9d13-a84a2b0a54d9')\"\n",
              "              title=\"Convert this dataframe to an interactive table.\"\n",
              "              style=\"display:none;\">\n",
              "        \n",
              "  <svg xmlns=\"http://www.w3.org/2000/svg\" height=\"24px\"viewBox=\"0 0 24 24\"\n",
              "       width=\"24px\">\n",
              "    <path d=\"M0 0h24v24H0V0z\" fill=\"none\"/>\n",
              "    <path d=\"M18.56 5.44l.94 2.06.94-2.06 2.06-.94-2.06-.94-.94-2.06-.94 2.06-2.06.94zm-11 1L8.5 8.5l.94-2.06 2.06-.94-2.06-.94L8.5 2.5l-.94 2.06-2.06.94zm10 10l.94 2.06.94-2.06 2.06-.94-2.06-.94-.94-2.06-.94 2.06-2.06.94z\"/><path d=\"M17.41 7.96l-1.37-1.37c-.4-.4-.92-.59-1.43-.59-.52 0-1.04.2-1.43.59L10.3 9.45l-7.72 7.72c-.78.78-.78 2.05 0 2.83L4 21.41c.39.39.9.59 1.41.59.51 0 1.02-.2 1.41-.59l7.78-7.78 2.81-2.81c.8-.78.8-2.07 0-2.86zM5.41 20L4 18.59l7.72-7.72 1.47 1.35L5.41 20z\"/>\n",
              "  </svg>\n",
              "      </button>\n",
              "      \n",
              "  <style>\n",
              "    .colab-df-container {\n",
              "      display:flex;\n",
              "      flex-wrap:wrap;\n",
              "      gap: 12px;\n",
              "    }\n",
              "\n",
              "    .colab-df-convert {\n",
              "      background-color: #E8F0FE;\n",
              "      border: none;\n",
              "      border-radius: 50%;\n",
              "      cursor: pointer;\n",
              "      display: none;\n",
              "      fill: #1967D2;\n",
              "      height: 32px;\n",
              "      padding: 0 0 0 0;\n",
              "      width: 32px;\n",
              "    }\n",
              "\n",
              "    .colab-df-convert:hover {\n",
              "      background-color: #E2EBFA;\n",
              "      box-shadow: 0px 1px 2px rgba(60, 64, 67, 0.3), 0px 1px 3px 1px rgba(60, 64, 67, 0.15);\n",
              "      fill: #174EA6;\n",
              "    }\n",
              "\n",
              "    [theme=dark] .colab-df-convert {\n",
              "      background-color: #3B4455;\n",
              "      fill: #D2E3FC;\n",
              "    }\n",
              "\n",
              "    [theme=dark] .colab-df-convert:hover {\n",
              "      background-color: #434B5C;\n",
              "      box-shadow: 0px 1px 3px 1px rgba(0, 0, 0, 0.15);\n",
              "      filter: drop-shadow(0px 1px 2px rgba(0, 0, 0, 0.3));\n",
              "      fill: #FFFFFF;\n",
              "    }\n",
              "  </style>\n",
              "\n",
              "      <script>\n",
              "        const buttonEl =\n",
              "          document.querySelector('#df-dfd584fa-bc51-42a6-9d13-a84a2b0a54d9 button.colab-df-convert');\n",
              "        buttonEl.style.display =\n",
              "          google.colab.kernel.accessAllowed ? 'block' : 'none';\n",
              "\n",
              "        async function convertToInteractive(key) {\n",
              "          const element = document.querySelector('#df-dfd584fa-bc51-42a6-9d13-a84a2b0a54d9');\n",
              "          const dataTable =\n",
              "            await google.colab.kernel.invokeFunction('convertToInteractive',\n",
              "                                                     [key], {});\n",
              "          if (!dataTable) return;\n",
              "\n",
              "          const docLinkHtml = 'Like what you see? Visit the ' +\n",
              "            '<a target=\"_blank\" href=https://colab.research.google.com/notebooks/data_table.ipynb>data table notebook</a>'\n",
              "            + ' to learn more about interactive tables.';\n",
              "          element.innerHTML = '';\n",
              "          dataTable['output_type'] = 'display_data';\n",
              "          await google.colab.output.renderOutput(dataTable, element);\n",
              "          const docLink = document.createElement('div');\n",
              "          docLink.innerHTML = docLinkHtml;\n",
              "          element.appendChild(docLink);\n",
              "        }\n",
              "      </script>\n",
              "    </div>\n",
              "  </div>\n",
              "  "
            ]
          },
          "metadata": {},
          "execution_count": 21
        }
      ]
    },
    {
      "cell_type": "code",
      "source": [
        "E(dftemp, \"outcome\")"
      ],
      "metadata": {
        "colab": {
          "base_uri": "https://localhost:8080/"
        },
        "id": "GKr0NvYH6VUa",
        "outputId": "0ea3e464-b460-400c-85f7-48e9c96eb8fe"
      },
      "execution_count": 22,
      "outputs": [
        {
          "output_type": "execute_result",
          "data": {
            "text/plain": [
              "1.0"
            ]
          },
          "metadata": {},
          "execution_count": 22
        }
      ]
    },
    {
      "cell_type": "code",
      "source": [
        "def Ex(df, s, X, debug=False):\n",
        "    classesX = df[X].unique()\n",
        "    if debug: print(classesX)\n",
        "    m = len(df)\n",
        "    n = len(classesX)\n",
        "    if debug: print(m, n)\n",
        "    pX = [0]*n\n",
        "    Es = [0]*n\n",
        "    for i in range(len(classesX)):\n",
        "        pX[i] = len(df[df[X] == classesX[i]]) / m\n",
        "        if debug: print(df[df[X] == classesX[i]])\n",
        "        Es[i] = E(df[df[X] == classesX[i]], s)\n",
        "        if debug: print(f\"{classesX[i]} -> {pX[i]} -> {Es[i]}\")\n",
        "    e = 0\n",
        "    for i in range(n):\n",
        "        e += pX[i]*Es[i]\n",
        "\n",
        "    return e"
      ],
      "metadata": {
        "id": "Ui53NjMC6g7P"
      },
      "execution_count": 25,
      "outputs": []
    },
    {
      "cell_type": "code",
      "source": [
        "Ex(df, \"Play Golf\", \"Windy\")"
      ],
      "metadata": {
        "colab": {
          "base_uri": "https://localhost:8080/"
        },
        "id": "KPEbGcJD95Cy",
        "outputId": "455b59e7-6ef1-4f50-92de-92e97ce63f77"
      },
      "execution_count": 26,
      "outputs": [
        {
          "output_type": "execute_result",
          "data": {
            "text/plain": [
              "0.8921589282623617"
            ]
          },
          "metadata": {},
          "execution_count": 26
        }
      ]
    },
    {
      "cell_type": "code",
      "source": [
        "Ex(df, \"Play Golf\", \"Temp\", debug=True)"
      ],
      "metadata": {
        "colab": {
          "base_uri": "https://localhost:8080/"
        },
        "id": "JW3WCSEj9_HI",
        "outputId": "82f041c1-5154-462c-b56f-dea2626bbc1d"
      },
      "execution_count": 27,
      "outputs": [
        {
          "output_type": "stream",
          "name": "stdout",
          "text": [
            "['Hot' 'Mild' 'Cool']\n",
            "14 3\n",
            "     Outlook Temp Humidity  Windy Play Golf\n",
            "0      Rainy  Hot     High  False        No\n",
            "1      Rainy  Hot     High   True        No\n",
            "2   Overcast  Hot     High  False       Yes\n",
            "12  Overcast  Hot   Normal  False       Yes\n",
            "Hot -> 0.2857142857142857 -> 1.0\n",
            "     Outlook  Temp Humidity  Windy Play Golf\n",
            "3      Sunny  Mild     High  False       Yes\n",
            "7      Rainy  Mild     High  False        No\n",
            "9      Sunny  Mild   Normal  False       Yes\n",
            "10     Rainy  Mild   Normal   True       Yes\n",
            "11  Overcast  Mild     High   True       Yes\n",
            "13     Sunny  Mild     High   True        No\n",
            "Mild -> 0.42857142857142855 -> 0.9182958340544896\n",
            "    Outlook  Temp Humidity  Windy Play Golf\n",
            "4     Sunny  Cool   Normal  False       Yes\n",
            "5     Sunny  Cool   Normal   True        No\n",
            "6  Overcast  Cool   Normal   True       Yes\n",
            "8     Rainy  Cool   Normal  False       Yes\n",
            "Cool -> 0.2857142857142857 -> 0.8112781244591328\n"
          ]
        },
        {
          "output_type": "execute_result",
          "data": {
            "text/plain": [
              "0.9110633930116763"
            ]
          },
          "metadata": {},
          "execution_count": 27
        }
      ]
    },
    {
      "cell_type": "markdown",
      "source": [
        "## Information Gain\n",
        "\n",
        "$$\n",
        "IG (s, X) = E(s) - E(s, X)\n",
        "$$"
      ],
      "metadata": {
        "id": "xA57hO0qExoR"
      }
    },
    {
      "cell_type": "markdown",
      "source": [
        "## Gini index\n",
        "\n",
        "$$\n",
        "Gini = 1 - \\sum_{i=1}^{c} p_i^2\n",
        "$$"
      ],
      "metadata": {
        "id": "GPBDyorVFMBC"
      }
    },
    {
      "cell_type": "code",
      "source": [
        "for attr in df:\n",
        "    print(f\"E({attr}) = {Ex(df, 'Play Golf', attr)}\")"
      ],
      "metadata": {
        "colab": {
          "base_uri": "https://localhost:8080/"
        },
        "id": "Th0cflh8-lLV",
        "outputId": "39cb9a21-5266-46cd-c42f-c5cca8dffad0"
      },
      "execution_count": 30,
      "outputs": [
        {
          "output_type": "stream",
          "name": "stdout",
          "text": [
            "E(Outlook) = 0.6935361388961918\n",
            "E(Temp) = 0.9110633930116763\n",
            "E(Humidity) = 0.7884504573082896\n",
            "E(Windy) = 0.8921589282623617\n",
            "E(Play Golf) = 0.0\n"
          ]
        }
      ]
    },
    {
      "cell_type": "code",
      "source": [
        "Ex(df, \"Play Golf\", \"Outlook\", debug=True)"
      ],
      "metadata": {
        "colab": {
          "base_uri": "https://localhost:8080/"
        },
        "id": "ZgJgusUlF-2_",
        "outputId": "25bcf619-72d4-42ae-ad2f-605db5605a90"
      },
      "execution_count": 32,
      "outputs": [
        {
          "output_type": "stream",
          "name": "stdout",
          "text": [
            "['Rainy' 'Overcast' 'Sunny']\n",
            "14 3\n",
            "   Outlook  Temp Humidity  Windy Play Golf\n",
            "0    Rainy   Hot     High  False        No\n",
            "1    Rainy   Hot     High   True        No\n",
            "7    Rainy  Mild     High  False        No\n",
            "8    Rainy  Cool   Normal  False       Yes\n",
            "10   Rainy  Mild   Normal   True       Yes\n",
            "Rainy -> 0.35714285714285715 -> 0.9709505944546686\n",
            "     Outlook  Temp Humidity  Windy Play Golf\n",
            "2   Overcast   Hot     High  False       Yes\n",
            "6   Overcast  Cool   Normal   True       Yes\n",
            "11  Overcast  Mild     High   True       Yes\n",
            "12  Overcast   Hot   Normal  False       Yes\n",
            "Overcast -> 0.2857142857142857 -> 0.0\n",
            "   Outlook  Temp Humidity  Windy Play Golf\n",
            "3    Sunny  Mild     High  False       Yes\n",
            "4    Sunny  Cool   Normal  False       Yes\n",
            "5    Sunny  Cool   Normal   True        No\n",
            "9    Sunny  Mild   Normal  False       Yes\n",
            "13   Sunny  Mild     High   True        No\n",
            "Sunny -> 0.35714285714285715 -> 0.9709505944546686\n"
          ]
        },
        {
          "output_type": "execute_result",
          "data": {
            "text/plain": [
              "0.6935361388961918"
            ]
          },
          "metadata": {},
          "execution_count": 32
        }
      ]
    },
    {
      "cell_type": "code",
      "source": [],
      "metadata": {
        "id": "OhLP6RH-Gs7D"
      },
      "execution_count": null,
      "outputs": []
    }
  ]
}