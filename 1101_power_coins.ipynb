{
  "nbformat": 4,
  "nbformat_minor": 0,
  "metadata": {
    "colab": {
      "provenance": [],
      "collapsed_sections": [],
      "authorship_tag": "ABX9TyNsmZm5xkskYPyZlg8n5pBi",
      "include_colab_link": true
    },
    "kernelspec": {
      "name": "python3",
      "display_name": "Python 3"
    },
    "language_info": {
      "name": "python"
    }
  },
  "cells": [
    {
      "cell_type": "markdown",
      "metadata": {
        "id": "view-in-github",
        "colab_type": "text"
      },
      "source": [
        "<a href=\"https://colab.research.google.com/github/lmcanavals/ml/blob/main/1101_power_coins.ipynb\" target=\"_parent\"><img src=\"https://colab.research.google.com/assets/colab-badge.svg\" alt=\"Open In Colab\"/></a>"
      ]
    },
    {
      "cell_type": "markdown",
      "source": [
        "# Dynamic Programming"
      ],
      "metadata": {
        "id": "9qY2RIy70APy"
      }
    },
    {
      "cell_type": "markdown",
      "source": [
        "## Fibonacci"
      ],
      "metadata": {
        "id": "Izy0ILhs0DAm"
      }
    },
    {
      "cell_type": "code",
      "source": [
        "import matplotlib.pyplot as plt\n",
        "\n",
        "def testIt(fun, vals=[5, 10, 15, 20, 25]):\n",
        "    res = []\n",
        "    for n in vals:\n",
        "        x = %timeit -o fun(n)\n",
        "        res.append(sum(x.timings)/len(x.timings))\n",
        "        print(res[-1])\n",
        "\n",
        "    plt.plot(res)"
      ],
      "metadata": {
        "id": "_Pq2Wa2Xrad-"
      },
      "execution_count": null,
      "outputs": []
    },
    {
      "cell_type": "markdown",
      "source": [
        "$$\n",
        "F(n) = \\begin{cases}\n",
        "0 & n = 0\\\\\n",
        "1 & n = 1\\\\\n",
        "F(n - 1) + F(n - 2) & n > 1\n",
        "\\end{cases}\n",
        "$$"
      ],
      "metadata": {
        "id": "a1lvAsJzwEAJ"
      }
    },
    {
      "cell_type": "markdown",
      "source": [
        "### The best fibonacci"
      ],
      "metadata": {
        "id": "0iMnihrG0Eaj"
      }
    },
    {
      "cell_type": "code",
      "execution_count": null,
      "metadata": {
        "id": "e-52EvqsrJz6"
      },
      "outputs": [],
      "source": [
        "def bestFibonacci(n):\n",
        "    t1, t2 = 0, 1\n",
        "    for i in range(n):\n",
        "        t1, t2 = t2, t1 + t2\n",
        "\n",
        "    return t1"
      ]
    },
    {
      "cell_type": "code",
      "source": [
        "bestFibonacci(20)"
      ],
      "metadata": {
        "colab": {
          "base_uri": "https://localhost:8080/"
        },
        "id": "SBSwOf2UrXms",
        "outputId": "9cceb73a-c8e9-42b4-a2ec-097b2abb2a6f"
      },
      "execution_count": null,
      "outputs": [
        {
          "output_type": "execute_result",
          "data": {
            "text/plain": [
              "6765"
            ]
          },
          "metadata": {},
          "execution_count": 2
        }
      ]
    },
    {
      "cell_type": "code",
      "source": [
        "testIt(bestFibonacci)"
      ],
      "metadata": {
        "colab": {
          "base_uri": "https://localhost:8080/",
          "height": 459
        },
        "id": "FHH_Sey8sBkw",
        "outputId": "315542d1-72c8-43cc-f7ed-208cddf43540"
      },
      "execution_count": null,
      "outputs": [
        {
          "output_type": "stream",
          "name": "stdout",
          "text": [
            "589 ns ± 9 ns per loop (mean ± std. dev. of 7 runs, 1000000 loops each)\n",
            "5.892477118571832e-07\n",
            "879 ns ± 115 ns per loop (mean ± std. dev. of 7 runs, 1000000 loops each)\n",
            "8.7858485742858e-07\n",
            "1.25 µs ± 214 ns per loop (mean ± std. dev. of 7 runs, 1000000 loops each)\n",
            "1.2466755672857225e-06\n",
            "1.57 µs ± 189 ns per loop (mean ± std. dev. of 7 runs, 1000000 loops each)\n",
            "1.5678257634285565e-06\n",
            "1.88 µs ± 255 ns per loop (mean ± std. dev. of 7 runs, 1000000 loops each)\n",
            "1.88016997014282e-06\n"
          ]
        },
        {
          "output_type": "display_data",
          "data": {
            "text/plain": [
              "<Figure size 432x288 with 1 Axes>"
            ],
            "image/png": "[encoded data removed]"
          },
          "metadata": {
            "needs_background": "light"
          }
        }
      ]
    },
    {
      "cell_type": "code",
      "source": [
        "def worstFibonacci(n):\n",
        "    if n < 2:\n",
        "        return n\n",
        "    else:\n",
        "        return worstFibonacci(n-1) + worstFibonacci(n-2)"
      ],
      "metadata": {
        "id": "FmGBhhkhsIfl"
      },
      "execution_count": null,
      "outputs": []
    },
    {
      "cell_type": "code",
      "source": [
        "worstFibonacci(20)"
      ],
      "metadata": {
        "colab": {
          "base_uri": "https://localhost:8080/"
        },
        "id": "R52lIa5zu9p2",
        "outputId": "5b368eb1-c331-42ff-9e6e-ff4fb775456d"
      },
      "execution_count": null,
      "outputs": [
        {
          "output_type": "execute_result",
          "data": {
            "text/plain": [
              "6765"
            ]
          },
          "metadata": {},
          "execution_count": 27
        }
      ]
    },
    {
      "cell_type": "code",
      "source": [
        "testIt(worstFibonacci)"
      ],
      "metadata": {
        "colab": {
          "base_uri": "https://localhost:8080/",
          "height": 448
        },
        "id": "__qdFWWztg95",
        "outputId": "33072c93-c71a-4a6f-f08e-c91b44481919"
      },
      "execution_count": null,
      "outputs": [
        {
          "output_type": "stream",
          "name": "stdout",
          "text": [
            "2.19 µs ± 211 ns per loop (mean ± std. dev. of 7 runs, 1000000 loops each)\n",
            "2.1893309257142976e-06\n",
            "21.4 µs ± 371 ns per loop (mean ± std. dev. of 7 runs, 10000 loops each)\n",
            "2.1401468885713778e-05\n",
            "237 µs ± 4.21 µs per loop (mean ± std. dev. of 7 runs, 1000 loops each)\n",
            "0.00023708626271430996\n",
            "2.65 ms ± 51.8 µs per loop (mean ± std. dev. of 7 runs, 100 loops each)\n",
            "0.0026474262985714506\n",
            "29.4 ms ± 614 µs per loop (mean ± std. dev. of 7 runs, 10 loops each)\n",
            "0.02943220434285487\n"
          ]
        },
        {
          "output_type": "display_data",
          "data": {
            "text/plain": [
              "<Figure size 432x288 with 1 Axes>"
            ],
            "image/png": "[encoded data removed]"
          },
          "metadata": {
            "needs_background": "light"
          }
        }
      ]
    },
    {
      "cell_type": "code",
      "source": [
        "def bottomUpDPFibonacci(n):\n",
        "    T = [-1]*(n+1)\n",
        "    T[0] = 0\n",
        "    T[1] = 1\n",
        "    def _f(x):\n",
        "        if T[x] == -1:\n",
        "            T[x] = _f(x-1) + _f(x-2)\n",
        "        return T[x]\n",
        "\n",
        "    return _f(n)"
      ],
      "metadata": {
        "id": "nOwpUjXytzP9"
      },
      "execution_count": null,
      "outputs": []
    },
    {
      "cell_type": "code",
      "source": [
        "bottomUpDPFibonacci(20)"
      ],
      "metadata": {
        "colab": {
          "base_uri": "https://localhost:8080/"
        },
        "id": "mcuXw2Flu5hs",
        "outputId": "6c9b6e70-6e7d-47d8-98ac-9ee8ad4fe514"
      },
      "execution_count": null,
      "outputs": [
        {
          "output_type": "execute_result",
          "data": {
            "text/plain": [
              "6765"
            ]
          },
          "metadata": {},
          "execution_count": 26
        }
      ]
    },
    {
      "cell_type": "code",
      "source": [
        "testIt(bottomUpDPFibonacci)"
      ],
      "metadata": {
        "colab": {
          "base_uri": "https://localhost:8080/",
          "height": 459
        },
        "id": "Mq7fWTqLu7v0",
        "outputId": "0dfffb49-0995-442a-e72f-e5089873a070"
      },
      "execution_count": null,
      "outputs": [
        {
          "output_type": "stream",
          "name": "stdout",
          "text": [
            "2.98 µs ± 1.27 µs per loop (mean ± std. dev. of 7 runs, 100000 loops each)\n",
            "2.9790328614292e-06\n",
            "3.9 µs ± 56.5 ns per loop (mean ± std. dev. of 7 runs, 100000 loops each)\n",
            "3.904520407143082e-06\n",
            "5.7 µs ± 101 ns per loop (mean ± std. dev. of 7 runs, 100000 loops each)\n",
            "5.70078843857118e-06\n",
            "7.47 µs ± 80.6 ns per loop (mean ± std. dev. of 7 runs, 100000 loops each)\n",
            "7.471137662856953e-06\n",
            "9.21 µs ± 17.9 ns per loop (mean ± std. dev. of 7 runs, 100000 loops each)\n",
            "9.207111211428259e-06\n"
          ]
        },
        {
          "output_type": "display_data",
          "data": {
            "text/plain": [
              "<Figure size 432x288 with 1 Axes>"
            ],
            "image/png": "[encoded data removed]"
          },
          "metadata": {
            "needs_background": "light"
          }
        }
      ]
    },
    {
      "cell_type": "code",
      "source": [
        "def topDownDPFibonacci(n):\n",
        "    T = [-1]*(n+1)\n",
        "    T[0] = 0\n",
        "    T[1] = 1\n",
        "    for i in range(2, n+1):\n",
        "        T[i] = T[i-1] + T[i-2]\n",
        "\n",
        "    return T[n] "
      ],
      "metadata": {
        "id": "OZBm4aqzvHOI"
      },
      "execution_count": null,
      "outputs": []
    },
    {
      "cell_type": "code",
      "source": [
        "topDownDPFibonacci(20)"
      ],
      "metadata": {
        "colab": {
          "base_uri": "https://localhost:8080/"
        },
        "id": "G3SPTT4M0Fkb",
        "outputId": "6d2e39e8-4c69-425e-ad82-780b40b60f88"
      },
      "execution_count": null,
      "outputs": [
        {
          "output_type": "execute_result",
          "data": {
            "text/plain": [
              "6765"
            ]
          },
          "metadata": {},
          "execution_count": 31
        }
      ]
    },
    {
      "cell_type": "code",
      "source": [
        "testIt(topDownDPFibonacci)"
      ],
      "metadata": {
        "colab": {
          "base_uri": "https://localhost:8080/",
          "height": 459
        },
        "id": "DLd4JV2i0HfO",
        "outputId": "79f54f29-5b9b-48ec-8a92-0151ae9352fa"
      },
      "execution_count": null,
      "outputs": [
        {
          "output_type": "stream",
          "name": "stdout",
          "text": [
            "1.12 µs ± 9.65 ns per loop (mean ± std. dev. of 7 runs, 1000000 loops each)\n",
            "1.1239936522856623e-06\n",
            "1.86 µs ± 8.98 ns per loop (mean ± std. dev. of 7 runs, 1000000 loops each)\n",
            "1.860977500285701e-06\n",
            "2.69 µs ± 44.9 ns per loop (mean ± std. dev. of 7 runs, 100000 loops each)\n",
            "2.6933035985705697e-06\n",
            "3.56 µs ± 33.7 ns per loop (mean ± std. dev. of 7 runs, 100000 loops each)\n",
            "3.557870912857522e-06\n",
            "4.34 µs ± 77.6 ns per loop (mean ± std. dev. of 7 runs, 100000 loops each)\n",
            "4.344632940000598e-06\n"
          ]
        },
        {
          "output_type": "display_data",
          "data": {
            "text/plain": [
              "<Figure size 432x288 with 1 Axes>"
            ],
            "image/png": "[encoded data removed]"
          },
          "metadata": {
            "needs_background": "light"
          }
        }
      ]
    },
    {
      "cell_type": "markdown",
      "source": [
        "## Coins"
      ],
      "metadata": {
        "id": "uiGEzT7_qW2P"
      }
    },
    {
      "cell_type": "markdown",
      "source": [
        "$$\n",
        "C(n) = \\begin{cases}\n",
        "0 & n = 0\\\\\n",
        "1 + min([C(n-di)]) & n > 0, \\forall di \\le n\n",
        "\\end{cases}\n",
        "$$"
      ],
      "metadata": {
        "id": "Enn8FPIbsdzk"
      }
    },
    {
      "cell_type": "code",
      "source": [
        "def testCoins(func, d, c=[10, 20, 30, 40, 50]):\n",
        "    res = []\n",
        "    for n in c:\n",
        "        x = %timeit -o func(n, d)\n",
        "        res.append(sum(x.timings)/len(x.timings))\n",
        "        print(res[-1])\n",
        "\n",
        "    plt.plot(res) "
      ],
      "metadata": {
        "id": "RHxVkthAriSE"
      },
      "execution_count": null,
      "outputs": []
    },
    {
      "cell_type": "markdown",
      "source": [
        "### Greedy coins"
      ],
      "metadata": {
        "id": "PKQK4oCIqaYH"
      }
    },
    {
      "cell_type": "code",
      "source": [
        "def greedyCoins(c, d):\n",
        "    coins = []\n",
        "    nc = 0\n",
        "    for di in reversed(d):\n",
        "        if di <= c:\n",
        "            coins.append((c // di, di))\n",
        "            nc += coins[-1][0]\n",
        "            c = c % di\n",
        "    return nc, coins"
      ],
      "metadata": {
        "id": "2xNMtW-v0MUs"
      },
      "execution_count": null,
      "outputs": []
    },
    {
      "cell_type": "code",
      "source": [
        "d = [1, 5, 10, 20, 50]"
      ],
      "metadata": {
        "id": "FHmf9OgOrMjl"
      },
      "execution_count": null,
      "outputs": []
    },
    {
      "cell_type": "code",
      "source": [
        "greedyCoins(40, d)"
      ],
      "metadata": {
        "colab": {
          "base_uri": "https://localhost:8080/"
        },
        "id": "LWbNdfhFrP6s",
        "outputId": "d142a860-ab09-4e4b-87fa-af67fa1064eb"
      },
      "execution_count": null,
      "outputs": [
        {
          "output_type": "execute_result",
          "data": {
            "text/plain": [
              "(2, [(2, 20)])"
            ]
          },
          "metadata": {},
          "execution_count": 3
        }
      ]
    },
    {
      "cell_type": "code",
      "source": [
        "greedyCoins(87, d)"
      ],
      "metadata": {
        "colab": {
          "base_uri": "https://localhost:8080/"
        },
        "id": "Dd60ZoaPrR4N",
        "outputId": "298d56c0-2066-434f-8f18-afaedec3bff1"
      },
      "execution_count": null,
      "outputs": [
        {
          "output_type": "execute_result",
          "data": {
            "text/plain": [
              "(6, [(1, 50), (1, 20), (1, 10), (1, 5), (2, 1)])"
            ]
          },
          "metadata": {},
          "execution_count": 4
        }
      ]
    },
    {
      "cell_type": "code",
      "source": [
        "testCoins(greedyCoins, d)"
      ],
      "metadata": {
        "colab": {
          "base_uri": "https://localhost:8080/",
          "height": 459
        },
        "id": "4yta-UaRrYGX",
        "outputId": "1a1cab48-8aec-4941-9a29-95aa7d27f51c"
      },
      "execution_count": null,
      "outputs": [
        {
          "output_type": "stream",
          "name": "stdout",
          "text": [
            "604 ns ± 7.14 ns per loop (mean ± std. dev. of 7 runs, 1000000 loops each)\n",
            "6.03805322714298e-07\n",
            "596 ns ± 10.4 ns per loop (mean ± std. dev. of 7 runs, 1000000 loops each)\n",
            "5.955819365714368e-07\n",
            "736 ns ± 7.51 ns per loop (mean ± std. dev. of 7 runs, 1000000 loops each)\n",
            "7.360268514285541e-07\n",
            "595 ns ± 8.58 ns per loop (mean ± std. dev. of 7 runs, 1000000 loops each)\n",
            "5.950303074285525e-07\n",
            "597 ns ± 6.97 ns per loop (mean ± std. dev. of 7 runs, 1000000 loops each)\n",
            "5.974738370000036e-07\n"
          ]
        },
        {
          "output_type": "display_data",
          "data": {
            "text/plain": [
              "<Figure size 432x288 with 1 Axes>"
            ],
            "image/png": "[encoded data removed]"
          },
          "metadata": {
            "needs_background": "light"
          }
        }
      ]
    },
    {
      "cell_type": "markdown",
      "source": [
        "### Naive recursive"
      ],
      "metadata": {
        "id": "J1Qpm59SsKEs"
      }
    },
    {
      "cell_type": "code",
      "source": [
        "def naiveCoins(c, d):\n",
        "    if c == 0:\n",
        "        return 0\n",
        "    temp = []\n",
        "    for di in d:\n",
        "        if di <= c:\n",
        "            temp.append(naiveCoins(c - di, d))\n",
        "    return 1 + min(temp)"
      ],
      "metadata": {
        "id": "tGPS8Xn7sEGt"
      },
      "execution_count": null,
      "outputs": []
    },
    {
      "cell_type": "code",
      "source": [
        "naiveCoins(40, d)"
      ],
      "metadata": {
        "colab": {
          "base_uri": "https://localhost:8080/"
        },
        "id": "DSEu2Ooat4--",
        "outputId": "c8e3de32-615a-43eb-bad5-860cb011d974"
      },
      "execution_count": null,
      "outputs": [
        {
          "output_type": "execute_result",
          "data": {
            "text/plain": [
              "2"
            ]
          },
          "metadata": {},
          "execution_count": 18
        }
      ]
    },
    {
      "cell_type": "code",
      "source": [
        "naiveCoins(40, [1, 5, 10, 20 , 25, 50])"
      ],
      "metadata": {
        "colab": {
          "base_uri": "https://localhost:8080/"
        },
        "id": "_uLG3H5Et7Xs",
        "outputId": "55472a26-14c1-404c-da79-a73927f32064"
      },
      "execution_count": null,
      "outputs": [
        {
          "output_type": "execute_result",
          "data": {
            "text/plain": [
              "2"
            ]
          },
          "metadata": {},
          "execution_count": 19
        }
      ]
    },
    {
      "cell_type": "code",
      "source": [
        "testCoins(naiveCoins, d)"
      ],
      "metadata": {
        "colab": {
          "base_uri": "https://localhost:8080/",
          "height": 448
        },
        "id": "2E4bS-TkuFpy",
        "outputId": "d8e959d3-d48d-4964-f0a3-663d8798cb81"
      },
      "execution_count": null,
      "outputs": [
        {
          "output_type": "stream",
          "name": "stdout",
          "text": [
            "18.1 µs ± 56.7 ns per loop (mean ± std. dev. of 7 runs, 100000 loops each)\n",
            "1.8082763949999907e-05\n",
            "403 µs ± 6.05 µs per loop (mean ± std. dev. of 7 runs, 1000 loops each)\n",
            "0.0004029856031428543\n",
            "8.74 ms ± 78.7 µs per loop (mean ± std. dev. of 7 runs, 100 loops each)\n",
            "0.00874097456142863\n",
            "187 ms ± 1.3 ms per loop (mean ± std. dev. of 7 runs, 10 loops each)\n",
            "0.1874510373285716\n",
            "4.02 s ± 18.1 ms per loop (mean ± std. dev. of 7 runs, 1 loop each)\n",
            "4.015128388857144\n"
          ]
        },
        {
          "output_type": "display_data",
          "data": {
            "text/plain": [
              "<Figure size 432x288 with 1 Axes>"
            ],
            "image/png": "[encoded data removed]"
          },
          "metadata": {
            "needs_background": "light"
          }
        }
      ]
    },
    {
      "cell_type": "markdown",
      "source": [
        "### Dynamic Programming Coins"
      ],
      "metadata": {
        "id": "1UBSYaAduvHL"
      }
    },
    {
      "cell_type": "markdown",
      "source": [
        "#### Top Down"
      ],
      "metadata": {
        "id": "adj9ES_-vbkS"
      }
    },
    {
      "cell_type": "code",
      "source": [
        "import math\n",
        "\n",
        "def dpCoins(c, d):\n",
        "    T = [-1]*(c+1)\n",
        "    T[0] = 0\n",
        "    S = [0]*(c+1)\n",
        "    for i in range(1, c+1):\n",
        "        m = math.inf\n",
        "        s = -1\n",
        "        for di in d:\n",
        "            if di > i: break\n",
        "            if T[i - di] < m:\n",
        "                m = T[i - di]\n",
        "                s = di\n",
        "        T[i] = 1 + m\n",
        "        S[i] = s\n",
        "\n",
        "    return T, S"
      ],
      "metadata": {
        "id": "G02InK2Cuux1"
      },
      "execution_count": null,
      "outputs": []
    },
    {
      "cell_type": "code",
      "source": [
        "c = 87\n",
        "T, S = dpCoins(c, d)\n",
        "print(f\"Number of coins {T[c]}\")\n",
        "while c > 0:\n",
        "    print(S[c])\n",
        "    c -= S[c]"
      ],
      "metadata": {
        "colab": {
          "base_uri": "https://localhost:8080/"
        },
        "id": "FyxHYH-YwVI8",
        "outputId": "4ee4c985-29bb-48d8-acbe-e6cfb22d8dff"
      },
      "execution_count": null,
      "outputs": [
        {
          "output_type": "stream",
          "name": "stdout",
          "text": [
            "Number of coins 6\n",
            "1\n",
            "1\n",
            "5\n",
            "10\n",
            "20\n",
            "50\n"
          ]
        }
      ]
    },
    {
      "cell_type": "code",
      "source": [
        "c = 40\n",
        "T, S = dpCoins(c, [1, 5, 10, 20, 25, 50])\n",
        "print(f\"Number of coins {T[c]}\")\n",
        "while c > 0:\n",
        "    print(S[c])\n",
        "    c -= S[c]"
      ],
      "metadata": {
        "colab": {
          "base_uri": "https://localhost:8080/"
        },
        "id": "X4dYOeUDwX1n",
        "outputId": "783fa234-df9e-42ea-e4be-8369a078e7ac"
      },
      "execution_count": null,
      "outputs": [
        {
          "output_type": "stream",
          "name": "stdout",
          "text": [
            "Number of coins 2\n",
            "20\n",
            "20\n"
          ]
        }
      ]
    },
    {
      "cell_type": "code",
      "source": [
        "testCoins(dpCoins, d)"
      ],
      "metadata": {
        "colab": {
          "base_uri": "https://localhost:8080/",
          "height": 459
        },
        "id": "qynblZ9IyQLE",
        "outputId": "e53edc7b-435b-4a0e-e029-732c7102be03"
      },
      "execution_count": null,
      "outputs": [
        {
          "output_type": "stream",
          "name": "stdout",
          "text": [
            "4.44 µs ± 92.3 ns per loop (mean ± std. dev. of 7 runs, 100000 loops each)\n",
            "4.437195139999922e-06\n",
            "9.46 µs ± 116 ns per loop (mean ± std. dev. of 7 runs, 100000 loops each)\n",
            "9.464685637142664e-06\n",
            "15.2 µs ± 140 ns per loop (mean ± std. dev. of 7 runs, 100000 loops each)\n",
            "1.5202827785714133e-05\n",
            "21.4 µs ± 648 ns per loop (mean ± std. dev. of 7 runs, 10000 loops each)\n",
            "2.1420715800000573e-05\n",
            "26.7 µs ± 790 ns per loop (mean ± std. dev. of 7 runs, 10000 loops each)\n",
            "2.6712010257144165e-05\n"
          ]
        },
        {
          "output_type": "display_data",
          "data": {
            "text/plain": [
              "<Figure size 432x288 with 1 Axes>"
            ],
            "image/png": "[encoded data removed]"
          },
          "metadata": {
            "needs_background": "light"
          }
        }
      ]
    },
    {
      "cell_type": "code",
      "source": [
        "import math\n",
        "\n",
        "def dpbuCoins(c, d):\n",
        "    T = [-1]*(c+1)\n",
        "    T[0] = 0\n",
        "    S = [0]*(c+1)\n",
        "    \n",
        "    def f(n):\n",
        "        m = math.inf\n",
        "        s = 0\n",
        "        for di in d:\n",
        "            if di > n: break\n",
        "            if T[n - di] == -1:\n",
        "                f(n - di)\n",
        "            if T[n - di] < m:\n",
        "                m = T[n - di]\n",
        "                s = di\n",
        "        T[n] = 1 + m\n",
        "        S[n] = s\n",
        "\n",
        "    f(c)\n",
        "\n",
        "    return T, S"
      ],
      "metadata": {
        "id": "9WVhbnsDyWzu"
      },
      "execution_count": null,
      "outputs": []
    },
    {
      "cell_type": "code",
      "source": [
        "c = 40\n",
        "T, S = dpbuCoins(c, d)\n",
        "print(T)\n",
        "print(S)"
      ],
      "metadata": {
        "colab": {
          "base_uri": "https://localhost:8080/"
        },
        "id": "PIqVW_WvzdV2",
        "outputId": "fed05e63-bc96-4403-efb9-8f375b41301f"
      },
      "execution_count": null,
      "outputs": [
        {
          "output_type": "stream",
          "name": "stdout",
          "text": [
            "[0, 1, 2, 3, 4, 1, 2, 3, 4, 5, 1, 2, 3, 4, 5, 2, 3, 4, 5, 6, 1, 2, 3, 4, 5, 2, 3, 4, 5, 6, 2, 3, 4, 5, 6, 3, 4, 5, 6, 7, 2]\n",
            "[0, 1, 1, 1, 1, 5, 1, 1, 1, 1, 10, 1, 1, 1, 1, 5, 1, 1, 1, 1, 20, 1, 1, 1, 1, 5, 1, 1, 1, 1, 10, 1, 1, 1, 1, 5, 1, 1, 1, 1, 20]\n"
          ]
        }
      ]
    },
    {
      "cell_type": "code",
      "source": [
        "testCoins(dpbuCoins, d)"
      ],
      "metadata": {
        "colab": {
          "base_uri": "https://localhost:8080/",
          "height": 459
        },
        "id": "kcEwzjX0zhbN",
        "outputId": "d7686813-37c3-4877-a41f-35fc6bfff7bb"
      },
      "execution_count": null,
      "outputs": [
        {
          "output_type": "stream",
          "name": "stdout",
          "text": [
            "6.1 µs ± 45.7 ns per loop (mean ± std. dev. of 7 runs, 100000 loops each)\n",
            "6.095953851428736e-06\n",
            "13.8 µs ± 124 ns per loop (mean ± std. dev. of 7 runs, 100000 loops each)\n",
            "1.3779261568571266e-05\n",
            "22.1 µs ± 498 ns per loop (mean ± std. dev. of 7 runs, 10000 loops each)\n",
            "2.208155220000013e-05\n",
            "31.4 µs ± 428 ns per loop (mean ± std. dev. of 7 runs, 10000 loops each)\n",
            "3.136422981427976e-05\n",
            "39.6 µs ± 869 ns per loop (mean ± std. dev. of 7 runs, 10000 loops each)\n",
            "3.9579882157142624e-05\n"
          ]
        },
        {
          "output_type": "display_data",
          "data": {
            "text/plain": [
              "<Figure size 432x288 with 1 Axes>"
            ],
            "image/png": "[encoded data removed]"
          },
          "metadata": {
            "needs_background": "light"
          }
        }
      ]
    },
    {
      "cell_type": "code",
      "source": [],
      "metadata": {
        "id": "Hwe3uym0zyHy"
      },
      "execution_count": null,
      "outputs": []
    }
  ]
}